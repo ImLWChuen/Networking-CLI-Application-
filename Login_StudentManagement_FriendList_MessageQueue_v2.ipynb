{
  "nbformat": 4,
  "nbformat_minor": 0,
  "metadata": {
    "colab": {
      "provenance": []
    },
    "kernelspec": {
      "name": "python3",
      "display_name": "Python 3"
    },
    "language_info": {
      "name": "python"
    }
  },
  "cells": [
    {
      "cell_type": "markdown",
      "source": [
        "# Group 36\n",
        "\n",
        "# Members:\n",
        "> Lim Jie Shen (23303397) \\\\\n",
        "> Loh Wei Chuen (23303986) \\\\\n",
        "> Lum Yeen Thoong (23304739) \\\\\n",
        "---"
      ],
      "metadata": {
        "id": "r6_gUvL0qnUN"
      }
    },
    {
      "cell_type": "markdown",
      "source": [
        "#Project Title: Networking CLI app\n",
        "\n",
        "---"
      ],
      "metadata": {
        "id": "Qx5Ezx6SrqC6"
      }
    },
    {
      "cell_type": "markdown",
      "source": [
        "##Project Specification:\n",
        "---"
      ],
      "metadata": {
        "id": "AbBKfzs-qpZq"
      }
    },
    {
      "cell_type": "markdown",
      "source": [
        "###Inputs\n",
        "\n",
        "1.\n",
        "\n",
        "2.\n",
        "\n",
        "3.\n",
        "\n",
        "4.\n",
        "\n",
        "Preloaded data files:\n",
        "\n",
        "1.\n",
        "\n",
        "2.\n",
        "\n",
        "3.\n",
        "\n",
        "4.\n",
        "\n",
        "Menu selections for program operations:\n",
        "\n",
        "1. Main Menu:\n",
        "\n",
        "2.\n",
        "\n",
        "3.\n",
        "\n",
        "4.\n",
        "\n",
        "5."
      ],
      "metadata": {
        "id": "cRPh4nHlrnBl"
      }
    },
    {
      "cell_type": "markdown",
      "source": [
        "###Process\n",
        "User Management:\n",
        "1.\n"
      ],
      "metadata": {
        "id": "Nf-PvDFvsGdR"
      }
    },
    {
      "cell_type": "markdown",
      "source": [
        "### Outputs\n",
        "1.\n",
        "\n",
        "---"
      ],
      "metadata": {
        "id": "OFojOzzasM_g"
      }
    },
    {
      "cell_type": "markdown",
      "source": [
        "###Constraints\n",
        "1.\n",
        "---"
      ],
      "metadata": {
        "id": "Xl13njxQsdWB"
      }
    },
    {
      "cell_type": "markdown",
      "source": [
        "###Assumptions\n",
        "1.\n",
        "\n",
        "---"
      ],
      "metadata": {
        "id": "m_VXCQ6VsnuU"
      }
    },
    {
      "cell_type": "markdown",
      "source": [
        "### Deliverables\n",
        "1.\n",
        "\n",
        "Data files:\n",
        "1.\n",
        "\n",
        "---"
      ],
      "metadata": {
        "id": "UlQtrJ_OszDF"
      }
    },
    {
      "cell_type": "markdown",
      "source": [
        "##Problem Analysis"
      ],
      "metadata": {
        "id": "XEHULz4CtAHW"
      }
    },
    {
      "cell_type": "markdown",
      "source": [
        "---\n",
        "###Program Scenario"
      ],
      "metadata": {
        "id": "uBOF3_cBtBNy"
      }
    },
    {
      "cell_type": "markdown",
      "source": [
        "---\n",
        "### Program Requirements\n",
        "1.\n",
        "\n",
        "---"
      ],
      "metadata": {
        "id": "QZzSfqXFs6uW"
      }
    },
    {
      "cell_type": "markdown",
      "source": [
        "### Problem Statement\n",
        "\n",
        "\n",
        "---"
      ],
      "metadata": {
        "id": "MqsBRswPtKEx"
      }
    },
    {
      "cell_type": "markdown",
      "source": [
        "### Entities\n",
        "1.\n",
        "---"
      ],
      "metadata": {
        "id": "E9XeK868tObj"
      }
    },
    {
      "cell_type": "markdown",
      "source": [
        "### Relationships\n",
        "\n",
        "---"
      ],
      "metadata": {
        "id": "yQmuJdLgtSzg"
      }
    },
    {
      "cell_type": "markdown",
      "source": [
        "###How to Run the Program\n",
        "Prerequisites\n",
        "1. a\n",
        "\n",
        "Setup\n",
        "1. b\n",
        "\n",
        "Execution\n",
        "1. c\n",
        "---"
      ],
      "metadata": {
        "id": "9Eo7b1m5tXzs"
      }
    },
    {
      "cell_type": "markdown",
      "source": [
        "# Programming Design & Solution"
      ],
      "metadata": {
        "id": "3gPXie7std0a"
      }
    },
    {
      "cell_type": "markdown",
      "source": [
        "##UML Diagram and relationship"
      ],
      "metadata": {
        "id": "b1un7unbtmVu"
      }
    },
    {
      "cell_type": "markdown",
      "source": [
        "Please review the UML Diagram for ___ uploaded to [Google Drive](link).\n",
        "\n",
        "\n",
        "It is highly recommended to download the SVG file for clearer visibility of its contents. Download it [here](link)."
      ],
      "metadata": {
        "id": "oZCHfEATtsgp"
      }
    },
    {
      "cell_type": "markdown",
      "source": [
        "---\n",
        "# Input Files"
      ],
      "metadata": {
        "id": "vffOjmE5t71S"
      }
    },
    {
      "cell_type": "markdown",
      "source": [
        "credentials.txt is ordered as studentEmail << password"
      ],
      "metadata": {
        "id": "8_VeWgcCEIvS"
      }
    },
    {
      "cell_type": "code",
      "source": [
        "%%writefile credentials.txt\n",
        "alice@student.usm.my,Alice2025\n",
        "bob@student.usm.my,Bob2025\n",
        "charlie@student.usm.my,Charlie2025\n",
        "dana@student.usm.my,Dana2025\n",
        "ethan@student.usm.my,Ethan2025\n",
        "farah@student.usm.my,Farah2025\n",
        "grace@student.usm.my,Grace2025\n",
        "henry@student.usm.my,Henry2025\n",
        "ivy@student.usm.my,Ivy2025\n",
        "jack@student.usm.my,Jack2025"
      ],
      "metadata": {
        "id": "LfbaBg0aEQhl",
        "colab": {
          "base_uri": "https://localhost:8080/"
        },
        "outputId": "b02c8955-2c9b-44c9-a95c-7ab9bfabe1ca"
      },
      "execution_count": 2315,
      "outputs": [
        {
          "output_type": "stream",
          "name": "stdout",
          "text": [
            "Overwriting credentials.txt\n"
          ]
        }
      ]
    },
    {
      "cell_type": "markdown",
      "source": [
        "profiles.txt is ordered as matricNo << fullName << studentEmail << courseName"
      ],
      "metadata": {
        "id": "M5R_PqUUXtEP"
      }
    },
    {
      "cell_type": "code",
      "execution_count": 2316,
      "metadata": {
        "id": "O6eYyhzSlFTm",
        "colab": {
          "base_uri": "https://localhost:8080/"
        },
        "outputId": "ba825d9b-ec85-4883-d103-3a289f99b2e0"
      },
      "outputs": [
        {
          "output_type": "stream",
          "name": "stdout",
          "text": [
            "Overwriting profiles.txt\n"
          ]
        }
      ],
      "source": [
        "%%writefile profiles.txt\n",
        "23301001,Alice Johnson,alice@student.usm.my,Software Engineering\n",
        "23302002,Bob Smith,bob@student.usm.my,Intelligent Computing\n",
        "23303003,Charlie Lee,charlie@student.usm.my,Computing Infrastructure\n",
        "23304004,Dana White,dana@student.usm.my,Software Engineering\n",
        "23305005,Ethan Tan,ethan@student.usm.my,Intelligent Computing\n",
        "23306006,Farah Lim,farah@student.usm.my,Computing Infrastructure\n",
        "23307007,Grace Wong,grace@student.usm.my,Software Engineering\n",
        "23308008,Henry Goh,henry@student.usm.my,Intelligent Computing\n",
        "23309009,Ivy Ng,ivy@student.usm.my,Computing Infrastructure\n",
        "23310010,Jack Lee,jack@student.usm.my,Software Engineering"
      ]
    },
    {
      "cell_type": "markdown",
      "source": [
        "friends.txt is ordered as matricNo_1 << matricNo_2\n"
      ],
      "metadata": {
        "id": "X5lQEEujDuW-"
      }
    },
    {
      "cell_type": "code",
      "source": [
        "%%writefile friends.txt\n",
        "23301001,23302002\n",
        "23301001,23303003\n",
        "23303003,23304004\n",
        "23305005,23306006\n",
        "23307007,23308008\n",
        "23309009,23310010"
      ],
      "metadata": {
        "id": "-mAQeCmDEyLm",
        "colab": {
          "base_uri": "https://localhost:8080/"
        },
        "outputId": "155c429d-50cf-44bd-ef7b-5f2b2be1b172"
      },
      "execution_count": 2317,
      "outputs": [
        {
          "output_type": "stream",
          "name": "stdout",
          "text": [
            "Overwriting friends.txt\n"
          ]
        }
      ]
    },
    {
      "cell_type": "markdown",
      "source": [
        "messages_matricNo.txt is formatted as:\n",
        "\n",
        "From : MatricNo_1\n",
        "\n",
        "message"
      ],
      "metadata": {
        "id": "GwNdVG6HFq3h"
      }
    },
    {
      "cell_type": "code",
      "source": [
        "%%writefile messages_23301001.txt\n",
        "From: 23302002\n",
        "Hey! Are you joining the Software Eng. workshop?\n",
        "\n",
        "From: 23303003\n",
        "Let's go to the park"
      ],
      "metadata": {
        "id": "BVEQsXa7Gxqj",
        "colab": {
          "base_uri": "https://localhost:8080/"
        },
        "outputId": "8e4632aa-55f7-4fab-b379-68f9b63d886a"
      },
      "execution_count": 2318,
      "outputs": [
        {
          "output_type": "stream",
          "name": "stdout",
          "text": [
            "Overwriting messages_23301001.txt\n"
          ]
        }
      ]
    },
    {
      "cell_type": "code",
      "source": [
        "%%writefile messages_23302002.txt\n",
        "From: 23301001\n",
        "Can you share the Intelligent Computing slides?"
      ],
      "metadata": {
        "id": "kXubsEwFG08k",
        "colab": {
          "base_uri": "https://localhost:8080/"
        },
        "outputId": "9d3ebbc7-418c-4750-a1e9-eaba1cc581aa"
      },
      "execution_count": 2319,
      "outputs": [
        {
          "output_type": "stream",
          "name": "stdout",
          "text": [
            "Overwriting messages_23302002.txt\n"
          ]
        }
      ]
    },
    {
      "cell_type": "code",
      "source": [
        "%%writefile messages_23303003.txt\n",
        "From: 23304004\n",
        "Great job today in Infra Lab!\n",
        "\n",
        "From: 23301001\n",
        "Sure!"
      ],
      "metadata": {
        "id": "-mu90SeDG5TH",
        "colab": {
          "base_uri": "https://localhost:8080/"
        },
        "outputId": "329b21ca-be3a-4d85-e190-35d1fc77e34b"
      },
      "execution_count": 2320,
      "outputs": [
        {
          "output_type": "stream",
          "name": "stdout",
          "text": [
            "Overwriting messages_23303003.txt\n"
          ]
        }
      ]
    },
    {
      "cell_type": "code",
      "source": [
        "%%writefile messages_23304004.txt\n",
        "From: 23303003\n",
        "Nice presentation today!"
      ],
      "metadata": {
        "id": "3_1qoN6-G9ec",
        "colab": {
          "base_uri": "https://localhost:8080/"
        },
        "outputId": "97367710-3360-4287-8126-1d51c8bf6a4c"
      },
      "execution_count": 2321,
      "outputs": [
        {
          "output_type": "stream",
          "name": "stdout",
          "text": [
            "Overwriting messages_23304004.txt\n"
          ]
        }
      ]
    },
    {
      "cell_type": "code",
      "source": [
        "%%writefile messages_23305005.txt\n",
        "From: 23306006\n",
        "Sent the lab report draft."
      ],
      "metadata": {
        "id": "0fKSa7U9G-ri",
        "colab": {
          "base_uri": "https://localhost:8080/"
        },
        "outputId": "cbe3f480-0343-4110-844b-488d5d847222"
      },
      "execution_count": 2322,
      "outputs": [
        {
          "output_type": "stream",
          "name": "stdout",
          "text": [
            "Overwriting messages_23305005.txt\n"
          ]
        }
      ]
    },
    {
      "cell_type": "code",
      "source": [
        "%%writefile messages_23306006.txt\n",
        "From: 23305005\n",
        "Team meeting at 5?"
      ],
      "metadata": {
        "id": "7ReCZrIhHDBv",
        "colab": {
          "base_uri": "https://localhost:8080/"
        },
        "outputId": "d2ea56df-206a-4c91-c4d8-0e1473e12478"
      },
      "execution_count": 2323,
      "outputs": [
        {
          "output_type": "stream",
          "name": "stdout",
          "text": [
            "Overwriting messages_23306006.txt\n"
          ]
        }
      ]
    },
    {
      "cell_type": "code",
      "source": [
        "%%writefile messages_23307007.txt\n",
        "From: 23308008\n",
        "Let's finish our Software Eng. task."
      ],
      "metadata": {
        "id": "mKhDnDuGHFTi",
        "colab": {
          "base_uri": "https://localhost:8080/"
        },
        "outputId": "7b92d24b-d5a2-4e25-c68b-468fb26b509f"
      },
      "execution_count": 2324,
      "outputs": [
        {
          "output_type": "stream",
          "name": "stdout",
          "text": [
            "Overwriting messages_23307007.txt\n"
          ]
        }
      ]
    },
    {
      "cell_type": "code",
      "source": [
        "%%writefile messages_23308008.txt\n",
        "From: 23307007\n",
        "Good input in today's discussion!"
      ],
      "metadata": {
        "id": "HQQ9IOW3HIIe",
        "colab": {
          "base_uri": "https://localhost:8080/"
        },
        "outputId": "49eac361-9afc-4933-fe43-c68b367e8b6c"
      },
      "execution_count": 2325,
      "outputs": [
        {
          "output_type": "stream",
          "name": "stdout",
          "text": [
            "Overwriting messages_23308008.txt\n"
          ]
        }
      ]
    },
    {
      "cell_type": "code",
      "source": [
        "%%writefile messages_23309009.txt\n",
        "From: 23310010\n",
        "Review notes ready!"
      ],
      "metadata": {
        "id": "U02ibXtrHKWD",
        "colab": {
          "base_uri": "https://localhost:8080/"
        },
        "outputId": "8583c62b-51c8-476d-ab1f-95190fd2604b"
      },
      "execution_count": 2326,
      "outputs": [
        {
          "output_type": "stream",
          "name": "stdout",
          "text": [
            "Overwriting messages_23309009.txt\n"
          ]
        }
      ]
    },
    {
      "cell_type": "code",
      "source": [
        "%%writefile messages_23310010.txt\n",
        "From: 23309009\n",
        "Mock test tonight?"
      ],
      "metadata": {
        "id": "GFPnBEscHMEj",
        "colab": {
          "base_uri": "https://localhost:8080/"
        },
        "outputId": "6cd28188-9fec-4e82-9f13-06928dd169b0"
      },
      "execution_count": 2327,
      "outputs": [
        {
          "output_type": "stream",
          "name": "stdout",
          "text": [
            "Overwriting messages_23310010.txt\n"
          ]
        }
      ]
    },
    {
      "cell_type": "markdown",
      "source": [
        "groups.txt is formatted as matricNo << course\n"
      ],
      "metadata": {
        "id": "Jjdu2JapPiPF"
      }
    },
    {
      "cell_type": "code",
      "source": [
        "%%writefile group.txt\n",
        "23301001, SE\n",
        "23304004, SE\n",
        "23307007, SE\n",
        "23310010, SE\n",
        "23303003, CI\n",
        "23306006, CI\n",
        "23309009, CI\n",
        "23302002, IC\n",
        "23305005, IC\n",
        "23308008, IC"
      ],
      "metadata": {
        "id": "cCb4pU3CPp9S",
        "colab": {
          "base_uri": "https://localhost:8080/"
        },
        "outputId": "cebadf9d-094b-4b58-ba18-18c2d2d1d8fc"
      },
      "execution_count": 2328,
      "outputs": [
        {
          "output_type": "stream",
          "name": "stdout",
          "text": [
            "Overwriting group.txt\n"
          ]
        }
      ]
    },
    {
      "cell_type": "markdown",
      "source": [
        "group_chat_course.txt is formatted as:\n",
        "\n",
        "matricNo: message\n"
      ],
      "metadata": {
        "id": "05jMYBlONvy4"
      }
    },
    {
      "cell_type": "code",
      "source": [
        "%%writefile group_chat_SE.txt\n",
        "23301001: Anyone started the use-case diagram for our SE assignment?\n",
        "23304004: I'm working on it now. Will share a draft tonight.\n",
        "23307007: I've listed the system actors in a doc — check Teams.\n",
        "23310010: Thanks! I'll start writing the user stories next."
      ],
      "metadata": {
        "id": "owUbcTYDOjAF",
        "colab": {
          "base_uri": "https://localhost:8080/"
        },
        "outputId": "af090b5d-fde0-4d1c-c6e4-4cba4df42125"
      },
      "execution_count": 2329,
      "outputs": [
        {
          "output_type": "stream",
          "name": "stdout",
          "text": [
            "Overwriting group_chat_SE.txt\n"
          ]
        }
      ]
    },
    {
      "cell_type": "code",
      "source": [
        "%%writefile group_chat_CI.txt\n",
        "23303003: Lab 3 setup isn't working on my VM. Anyone else?\n",
        "23306006: Same issue here, it's a permissions thing.\n",
        "23309009: Fixed mine by changing the script path. Want me to share?\n",
        "23303003: Yes please! Drop it here."
      ],
      "metadata": {
        "id": "RPPPdIaCOmNZ",
        "colab": {
          "base_uri": "https://localhost:8080/"
        },
        "outputId": "4be901d5-ab25-4d8b-edae-b71d5221b03f"
      },
      "execution_count": 2330,
      "outputs": [
        {
          "output_type": "stream",
          "name": "stdout",
          "text": [
            "Overwriting group_chat_CI.txt\n"
          ]
        }
      ]
    },
    {
      "cell_type": "code",
      "source": [
        "%%writefile group_chat_IC.txt\n",
        "23302002: Reminder: AI presentation is tomorrow!\n",
        "23305005: Let's meet at 2PM to rehearse.\n",
        "23308008: I've updated the slides with the latest confusion matrix.\n",
        "23302002: Nice! Let's aim for 10 minutes max per person."
      ],
      "metadata": {
        "id": "eG0GgxjLOriE",
        "colab": {
          "base_uri": "https://localhost:8080/"
        },
        "outputId": "fef7f7bb-5a42-40da-e2aa-4ea342368675"
      },
      "execution_count": 2331,
      "outputs": [
        {
          "output_type": "stream",
          "name": "stdout",
          "text": [
            "Overwriting group_chat_IC.txt\n"
          ]
        }
      ]
    },
    {
      "cell_type": "markdown",
      "source": [
        "actions.txt is formatted as action_type : data"
      ],
      "metadata": {
        "id": "qojPcRurQNpJ"
      }
    },
    {
      "cell_type": "code",
      "source": [
        "%%writefile actions.txt\n",
        "CREATE_PROFILE:CS1001\n",
        "ADD_FRIEND:CS1001,CS1002\n",
        "SEND_MESSAGE:CS1001,CS1002,\"Hey, how’s the project?\"\n",
        "CREATE_PROFILE:CS1003\n",
        "ADD_FRIEND:CS1003,CS1002\n",
        "SEND_MESSAGE:CS1003,CS1002,\"Want to study together?\""
      ],
      "metadata": {
        "id": "95RJaHwnQWR2",
        "colab": {
          "base_uri": "https://localhost:8080/"
        },
        "outputId": "f1d7033d-2d0a-4492-e8d3-70122739253e"
      },
      "execution_count": 2332,
      "outputs": [
        {
          "output_type": "stream",
          "name": "stdout",
          "text": [
            "Overwriting actions.txt\n"
          ]
        }
      ]
    },
    {
      "cell_type": "markdown",
      "source": [
        "# C++ Code"
      ],
      "metadata": {
        "id": "vEbyaJbz3xtm"
      }
    },
    {
      "cell_type": "markdown",
      "source": [
        "# User - Base Class"
      ],
      "metadata": {
        "id": "dgThjbyN5o2r"
      }
    },
    {
      "cell_type": "code",
      "source": [
        "%%writefile User.h\n",
        "#ifndef USER_H\n",
        "#define USER_H\n",
        "\n",
        "#include <iostream>\n",
        "using namespace std;\n",
        "\n",
        "class User {\n",
        "  private:\n",
        "    string password_; // User account password\n",
        "\n",
        "  protected:          // protected variable for Student child class to access directly\n",
        "    string email_;    // User account email\n",
        "\n",
        "  public:\n",
        "\n",
        "    //Constructor\n",
        "    User();\n",
        "    User(string email, string password);\n",
        "\n",
        "    //Accessor\n",
        "    string getEmail();\n",
        "    string getPassword();\n",
        "\n",
        "    //Mutator\n",
        "    void setEmail(string email);\n",
        "    void setPassword(string password);\n",
        "};\n",
        "\n",
        "#endif // USER_H"
      ],
      "metadata": {
        "id": "OvAvynK85uvy",
        "colab": {
          "base_uri": "https://localhost:8080/"
        },
        "outputId": "bcfa2506-ee0e-413b-d0a7-c84326ca3155"
      },
      "execution_count": 2333,
      "outputs": [
        {
          "output_type": "stream",
          "name": "stdout",
          "text": [
            "Overwriting User.h\n"
          ]
        }
      ]
    },
    {
      "cell_type": "code",
      "source": [
        "%%writefile User.cpp\n",
        "\n",
        "#include \"User.h\" // Include the User class header file\n",
        "\n",
        "// Default Constructor\n",
        "User::User(){\n",
        "  email_ = \"\";\n",
        "  password_ = \"\";\n",
        "}\n",
        "\n",
        "// Overloading constructor\n",
        "User::User(string email, string password){\n",
        "  email_ = email;\n",
        "  password_ = password;\n",
        "}\n",
        "\n",
        "// Setters\n",
        "void User::setEmail(string email) {email_ = email;}\n",
        "void User::setPassword(string password) {password_ = password;}\n",
        "\n",
        "// Getters\n",
        "string User::getEmail() {return email_;}\n",
        "string User::getPassword() {return password_;}"
      ],
      "metadata": {
        "id": "Pux2lgWs3xo-",
        "colab": {
          "base_uri": "https://localhost:8080/"
        },
        "outputId": "b2d1899d-ed53-49f3-cdf5-af293eb0c1ae"
      },
      "execution_count": 2334,
      "outputs": [
        {
          "output_type": "stream",
          "name": "stdout",
          "text": [
            "Overwriting User.cpp\n"
          ]
        }
      ]
    },
    {
      "cell_type": "markdown",
      "source": [
        "# Student class"
      ],
      "metadata": {
        "id": "fvjWvXsN5wkh"
      }
    },
    {
      "cell_type": "code",
      "source": [
        "%%writefile Student.h\n",
        "#ifndef STUDENT_H\n",
        "#define STUDENT_H\n",
        "\n",
        "#include \"User.h\" // Include the User class header file for inheritance\n",
        "\n",
        "class Student : public User{\n",
        "  private:\n",
        "    string matricNo_;      // Student Matric Number (e.g. 23300001)\n",
        "    string fullName_;      // Student Full Name (e.g. John Doe)\n",
        "    string courseName_;    // Student Course Name (e.g. Software Engineering)\n",
        "\n",
        "  public:\n",
        "\n",
        "    //Constructor\n",
        "    Student();\n",
        "    Student(string, string, string, string);\n",
        "    Student(string, string, string, string, string);\n",
        "\n",
        "    //Accessor\n",
        "    string getMatricNo();\n",
        "    string getFullName();\n",
        "    string getCourseName();\n",
        "\n",
        "    //Mutator\n",
        "    void setMatricNo(string);\n",
        "    void setFullName(string);\n",
        "    void setCourseName(string);\n",
        "\n",
        "    void printInfo() const; // print student info\n",
        "};\n",
        "\n",
        "#endif // STUDENT_H"
      ],
      "metadata": {
        "id": "BUuXaBdd30Cn",
        "colab": {
          "base_uri": "https://localhost:8080/"
        },
        "outputId": "222fc086-a678-48e8-c31d-2c15ef3d4ffe"
      },
      "execution_count": 2335,
      "outputs": [
        {
          "output_type": "stream",
          "name": "stdout",
          "text": [
            "Overwriting Student.h\n"
          ]
        }
      ]
    },
    {
      "cell_type": "code",
      "source": [
        "%%writefile Student.cpp\n",
        "\n",
        "#include \"Student.h\"\n",
        "#include <iomanip>\n",
        "\n",
        "// Default Constructor\n",
        "Student::Student(){\n",
        "  matricNo_ = \"\";\n",
        "  fullName_ = \"\";\n",
        "  courseName_ = \"\";\n",
        "}\n",
        "\n",
        "// Overloading constructors\n",
        "Student::Student(string matricNo, string fullName, string email, string courseName){\n",
        "  matricNo_ = matricNo;\n",
        "  fullName_ = fullName;\n",
        "  email_ = email;\n",
        "  courseName_ = courseName;\n",
        "}\n",
        "\n",
        "Student::Student(string matricNo, string fullName, string email, string pw, string courseName){\n",
        "  matricNo_ = matricNo;\n",
        "  fullName_ = fullName;\n",
        "  email_ = email;\n",
        "  this->setPassword(pw);\n",
        "  courseName_ = courseName;\n",
        "}\n",
        "\n",
        "// Setters\n",
        "void Student::setMatricNo(string matricNo) {matricNo_ = matricNo;}\n",
        "void Student::setFullName(string fullName) {fullName_ = fullName;}\n",
        "void Student::setCourseName(string courseName) {courseName = courseName_;}\n",
        "\n",
        "// Getters\n",
        "string Student::getMatricNo() {return matricNo_;}\n",
        "string Student::getFullName() {return fullName_;}\n",
        "string Student::getCourseName() {return courseName_;}\n",
        "\n",
        "// Print student info\n",
        "void Student::printInfo() const{\n",
        "  cout << \"| \" << setw(12) << matricNo_\n",
        "       << setw(20) << fullName_\n",
        "       << setw(24) << email_\n",
        "       << setw(25) << courseName_ << \"|\" << endl;\n",
        "}"
      ],
      "metadata": {
        "id": "Shy90Qw535Wl",
        "colab": {
          "base_uri": "https://localhost:8080/"
        },
        "outputId": "652867ab-7883-40bb-ecda-c1617d43d65f"
      },
      "execution_count": 2336,
      "outputs": [
        {
          "output_type": "stream",
          "name": "stdout",
          "text": [
            "Overwriting Student.cpp\n"
          ]
        }
      ]
    },
    {
      "cell_type": "markdown",
      "source": [
        "# Menu class - CLI Menu Handler"
      ],
      "metadata": {
        "id": "mgLeboZQ572E"
      }
    },
    {
      "cell_type": "code",
      "source": [
        "%%writefile Menu.h\n",
        "#include \"FriendManager.h\"\n",
        "#include \"Student_manager.h\"\n",
        "#include \"Auth_manager.h\"\n",
        "#include <iostream>\n",
        "using namespace std;\n",
        "\n",
        "class Menu{\n",
        "  public:\n",
        "    void displayLoginMenu();\n",
        "    void displayMainMenu();\n",
        "    void displayStudentMenu();\n",
        "    void displayFriendMenu(Student*, Student_manager*);\n",
        "    void displayInboxMenu(Student* , Student_manager*);\n",
        "};"
      ],
      "metadata": {
        "id": "J2VNH5bt37ZP",
        "colab": {
          "base_uri": "https://localhost:8080/"
        },
        "outputId": "54038e3e-0840-4776-e6c5-7f5070e539d0"
      },
      "execution_count": 2337,
      "outputs": [
        {
          "output_type": "stream",
          "name": "stdout",
          "text": [
            "Overwriting Menu.h\n"
          ]
        }
      ]
    },
    {
      "cell_type": "code",
      "source": [
        "%%writefile Menu.cpp\n",
        "\n",
        "#include \"Menu.h\"\n",
        "#include \"FriendList.h\" // Include FriendList.h for FriendList class\n",
        "#include \"FriendManager.h\"\n",
        "#include \"Student_manager.h\"\n",
        "#include \"Auth_manager.h\"\n",
        "#include \"MessageManager.h\" // Include MessageManager.h\n",
        "\n",
        "void Menu::displayLoginMenu(){\n",
        "  cout << \"+--------------------------------------------+\" << endl;\n",
        "  cout << \"|     Student Networking CLI Application     |\" << endl;\n",
        "  cout << \"+--------------------------------------------+\" << endl;\n",
        "  cout << \"| [1] Login                                  |\" << endl;\n",
        "  cout << \"| [2] Register                               |\" << endl;\n",
        "  cout << \"| [3] Exit                                   |\" << endl;\n",
        "  cout << \"+--------------------------------------------+\" << endl;\n",
        "}\n",
        "\n",
        "void Menu::displayMainMenu(){\n",
        "  cout << \"+---------------------------------------+\" << endl;\n",
        "  cout << \"|               Main Page               |\" << endl;\n",
        "  cout << \"+---------------------------------------+\" << endl;\n",
        "  cout << \"| [1] View All Student Profiles         |\" << endl;\n",
        "  cout << \"| [2] View Personal Profile             |\" << endl;\n",
        "  cout << \"| [3] Friends                           |\" << endl;\n",
        "  cout << \"| [4] View Personal Inbox               |\" << endl; //can include into [2] and remove this option\n",
        "  cout << \"| [5] Create Group                      |\" << endl;\n",
        "  cout << \"| [6] View Group Messages               |\" << endl;\n",
        "  cout << \"| [7] Logout                            |\" << endl;\n",
        "  cout << \"+---------------------------------------+\" << endl;\n",
        "}\n",
        "\n",
        "// This menu will be printed after the friend list\n",
        "void Menu::displayFriendMenu(Student* currentUser, Student_manager* sm) {\n",
        "  if (!currentUser || !sm) {\n",
        "      cout << \"Error: Invalid user or student manager.\\n\";\n",
        "      return;\n",
        "  }\n",
        "\n",
        "  FriendManager fmgr(\"friends.txt\"); // Assuming FriendManager handles file loading in constructor\n",
        "  FriendList* fl = fmgr.getFriendList(currentUser->getMatricNo()); // Use getMatricNo()\n",
        "\n",
        "  if (!fl || fl->getHead() == nullptr) { // Check if FriendList exists and is not empty\n",
        "      // Offer option to add friends even if list is empty\n",
        "      int friendOpt;\n",
        "      string id;\n",
        "      cout << \"\\n+------------------------------------+\" << endl;\n",
        "      cout << \"|             Friends Menu           |\" << endl;\n",
        "      cout << \"+------------------------------------+\" << endl;\n",
        "      cout << \"| [1] Add Friend                     |\" << endl;\n",
        "      cout << \"| [2] Back                           |\" << endl;\n",
        "      cout << \"+------------------------------------+\" << endl;\n",
        "      cout << \"Enter choice: \";\n",
        "      cin >> friendOpt;\n",
        "\n",
        "      switch(friendOpt){\n",
        "        case 1:\n",
        "          cout << \"Enter Matric Number to Add: \";\n",
        "          cin >> id;\n",
        "\n",
        "          if (id == currentUser->getMatricNo()) {\n",
        "              cout << \"You cannot add yourself.\\n\";\n",
        "          } else {\n",
        "              Node* studentNode = sm->searchData(MATRIC, id); // Use searchData with MATRIC key\n",
        "              if (!studentNode) {\n",
        "                  cout << \"Student not found.\\n\";\n",
        "              } else {\n",
        "                  // Since the list was empty, need to get or create the list for the current user first\n",
        "                  FriendList* currentUserFL = fmgr.findOrCreateList(currentUser->getMatricNo());\n",
        "                  currentUserFL->addFriend(id);\n",
        "                  FriendList* friendUserFL = fmgr.findOrCreateList(id);\n",
        "                  friendUserFL->addFriend(currentUser->getMatricNo());\n",
        "                  fmgr.save(\"friends.txt\"); // Save changes\n",
        "                  cout << \"Friend added successfully.\\n\";\n",
        "              }\n",
        "          }\n",
        "          break;\n",
        "        case 2:\n",
        "          cout << \"Returning to Main Menu...\\n\";\n",
        "          break;\n",
        "        default:\n",
        "          cout << \"Invalid option. Try again.\\n\";\n",
        "      }\n",
        "      return;\n",
        "  }\n",
        "\n",
        "  int friendOpt;\n",
        "  string id;\n",
        "\n",
        "  do {\n",
        "      cout << \"\\n+------------------------------------+\" << endl;\n",
        "      cout << \"|             Friends Menu           |\" << endl;\n",
        "      cout << \"+------------------------------------+\" << endl;\n",
        "      cout << \"| [1] View Friend List               |\" << endl;\n",
        "      cout << \"| [2] Add a Friend                   |\" << endl;\n",
        "      cout << \"| [3] Remove a Friend                |\" << endl;\n",
        "      cout << \"| [4] Back                           |\" << endl;\n",
        "      cout << \"+------------------------------------+\" << endl;\n",
        "      cout << \"Enter choice: \";\n",
        "      cin >> friendOpt;\n",
        "\n",
        "      switch (friendOpt) {\n",
        "          case 1:\n",
        "              fl->printList(*sm); // Pass Student_manager by reference\n",
        "              break;\n",
        "\n",
        "          case 2:\n",
        "              { // Added curly braces for local scope\n",
        "                  cout << \"\\n+------------------------------------+\" << endl;\n",
        "                  cout << \"|             Add a Friend           |\" << endl;\n",
        "                  cout << \"+------------------------------------+\" << endl;\n",
        "                  cout << \"Enter Matric No. of your friend: \";\n",
        "                  cin >> id;\n",
        "\n",
        "                  if (id == currentUser->getMatricNo()) { // Use getMatricNo()\n",
        "                      cout << \"<You cannot add yourself.>\\n\";\n",
        "                  } else {\n",
        "                       Node* studentNode = sm->searchData(MATRIC, id); // Use searchData with MATRIC key\n",
        "                      if (!studentNode) {\n",
        "                          cout << \"<Student not found.>\\n\";\n",
        "                      } else if (fl->isFriend(id)) {\n",
        "                          cout << \"<Already a friend.>\\n\";\n",
        "                      } else {\n",
        "                          fl->addFriend(id);\n",
        "                          FriendList* friendUserFL = fmgr.findOrCreateList(id);\n",
        "                          friendUserFL->addFriend(currentUser->getMatricNo()); // Use getMatricNo()\n",
        "                          fmgr.save(\"friends.txt\"); // Save changes\n",
        "                          cout << \"<Friend added successfully. Start Chatting!>\\n\";\n",
        "                      }\n",
        "                  }\n",
        "              } // End of local scope\n",
        "              break;\n",
        "\n",
        "          case 3:\n",
        "              { // Added curly braces for local scope\n",
        "                  cout << \"\\n+------------------------------------+\" << endl;\n",
        "                  cout << \"|           Remove a Friend          |\" << endl;\n",
        "                  cout << \"+------------------------------------+\" << endl;\n",
        "                  cout << \"Enter Matric No. of friend to remove: \";\n",
        "                  cin >> id;\n",
        "\n",
        "                  if (!fl->isFriend(id)) {\n",
        "                      cout << \"<This student is not in your friend list.>\\n\";\n",
        "                  } else {\n",
        "                      fl->removeFriend(id);\n",
        "                      FriendList* friendUserFL = fmgr.findOrCreateList(id);\n",
        "                      friendUserFL->removeFriend(currentUser->getMatricNo()); // Use getMatricNo()\n",
        "                      fmgr.save(\"friends.txt\"); // Save changes\n",
        "                      cout << \"<Friend removed successfully.>\\n\";\n",
        "                  }\n",
        "              } // End of local scope\n",
        "              break;\n",
        "\n",
        "          case 4:\n",
        "              cout << \"Returning to Main Menu...\\n\";\n",
        "              break;\n",
        "\n",
        "          default:\n",
        "              cout << \"Invalid option. Try again.\\n\";\n",
        "      }\n",
        "\n",
        "  } while (friendOpt != 4);\n",
        "}\n",
        "\n",
        "void Menu::displayInboxMenu(Student* currentUser, Student_manager* sm) {\n",
        "    if (!currentUser || !sm) {\n",
        "        cout << \"Error: Invalid user or student manager.\\n\";\n",
        "        return;\n",
        "    }\n",
        "\n",
        "    int choice;\n",
        "    string toId, msg;\n",
        "\n",
        "    MessageManager mm(currentUser->getMatricNo()); // Corrected getMatric() to getMatricNo()\n",
        "    FriendManager fm(\"friends.txt\");\n",
        "    FriendList* fl = fm.getFriendList(currentUser->getMatricNo()); // Corrected getMatric() to getMatricNo()\n",
        "\n",
        "    do {\n",
        "        cout << \"\\n+------------------------------------+\" << endl;\n",
        "        cout << \"|            Message Inbox           |\" << endl;\n",
        "        cout << \"+------------------------------------+\" << endl;\n",
        "        cout << \"| [1] View Inbox                     |\" << endl;\n",
        "        cout << \"| [2] Send Message                   |\" << endl;\n",
        "        cout << \"| [3] Back                           |\" << endl;\n",
        "        cout << \"+------------------------------------+\" << endl;\n",
        "        cout << \"Enter choice: \";\n",
        "        cin >> choice;\n",
        "        cin.ignore(); // flush newline\n",
        "\n",
        "        switch (choice) {\n",
        "            case 1:\n",
        "                mm.displayInbox(sm, currentUser->getMatricNo()); // Pass sm and current user matriculation number\n",
        "                break;\n",
        "\n",
        "            case 2:\n",
        "                { // Added curly braces for local scope\n",
        "                    cout << \"Enter friend's matric number: \";\n",
        "                    getline(cin, toId);\n",
        "\n",
        "                    if (!fl || !fl->isFriend(toId)) {\n",
        "                        cout << \"You can only message your friends.\\n\";\n",
        "                        break;\n",
        "                    }\n",
        "\n",
        "                    Node* receiverNode = sm->searchData(MATRIC, toId); // Declare receiverNode here\n",
        "                    if (!receiverNode) {\n",
        "                        cout << \"Student not found.\\n\";\n",
        "                        break;\n",
        "                    }\n",
        "\n",
        "                    string receiverName = receiverNode->data->getFullName(); // Declare receiverName here\n",
        "\n",
        "                    cout << \"Chatting with: \" << receiverName << \" (\" << toId << \")\\n\";\n",
        "                    cout << \"Enter your message below:\\n\";\n",
        "                    cout << \"+------------------------------------+\" << endl;\n",
        "                    cout << \"> \";\n",
        "                    getline(cin, msg);\n",
        "\n",
        "                    mm.sendMessage(toId, msg);\n",
        "                    cout << \"+------------------------------------+\" << endl;\n",
        "                    cout << \"\\nMessage sent to \" << receiverName << \"!\\n\";\n",
        "                } // End of local scope\n",
        "                break;\n",
        "\n",
        "            case 3:\n",
        "                cout << \"Returning to Main Menu...\\n\";\n",
        "                break;\n",
        "\n",
        "            default:\n",
        "                cout << \"Invalid option. Try again.\\n\";\n",
        "        }\n",
        "\n",
        "    } while (choice != 3);\n",
        "}\n",
        "\n",
        "void Menu::displayStudentMenu() {\n",
        "  cout << \"\\n+------------------------------------+\" << endl;\n",
        "  cout << \"|           Student Menu             |\" << endl;\n",
        "  cout << \"+------------------------------------+\" << endl;\n",
        "  cout << \"| [1] Sort by Matric Number          |\" << endl;\n",
        "  cout << \"| [2] Sort by Name                   |\" << endl;\n",
        "  cout << \"| [3] Sort by Course                 |\" << endl;\n",
        "  cout << \"| [4] Print Ascending                |\" << endl;\n",
        "  cout << \"| [5] Print Descending               |\" << endl;\n",
        "  cout << \"| [6] Back                           |\" << endl;\n",
        "  cout << \"+------------------------------------+\" << endl;\n",
        "}"
      ],
      "metadata": {
        "id": "UAoXKe0s4ANO",
        "colab": {
          "base_uri": "https://localhost:8080/"
        },
        "outputId": "fe8ab07d-e0c4-4bdc-9eef-6537e84dc67b"
      },
      "execution_count": 2338,
      "outputs": [
        {
          "output_type": "stream",
          "name": "stdout",
          "text": [
            "Overwriting Menu.cpp\n"
          ]
        }
      ]
    },
    {
      "cell_type": "markdown",
      "source": [
        "# File_Manager class - File I/O Helper"
      ],
      "metadata": {
        "id": "zaqh0eCl6L3v"
      }
    },
    {
      "cell_type": "code",
      "source": [
        "%%writefile File_manager.h\n",
        "\n",
        "#ifndef FILE_MANAGER_H\n",
        "#define FILE_MANAGER_H\n",
        "\n",
        "#include \"Student.h\"\n",
        "#include \"Student_manager.h\"\n",
        "\n",
        "#include <fstream>\n",
        "\n",
        "class File_manager{\n",
        "  public:\n",
        "    void readProfileAndCredentials(const string&, const string&, Student_manager&); // read student profile and credentials from multiple file\n",
        "    //void readGroups(const string&, Student_manager&);      // read groups from file\n",
        "};\n",
        "\n",
        "#endif"
      ],
      "metadata": {
        "id": "ehbPksDl4Cm3",
        "colab": {
          "base_uri": "https://localhost:8080/"
        },
        "outputId": "faa1d4d3-0460-4f5e-9f2b-f57a9cb0e2e9"
      },
      "execution_count": 2339,
      "outputs": [
        {
          "output_type": "stream",
          "name": "stdout",
          "text": [
            "Overwriting File_manager.h\n"
          ]
        }
      ]
    },
    {
      "cell_type": "code",
      "source": [
        "%%writefile File_manager.cpp\n",
        "\n",
        "#include \"File_manager.h\"\n",
        "\n",
        "void File_manager::readProfileAndCredentials(const string& filename1, const string& filename2, Student_manager& sm){\n",
        "  try {\n",
        "    ifstream studfile(filename1);\n",
        "    if (!studfile.is_open()) {\n",
        "      string exceptionString = \"Failed to open profiles file.\";\n",
        "      throw exceptionString;\n",
        "    }\n",
        "    // variables for reading file data\n",
        "    string matricNo, name, email, course, password;\n",
        "\n",
        "    while (getline(studfile, matricNo, ',') && getline(studfile, name, ',') &&\n",
        "            getline(studfile, email, ',') && getline(studfile, course)) {\n",
        "\n",
        "      Student* newStudent = new Student(matricNo, name, email, course); // create new Student object\n",
        "      sm.sortedInsert(newStudent);  // store Student data into the linked-list\n",
        "    }\n",
        "    studfile.close(); //close file\n",
        "\n",
        "    ifstream credfile(filename2);\n",
        "    if (!credfile.is_open()) {\n",
        "      string exceptionString = \"Failed to open credentials file.\";\n",
        "      throw exceptionString;\n",
        "    }\n",
        "\n",
        "    while (getline(credfile, email, ',') && getline(credfile, password)) {\n",
        "      Node* stud = sm.searchData(EMAIL, email); // search for the Student in the student list with the email\n",
        "      if (stud != nullptr) { // if Student is found\n",
        "        stud->data->setPassword(password); // store password into the Student node\n",
        "      } else{\n",
        "        cout << \"Student not found for email: \" << email << endl;\n",
        "      }\n",
        "    }\n",
        "    credfile.close();\n",
        "  }\n",
        "  catch (string errMsg) {\n",
        "      cout << \"FileManager Error: \" << errMsg << endl;\n",
        "  }\n",
        "  catch (...) {\n",
        "      cout << \"FileManager Error: Unknown exception occurred during file loading.\" << endl;\n",
        "  }\n",
        "}"
      ],
      "metadata": {
        "id": "99E-9eLU41LS",
        "colab": {
          "base_uri": "https://localhost:8080/"
        },
        "outputId": "b4cfe361-2037-4779-be90-6e63c2142b5b"
      },
      "execution_count": 2340,
      "outputs": [
        {
          "output_type": "stream",
          "name": "stdout",
          "text": [
            "Overwriting File_manager.cpp\n"
          ]
        }
      ]
    },
    {
      "cell_type": "markdown",
      "source": [
        "# Student_Manager class - Main Logic (doubly linked list)"
      ],
      "metadata": {
        "id": "xm1lhi0-6aEs"
      }
    },
    {
      "cell_type": "code",
      "source": [
        "%%writefile Student_manager.h\n",
        "#ifndef STUDENT_MANAGER_H\n",
        "#define STUDENT_MANAGER_H\n",
        "\n",
        "#include \"Student.h\"\n",
        "\n",
        "#include <iostream>\n",
        "using namespace std;\n",
        "\n",
        "enum Key { MATRIC, NAME, EMAIL, COURSE }; // enum for key, for system operations\n",
        "struct Node{\n",
        "  Student* data;\n",
        "  Node* next;\n",
        "  Node* prev;\n",
        "};\n",
        "\n",
        "class Student_manager{\n",
        "  private:\n",
        "    Node* head;\n",
        "\n",
        "  public:\n",
        "    Student_manager();        //Constructor\n",
        "    ~Student_manager();       //Destructor\n",
        "    Node* getHead();          //Accessor\n",
        "\n",
        "    Node* searchData(Key key, const string value) const; //search Student data according to key and the search value\n",
        "    void sortedInsert(Student*&);                  //insert new node in list orderly by matric number\n",
        "    void sortList(Key);                            //sort list according to key\n",
        "    void printAscList();                           //print list\n",
        "    void printDescList();                          //print list in reverse order\n",
        "    void printHeader();\n",
        "    void printLine();\n",
        "};\n",
        "\n",
        "#endif"
      ],
      "metadata": {
        "id": "fwMht2bg464y",
        "colab": {
          "base_uri": "https://localhost:8080/"
        },
        "outputId": "d7c16923-38ae-42d7-bcbb-595228f72983"
      },
      "execution_count": 2341,
      "outputs": [
        {
          "output_type": "stream",
          "name": "stdout",
          "text": [
            "Overwriting Student_manager.h\n"
          ]
        }
      ]
    },
    {
      "cell_type": "code",
      "source": [
        "%%writefile Student_manager.cpp\n",
        "\n",
        "#include \"Student_manager.h\"\n",
        "#include <iomanip>\n",
        "\n",
        "Student_manager::Student_manager(){head = nullptr;}\n",
        "Student_manager::~Student_manager(){\n",
        "  Node* current = head;\n",
        "  while (current != nullptr) {\n",
        "      Node* temp = current;\n",
        "      current = current->next;\n",
        "      delete temp;\n",
        "  }\n",
        "  head = nullptr;\n",
        "}\n",
        "\n",
        "Node* Student_manager::getHead(){return head;}\n",
        "\n",
        "// Search through the linked-list of Student data\n",
        "// @returns a Node* value (the whole node storing the found student data, else nullptr)\n",
        "// use of template class for code reusability so that can search in different datatypes\n",
        "// - key: a key passed by the system to indicate different operations\n",
        "//        (e.g. operation on NAME, will search through loop with name variable)\n",
        "// - value: the value to search\n",
        "Node* Student_manager::searchData(Key key, const string value) const {\n",
        "  if (head == nullptr) return nullptr;\n",
        "\n",
        "  Node* current = head;\n",
        "  while (current != nullptr) {\n",
        "    switch (key) {\n",
        "      case NAME:\n",
        "        if (current->data->getFullName() == value)\n",
        "            return current;\n",
        "        break;\n",
        "      case EMAIL:\n",
        "        if (current->data->getEmail() == value)\n",
        "            return current;\n",
        "        break;\n",
        "      case MATRIC:\n",
        "        if (current->data->getMatricNo() == value)\n",
        "            return current;\n",
        "        break;\n",
        "      case COURSE:\n",
        "        cout << \"Course not supported for searching\" << endl;\n",
        "        return nullptr;\n",
        "      default:\n",
        "        cout << \"Invalid search key: \" << key << endl;\n",
        "        return nullptr;\n",
        "    }\n",
        "    current = current->next;\n",
        "  }\n",
        "  return nullptr;\n",
        "}\n",
        "\n",
        "// Insert a new node to the linked-list orderly by Student matric number\n",
        "// - stud: Student object variable passed\n",
        "void Student_manager::sortedInsert(Student*& stud) {\n",
        "  Node* newNode = new Node;\n",
        "  newNode->data = stud;\n",
        "  newNode->next = nullptr;\n",
        "  newNode->prev = nullptr;\n",
        "\n",
        "  // Case 1: Empty list\n",
        "  if (head == nullptr) {\n",
        "    head = newNode;\n",
        "    return;\n",
        "  }\n",
        "  // Case 2: Insert at head (if new value is smaller than current head)\n",
        "  if (stud->getMatricNo() < head->data->getMatricNo()) {\n",
        "    newNode->next = head;\n",
        "    head->prev = newNode;\n",
        "    head = newNode;\n",
        "    return;\n",
        "  }\n",
        "  // Case 3: Traverse to find correct position to insert\n",
        "  Node* current = head;\n",
        "  while (current->next != nullptr && current->next->data->getMatricNo() < stud->getMatricNo()) {\n",
        "    current = current->next;\n",
        "  }\n",
        "  // Insert after current\n",
        "  newNode->next = current->next;\n",
        "  newNode->prev = current;\n",
        "  if (current->next != nullptr) {\n",
        "    current->next->prev = newNode;\n",
        "  }\n",
        "  current->next = newNode;\n",
        "}\n",
        "\n",
        "// Sorts the list into ascending order of the user choice\n",
        "// User can choose to sort according name, matric number or course\n",
        "// - key: a key passed by the system to indicate different operations\n",
        "//        (e.g. operation on NAME, will sorts list according to name variable)\n",
        "void Student_manager::sortList(Key key) {\n",
        "  if (head == nullptr || head->next == nullptr) return; // if linked-list is empty, end the operation\n",
        "\n",
        "  bool swapped;\n",
        "\n",
        "  do {\n",
        "    swapped = false;\n",
        "    Node* current = head;\n",
        "\n",
        "    while (current->next != nullptr) {\n",
        "      bool shouldSwap = false;\n",
        "\n",
        "      // declares sort according which variable\n",
        "      switch(key) {\n",
        "        case MATRIC: // Sorting by Student matric number\n",
        "          shouldSwap = current->data->getMatricNo() > current->next->data->getMatricNo();\n",
        "          break;\n",
        "        case NAME:  // Sorting by Student fullname\n",
        "          shouldSwap = current->data->getFullName() > current->next->data->getFullName();\n",
        "          break;\n",
        "        case EMAIL: // Sorting by Student email\n",
        "          shouldSwap = current->data->getMatricNo() > current->next->data->getMatricNo();\n",
        "          break;\n",
        "        case COURSE: // Sorting by Student course\n",
        "          shouldSwap = current->data->getCourseName() > current->next->data->getCourseName();\n",
        "          break;\n",
        "        default:\n",
        "          cout << \"Invalid sort key: \" << key << endl;\n",
        "          return;\n",
        "      }\n",
        "\n",
        "      // perform swapping\n",
        "      if (shouldSwap) {\n",
        "        Student* temp = current->data;\n",
        "        current->data = current->next->data;\n",
        "        current->next->data = temp;\n",
        "        swapped = true;\n",
        "      }\n",
        "\n",
        "      current = current->next;\n",
        "    }\n",
        "  } while (swapped);\n",
        "}\n",
        "\n",
        "// Print the list from head to tail (ascending order)\n",
        "void Student_manager::printAscList() {\n",
        "  if (head == nullptr) {\n",
        "    cout << \"List is empty.\" << endl;\n",
        "    return;\n",
        "  }\n",
        "\n",
        "  Node* current = head;\n",
        "  // Print formated list\n",
        "  // Print Header\n",
        "  printHeader();\n",
        "  // Print List Data\n",
        "  while (current != nullptr) {\n",
        "    current->data->printInfo(); // Student class method\n",
        "    current = current->next;\n",
        "  }\n",
        "  // Print Footer\n",
        "  printLine();\n",
        "}\n",
        "\n",
        "// Print the list from tail to head (descending order)\n",
        "void Student_manager::printDescList() {\n",
        "  if (head == nullptr) {\n",
        "    cout << \"List is empty.\" << endl;\n",
        "    return;\n",
        "  }\n",
        "\n",
        "  // Go to the last node\n",
        "  Node* current = head;\n",
        "  while (current->next != nullptr) {\n",
        "    current = current->next;\n",
        "  }\n",
        "\n",
        "  // Print formated list\n",
        "  // Print Header\n",
        "  printHeader();\n",
        "  // Traverse backwards using prev\n",
        "  while (current != nullptr) {\n",
        "    current->data->printInfo(); // assuming Student class has this method\n",
        "    current = current->prev;\n",
        "  }\n",
        "  // Print Footer\n",
        "  printLine();\n",
        "}\n",
        "\n",
        "void Student_manager::printHeader(){\n",
        "  cout << left << fixed;\n",
        "  printLine();\n",
        "  cout << setw(35) << \"|\" << setw(48) << \"Student List\" << \"|\" << endl;\n",
        "  printLine();\n",
        "  // Print Column Names\n",
        "  cout << \"| \" << setw(12) << \"MATRIC\"\n",
        "        << setw(20) << \"FULL NAME\"\n",
        "        << setw(24) << \"EMAIL\"\n",
        "        << setw(25) << \"COURSE NAME\" << \"|\" << endl;\n",
        "}\n",
        "\n",
        "void Student_manager::printLine(){\n",
        "  cout << \"+\";\n",
        "  for (int i = 0; i < 82; i++) cout << \"-\";\n",
        "  cout << \"+\" << endl;\n",
        "}"
      ],
      "metadata": {
        "id": "Li339bNd4-Wp",
        "colab": {
          "base_uri": "https://localhost:8080/"
        },
        "outputId": "141fb35a-9c9d-4fea-dd87-f445ddd295ea"
      },
      "execution_count": 2342,
      "outputs": [
        {
          "output_type": "stream",
          "name": "stdout",
          "text": [
            "Overwriting Student_manager.cpp\n"
          ]
        }
      ]
    },
    {
      "cell_type": "markdown",
      "source": [
        "# Auth_manager class - Handles Login/SignUp"
      ],
      "metadata": {
        "id": "Dxlc_Fyg6-5a"
      }
    },
    {
      "cell_type": "code",
      "source": [
        "%%writefile Auth_manager.h\n",
        "\n",
        "#ifndef AUTH_MANAGER_H\n",
        "#define AUTH_MANAGER_H\n",
        "\n",
        "#include \"Student_manager.h\"\n",
        "\n",
        "#include <iostream>\n",
        "using namespace std;\n",
        "\n",
        "class Auth_manager{\n",
        "  private:\n",
        "    string currentUserId;\n",
        "\n",
        "  public:\n",
        "    //Other Functions\n",
        "    bool login(Student_manager&);\n",
        "    void signup(Student_manager&);\n",
        "    bool isValidUSMEmail(const string&);                   // Checks if the email domain is correct\n",
        "    bool isValidPassword(const string&);                   // Checks if the password combination is in uppercase, lowercase and digit\n",
        "    bool isUpper(char);                                    // Checks the character if it is uppercase\n",
        "    bool isLower(char);                                    // Checks the character if it is lowercase\n",
        "    bool isDigit(char);                                    // Checks the character if it is digit\n",
        "    void profileSetUp(Student_manager&, string, string);   // Sets up a new Student profile and store to the Student linked-list\n",
        "    string toTitleCase(const string&);                     // Changes words to title case\n",
        "    string getCurrentUserId() const;\n",
        "};\n",
        "\n",
        "#endif"
      ],
      "metadata": {
        "id": "RTP2_n055BZy",
        "colab": {
          "base_uri": "https://localhost:8080/"
        },
        "outputId": "eacb49fe-c68e-4850-de1a-af27ba739177"
      },
      "execution_count": 2343,
      "outputs": [
        {
          "output_type": "stream",
          "name": "stdout",
          "text": [
            "Overwriting Auth_manager.h\n"
          ]
        }
      ]
    },
    {
      "cell_type": "code",
      "source": [
        "%%writefile Auth_manager.cpp\n",
        "\n",
        "#include \"Auth_manager.h\"\n",
        "#include \"Student.h\"\n",
        "\n",
        "// Login function\n",
        "// Prompts user for email and password then check if it match the system credentials\n",
        "// @returns true if login is successful, else false\n",
        "// - sm: the Student linked-List\n",
        "bool Auth_manager::login(Student_manager& sm){\n",
        "  string email, password;\n",
        "  cout << \"+-----------------------------------+\" << endl;\n",
        "  cout << \"|               Login               |\" << endl;\n",
        "  cout << \"+-----------------------------------+\" << endl;\n",
        "  cout << \"USM Student Email: \";\n",
        "  cin >> email;\n",
        "  cout << \"Password: \";\n",
        "  cin >> password;\n",
        "\n",
        "  // Check login credentials\n",
        "  Node* stud = sm.searchData(EMAIL, email); // search for the Student in the student list with the email\n",
        "  try{\n",
        "    if(stud == nullptr){ //if student not found\n",
        "      string exceptionString = \"Student not found for email: \" + email;\n",
        "      throw exceptionString;\n",
        "    }\n",
        "    else{ //if student found\n",
        "      if(stud->data->getPassword() == password){  // compare if the password entered is correct\n",
        "        currentUserId = stud->data->getMatricNo();\n",
        "        cout << \"Login successful!\" << endl << endl;\n",
        "        return true;\n",
        "      }\n",
        "      else{\n",
        "        string exceptionString = \"Incorrect password!\";\n",
        "        throw exceptionString;\n",
        "      }\n",
        "    }\n",
        "  }\n",
        "  catch (string errMsg) {\n",
        "    cout << \"< \" << errMsg << \" >\" << endl;\n",
        "    return false;\n",
        "  }\n",
        "  catch (...) {\n",
        "    cout << \"AuthManager Error: Unknown exception occurred during login.\" << endl;\n",
        "    return false;\n",
        "  }\n",
        "}\n",
        "\n",
        "// Sign up function that creates new Student profile and store in list\n",
        "// - sm: Student linked-list\n",
        "void Auth_manager::signup(Student_manager& sm){\n",
        "  string email, password;\n",
        "  bool valid = true;  // valid status of user input email and pw\n",
        "\n",
        "  cout << \"+-------------------------------------+\" << endl;\n",
        "  cout << \"|               Sign Up               |\" << endl;\n",
        "  cout << \"+-------------------------------------+\" << endl;\n",
        "  cout << \"Enter (-1) anytime to return to login page.\" << endl << endl;\n",
        "  do{\n",
        "    cout << \"Enter Email: \";\n",
        "    cin >> email;\n",
        "\n",
        "    if (email == \"-1\") { // Maybe not needed if the undo function includes here\n",
        "      cout << \"Returning to login page...\" << endl;\n",
        "      return;\n",
        "    }\n",
        "\n",
        "    try{ // email input validation\n",
        "      if(sm.searchData(EMAIL, email) != nullptr){ // check if email already exist\n",
        "        string exceptionString = \"< Email already exist! >\";\n",
        "        throw exceptionString;\n",
        "      }\n",
        "      else if(!isValidUSMEmail(email)){ // check if email is valid format\n",
        "        string exceptionString = \"< Invalid email domain! Please use a student email! >\";\n",
        "        throw exceptionString;\n",
        "      }\n",
        "      else if(email.length() > 30){ // email too long\n",
        "        string exceptionString = \"< Email too long! >\";\n",
        "        throw exceptionString;\n",
        "      }\n",
        "      else{\n",
        "        valid = true;\n",
        "      }\n",
        "    }\n",
        "    catch (string errMsg) {\n",
        "      cout << errMsg << endl;\n",
        "      valid = false;\n",
        "    }\n",
        "  }while(!valid);\n",
        "\n",
        "  do{\n",
        "    cout << \"** Password must contain uppercase, lowercase and digit\" << endl;\n",
        "    cout << \"Enter Password: \";\n",
        "    cin >> password;\n",
        "\n",
        "    if (password == \"-1\") { // Maybe not needed if the undo function includes here\n",
        "      cout << \"Returning to login page...\" << endl;\n",
        "      return;\n",
        "    }\n",
        "\n",
        "    try{ // password input validation\n",
        "      if(password.length() < 8){ // password too short\n",
        "        string exceptionString = \"< Password too short! >\";\n",
        "        throw exceptionString;\n",
        "      }\n",
        "      else if(password.length() > 20){ // password too long\n",
        "        string exceptionString = \"< Password too long! >\";\n",
        "        throw exceptionString;\n",
        "      }\n",
        "      else if(!isValidPassword(password)){ // check if password has upper, lower and digit\n",
        "        string exceptionString = \"< Password must contain uppercase, lowercase and digit! >\";\n",
        "        throw exceptionString;\n",
        "      }\n",
        "      else{\n",
        "        valid = true;\n",
        "      }\n",
        "    }\n",
        "    catch (string errMsg) {\n",
        "      cout << \"< Invalid password format! >\" << endl;\n",
        "      cout << errMsg << endl;\n",
        "      valid = false;\n",
        "    }\n",
        "  }while(!valid);\n",
        "\n",
        "  profileSetUp(sm, email, password); // create new profile\n",
        "  cout << \"Returning to login page...\" << endl;\n",
        "}\n",
        "\n",
        "// Checks if the email domain is correct\n",
        "bool Auth_manager::isValidUSMEmail(const string& email) {\n",
        "  string domain = \"@student.usm.my\";\n",
        "  string temp = \"\";\n",
        "  bool getDomain = false;\n",
        "\n",
        "  // Check length of email input\n",
        "  if (email.length() > domain.length() + 2) {\n",
        "    // Extract the domain of email input\n",
        "    for (char ch : email){\n",
        "      if (ch == '@') getDomain = true; //indicate @\n",
        "      if (getDomain) temp += ch;  //store starting from @\n",
        "    }\n",
        "    return (temp == domain);\n",
        "  }\n",
        "  return false;\n",
        "}\n",
        "\n",
        "// Checks if the password combination is in uppercase, lowercase and digit\n",
        "// - pw: password input from user\n",
        "bool Auth_manager::isValidPassword(const string& pw) {\n",
        "  bool hasUpper = false, hasLower = false, hasDigit = false;\n",
        "\n",
        "  for (char ch : pw) {\n",
        "    if (isUpper(ch)) hasUpper = true;\n",
        "    else if (isLower(ch)) hasLower = true;\n",
        "    else if (isDigit(ch)) hasDigit = true;\n",
        "  }\n",
        "  return hasUpper && hasLower && hasDigit;\n",
        "}\n",
        "\n",
        "// Checks the character if it is uppercase, lowercase or digit\n",
        "bool Auth_manager::isUpper(char ch) {return ch >= 'A' && ch <= 'Z';}\n",
        "bool Auth_manager::isLower(char ch) {return ch >= 'a' && ch <= 'z';}\n",
        "bool Auth_manager::isDigit(char ch) {return ch >= '0' && ch <= '9';}\n",
        "\n",
        "// Function that sets up a new Student profile and store to the Student linked-list\n",
        "void Auth_manager::profileSetUp(Student_manager& sm, string email, string password){\n",
        "  string matricNo, fullName, courseName;\n",
        "  bool valid = true;\n",
        "  cout << \"+---------------------------------------+\" << endl;\n",
        "  cout << \"|           New Profile Setup           |\" << endl;\n",
        "  cout << \"+---------------------------------------+\" << endl;\n",
        "\n",
        "  do{ // do-while for matric number input\n",
        "    cout << \"Enter Matric Number (8-digit): \";\n",
        "    cin >> matricNo;\n",
        "\n",
        "    try{ // matric number input validation\n",
        "      if(matricNo.length() != 8){ // check matric number length\n",
        "        string exceptionString = \"< Matric number must be 8 digits! >\";\n",
        "        throw exceptionString;\n",
        "      }\n",
        "      else if(sm.searchData(MATRIC, matricNo) != nullptr){ // check if matric number already exist\n",
        "        string exceptionString = \"< Matric number already exist! >\";\n",
        "        throw exceptionString;\n",
        "      }\n",
        "      else{\n",
        "        valid = true;\n",
        "      }\n",
        "    }\n",
        "    catch (string errMsg) {\n",
        "      cout << errMsg << endl;\n",
        "      valid = false;\n",
        "    }\n",
        "  }while(!valid);\n",
        "\n",
        "  do{ // do-while for full name input\n",
        "    cout << \"Enter Full Name: \";\n",
        "    cin.ignore();\n",
        "    getline(cin, fullName);\n",
        "\n",
        "    fullName = toTitleCase(fullName); // Convert to title case\n",
        "\n",
        "    try{\n",
        "      if(sm.searchData(NAME, fullName) != nullptr){ // check if name already exist\n",
        "        string exceptionString = \"< Name already exist! >\";\n",
        "        throw exceptionString;\n",
        "      }\n",
        "      else{\n",
        "        valid = true;\n",
        "      }\n",
        "    }\n",
        "    catch (string errMsg) {\n",
        "      cout << errMsg << endl;\n",
        "      valid = false;\n",
        "    }\n",
        "  }while(!valid);\n",
        "\n",
        "\n",
        "  int choice;\n",
        "  do{ // do-while for course input\n",
        "    cout << \"Select your course: \" << endl;\n",
        "    cout << \"[1] Computing Infrastructure\" << endl;\n",
        "    cout << \"[2] Intelligent Computing\" << endl;\n",
        "    cout << \"[3] Software Engineering\" << endl;\n",
        "    cout << \"Enter your choice: \";\n",
        "    cin >> choice;\n",
        "\n",
        "    switch(choice){\n",
        "      case 1: courseName = \"Computing Infrastructure\";\n",
        "        break;\n",
        "      case 2: courseName = \"Intelligent Computing\";\n",
        "        break;\n",
        "      case 3: courseName = \"Software Engineering\";\n",
        "        break;\n",
        "      default: cout << \"< Invalid choice. Please try again. >\" << endl;\n",
        "        break;\n",
        "    }\n",
        "  }while(choice < 1 && choice > 3);\n",
        "\n",
        "  // prompt user to confirm data\n",
        "  cout << \"Matric No: \" << matricNo << endl;\n",
        "  cout << \"Full Name: \" << fullName << endl;\n",
        "  cout << \"Course: \" << courseName << endl;\n",
        "  cout << \"Confirm data (Y/N): \";\n",
        "  char confirm;\n",
        "  cin >> confirm;\n",
        "\n",
        "  bool saveStudent = (confirm == 'y' || confirm == 'Y') ? true : false;\n",
        "  if(saveStudent){\n",
        "    Student* stud = new Student(matricNo, fullName, email, password, courseName);\n",
        "    sm.sortedInsert(stud);\n",
        "    cout << \"New profile sign up successfully!\" << endl;\n",
        "  }\n",
        "  else{\n",
        "    cout << \"New profile sign up cancelled.\" << endl;\n",
        "  }\n",
        "}\n",
        "\n",
        "// Changes words to title case (First character of every word is upper and others is lower)\n",
        "// - input: the words to be changed\n",
        "string Auth_manager::toTitleCase(const string& input) {\n",
        "  string result = input;\n",
        "  bool newWord = true;\n",
        "\n",
        "  for (int i = 0; i < result.length(); ++i) {\n",
        "    char& ch = result[i];\n",
        "\n",
        "    if (ch == ' ' || ch == '-') {\n",
        "      newWord = true; // The next character is the start of a new word\n",
        "    }\n",
        "    else { // Convert characters with ASCII value\n",
        "      if (newWord && ch >= 'a' && ch <= 'z') {ch -= 32;}        // convert uppercase\n",
        "      else if (!newWord && ch >= 'A' && ch <= 'Z') {ch += 32;}  // convert lowercase\n",
        "      newWord = false;\n",
        "    }\n",
        "  }\n",
        "  return result;\n",
        "}\n",
        "\n",
        "string Auth_manager::getCurrentUserId() const {\n",
        "  return currentUserId;\n",
        "}"
      ],
      "metadata": {
        "id": "VJFsXDGv5Eof",
        "colab": {
          "base_uri": "https://localhost:8080/"
        },
        "outputId": "dd727239-ae1b-4155-f0cb-87e844bcedcb"
      },
      "execution_count": 2344,
      "outputs": [
        {
          "output_type": "stream",
          "name": "stdout",
          "text": [
            "Overwriting Auth_manager.cpp\n"
          ]
        }
      ]
    },
    {
      "cell_type": "markdown",
      "source": [
        "# Friend List - (pointers)"
      ],
      "metadata": {
        "id": "8IiHcdqujMfF"
      }
    },
    {
      "cell_type": "code",
      "source": [
        "%%writefile FriendList.h\n",
        "#ifndef FRIENDLIST_H\n",
        "#define FRIENDLIST_H\n",
        "\n",
        "#include \"Student_manager.h\"\n",
        "#include <string>\n",
        "using namespace std;\n",
        "\n",
        "class FriendNode {\n",
        "public: // Changed to public\n",
        "  string id;\n",
        "  FriendNode* next;\n",
        "  FriendNode(const string& id) : id(id), next(nullptr) {} // Moved definition here and made public\n",
        "};\n",
        "\n",
        "class FriendList {\n",
        "private:\n",
        "  FriendNode* head;\n",
        "  FriendNode* tail; // Added tail member\n",
        "\n",
        "public:\n",
        "  FriendList();\n",
        "  ~FriendList();\n",
        "  void addFriend(const string&);\n",
        "  void removeFriend(const string&);\n",
        "  bool isFriend(const string&) const;\n",
        "  void printList(const Student_manager&) const;\n",
        "  FriendNode* getHead() const; // Added public getHead method\n",
        "};\n",
        "\n",
        "#endif // FRIENDLIST_H"
      ],
      "metadata": {
        "id": "eNAjC9bzjQXZ",
        "colab": {
          "base_uri": "https://localhost:8080/"
        },
        "outputId": "ec8730aa-68ce-4f32-9476-86a63e58d2b8"
      },
      "execution_count": 2345,
      "outputs": [
        {
          "output_type": "stream",
          "name": "stdout",
          "text": [
            "Overwriting FriendList.h\n"
          ]
        }
      ]
    },
    {
      "cell_type": "code",
      "source": [
        "%%writefile FriendList.cpp\n",
        "#include \"FriendList.h\"\n",
        "#include \"Student_manager.h\"\n",
        "#include <iostream>\n",
        "#include <iomanip> // Added for setw\n",
        "\n",
        "// FriendNode constructor definition is moved to the header file\n",
        "\n",
        "FriendList::FriendList() {\n",
        "  head = nullptr;\n",
        "  tail = nullptr; // Initialize tail\n",
        "}\n",
        "\n",
        "FriendList::~FriendList() {\n",
        "  while (head) {\n",
        "    FriendNode* temp = head;\n",
        "    head = head->next;\n",
        "    delete temp;\n",
        "  }\n",
        "  tail = nullptr; // Reset tail\n",
        "}\n",
        "\n",
        "void FriendList::addFriend(const string& id) {\n",
        "  FriendNode* newNode = new FriendNode(id);\n",
        "  if (!head) {\n",
        "    head = tail = newNode;\n",
        "  } else {\n",
        "    tail->next = newNode;\n",
        "    tail = newNode;\n",
        "  }\n",
        "}\n",
        "\n",
        "void FriendList::removeFriend(const string& id) {\n",
        "  FriendNode* current = head;\n",
        "  FriendNode* prev = nullptr;\n",
        "\n",
        "  while (current) {\n",
        "    if (current->id == id) {\n",
        "      if (prev) {\n",
        "        prev->next = current->next;\n",
        "        if (current->next == nullptr) {\n",
        "            tail = prev; // Update tail if removing the last node\n",
        "        }\n",
        "      } else {\n",
        "        // Removing the head\n",
        "        head = current->next;\n",
        "        if (head == nullptr) {\n",
        "            tail = nullptr; // Update tail if the list becomes empty\n",
        "        }\n",
        "      }\n",
        "      delete current;\n",
        "      return;\n",
        "    }\n",
        "    prev = current;\n",
        "    current = current->next;\n",
        "  }\n",
        "}\n",
        "\n",
        "bool FriendList::isFriend(const string& id) const { // Added const\n",
        "  FriendNode* current = head;\n",
        "  while (current) {\n",
        "    if (current->id == id) {\n",
        "      return true;\n",
        "    }\n",
        "    current = current->next;\n",
        "  }\n",
        "  return false;\n",
        "}\n",
        "\n",
        "void FriendList::printList(const Student_manager& sm) const {\n",
        "    FriendNode* current = head;\n",
        "    if (current == nullptr) {\n",
        "        cout << \"+--------------------------------------------------+\" << endl;\n",
        "        cout << \"|            You have no friends added.            |\" << endl;\n",
        "        cout << \"+--------------------------------------------------+\" << endl;\n",
        "        return;\n",
        "    }\n",
        "\n",
        "    cout << \"\\n+--------------------------------------------------------------------------------------------------------------+\" << endl;\n",
        "    cout << \"|                                                  FRIEND LIST                                                 |\" << endl;\n",
        "    cout << \"+--------------------------------------------------------------------------------------------------------------+\" << endl;\n",
        "    cout << \"| Matric No. | Full Name                 | Student Email                 | Course                              |\" << endl;\n",
        "    cout << \"+--------------------------------------------------------------------------------------------------------------+\" << endl;\n",
        "\n",
        "    while (current) {\n",
        "        Node* friendNode = sm.searchData(MATRIC, current->id);\n",
        "        if (friendNode) {\n",
        "            Student* s = friendNode->data;\n",
        "            cout << \"| \"\n",
        "                 << setw(11) << left << s->getMatricNo() << \"| \"\n",
        "                 << setw(26) << left << s->getFullName() << \"| \"\n",
        "                 << setw(30) << left << s->getEmail() << \"| \"\n",
        "                 << setw(36) << left << s->getCourseName() << \"|\"\n",
        "                 << endl;\n",
        "        } else {\n",
        "            cout << \"| \"\n",
        "                 << setw(11) << left << current->id << \"| \"\n",
        "                 << setw(26) << \"Unknown\" << \"| \"\n",
        "                 << setw(30) << \"N/A\" << \"| \"\n",
        "                 << setw(36) << \"N/A\" << \"|\"\n",
        "                 << endl;\n",
        "        }\n",
        "        current = current->next;\n",
        "    }\n",
        "\n",
        "    cout << \"+--------------------------------------------------------------------------------------------------------------+\" << endl << endl;\n",
        "}\n",
        "\n",
        "// Added definition for getHead\n",
        "FriendNode* FriendList::getHead() const {\n",
        "    return head;\n",
        "}"
      ],
      "metadata": {
        "id": "lwOyy39FjRE_",
        "colab": {
          "base_uri": "https://localhost:8080/"
        },
        "outputId": "21a5c3d1-6933-4615-d309-2f3305f105cf"
      },
      "execution_count": 2346,
      "outputs": [
        {
          "output_type": "stream",
          "name": "stdout",
          "text": [
            "Overwriting FriendList.cpp\n"
          ]
        }
      ]
    },
    {
      "cell_type": "markdown",
      "source": [
        "# Friend Manager"
      ],
      "metadata": {
        "id": "HBnUZfKDvNUL"
      }
    },
    {
      "cell_type": "code",
      "source": [
        "%%writefile FriendManager.h\n",
        "#ifndef FRIENDMANAGER_H\n",
        "#define FRIENDMANAGER_H\n",
        "\n",
        "#include \"FriendList.h\"\n",
        "#include <string>\n",
        "#include <fstream> // Include fstream for file operations\n",
        "\n",
        "using namespace std;\n",
        "\n",
        "class FriendManager {\n",
        "private:\n",
        "  struct FriendMapNode {\n",
        "    string id;\n",
        "    FriendList* friends;\n",
        "    FriendMapNode* next;\n",
        "    FriendMapNode(const string&);\n",
        "  };\n",
        "\n",
        "  FriendMapNode* head;\n",
        "  string filename;\n",
        "\n",
        "public: // Changed to public\n",
        "  FriendList* findOrCreateList(const string&); // Made public\n",
        "  FriendManager(const string&);\n",
        "  ~FriendManager();\n",
        "  FriendList* getFriendList(const string&);\n",
        "  void save(const string&); // Add declaration for the save method\n",
        "\n",
        "};\n",
        "\n",
        "#endif // FRIENDMANAGER_H"
      ],
      "metadata": {
        "id": "9ACpd4wrvV2C",
        "colab": {
          "base_uri": "https://localhost:8080/"
        },
        "outputId": "1215ffea-437f-4d5a-8301-7fdc02f2473c"
      },
      "execution_count": 2347,
      "outputs": [
        {
          "output_type": "stream",
          "name": "stdout",
          "text": [
            "Overwriting FriendManager.h\n"
          ]
        }
      ]
    },
    {
      "cell_type": "code",
      "source": [
        "%%writefile FriendManager.cpp\n",
        "#include \"FriendManager.h\"\n",
        "#include <iostream>\n",
        "#include <fstream>\n",
        "using namespace std;\n",
        "\n",
        "FriendManager::FriendMapNode::FriendMapNode(const string& id) {\n",
        "  this->id = id;\n",
        "  next = nullptr;\n",
        "  friends = new FriendList();\n",
        "}\n",
        "\n",
        "FriendManager::FriendManager(const string& filename) {\n",
        "  this->filename = filename;\n",
        "  head = nullptr; // Assuming 'head' is part of your FriendList management\n",
        "\n",
        "  ifstream infile(filename);\n",
        "  if (!infile.is_open()) {\n",
        "    throw runtime_error(\"Failed to open friend list file: \" + filename);\n",
        "  }\n",
        "\n",
        "  string line;\n",
        "  string id1, id2;\n",
        "\n",
        "  while (getline(infile, id1, ',') && getline(infile, id2)) {\n",
        "      FriendList* list1 = findOrCreateList(id1);\n",
        "      FriendList* list2 = findOrCreateList(id2);\n",
        "      list1->addFriend(id2);\n",
        "      list2->addFriend(id1);\n",
        "  }\n",
        "  infile.close();\n",
        "}\n",
        "\n",
        "FriendManager::~FriendManager() {\n",
        "  while (head) {\n",
        "    FriendMapNode* temp = head;\n",
        "    head = head->next;\n",
        "    delete temp->friends;\n",
        "    delete temp;\n",
        "  }\n",
        "}\n",
        "\n",
        "FriendList* FriendManager::findOrCreateList(const string& id) {\n",
        "  FriendMapNode* current = head;\n",
        "  while (current) {\n",
        "    if (current->id == id) {\n",
        "      return current->friends;\n",
        "    }\n",
        "    current = current->next;\n",
        "  }\n",
        "\n",
        "  FriendMapNode* newNode = new FriendMapNode(id);\n",
        "  newNode->next = head;\n",
        "  head = newNode;\n",
        "  return newNode->friends;\n",
        "}\n",
        "\n",
        "FriendList* FriendManager::getFriendList(const string& userID) {\n",
        "  FriendMapNode* current = head;\n",
        "  while (current) {\n",
        "    if (current->id == userID) {\n",
        "      return current->friends;\n",
        "    }\n",
        "    current = current->next;\n",
        "  }\n",
        "  return nullptr;\n",
        "}\n",
        "\n",
        "void FriendManager::save(const string& filename) {\n",
        "    ofstream out(filename);\n",
        "    FriendMapNode* curr = head;\n",
        "\n",
        "    while (curr) {\n",
        "        FriendNode* f = curr->friends->getHead();\n",
        "        while (f) {\n",
        "            if (curr->id < f->id) { // To avoid writing duplicates\n",
        "                out << curr->id << \",\" << f->id << endl;\n",
        "            }\n",
        "            f = f->next;\n",
        "        }\n",
        "        curr = curr->next;\n",
        "    }\n",
        "}\n"
      ],
      "metadata": {
        "id": "Npul_WAWweEU",
        "colab": {
          "base_uri": "https://localhost:8080/"
        },
        "outputId": "8bce7660-a8a0-4acc-b639-aeae6c6e9a49"
      },
      "execution_count": 2348,
      "outputs": [
        {
          "output_type": "stream",
          "name": "stdout",
          "text": [
            "Overwriting FriendManager.cpp\n"
          ]
        }
      ]
    },
    {
      "cell_type": "markdown",
      "source": [
        "# UndoStack class - (Stack)"
      ],
      "metadata": {
        "id": "WWUxnjDs7LNL"
      }
    },
    {
      "cell_type": "code",
      "source": [
        "%%writefile UndoStack.h"
      ],
      "metadata": {
        "id": "cLLaFjC35JJf",
        "colab": {
          "base_uri": "https://localhost:8080/"
        },
        "outputId": "a2b9b3c3-05cf-47da-ca5a-4c1a6cc032b0"
      },
      "execution_count": 2349,
      "outputs": [
        {
          "output_type": "stream",
          "name": "stdout",
          "text": [
            "Overwriting UndoStack.h\n"
          ]
        }
      ]
    },
    {
      "cell_type": "code",
      "source": [
        "%%writefile UndoStack.cpp"
      ],
      "metadata": {
        "id": "OKL0Rvfu5MsB",
        "colab": {
          "base_uri": "https://localhost:8080/"
        },
        "outputId": "01d11224-fa56-4c3d-820a-ab209b3c1c79"
      },
      "execution_count": 2350,
      "outputs": [
        {
          "output_type": "stream",
          "name": "stdout",
          "text": [
            "Overwriting UndoStack.cpp\n"
          ]
        }
      ]
    },
    {
      "cell_type": "markdown",
      "source": [
        "# MessageQueue class - (Queue)"
      ],
      "metadata": {
        "id": "QYyo9pZz7Vy6"
      }
    },
    {
      "cell_type": "code",
      "source": [
        "%%writefile MessageQueue.h\n",
        "#ifndef MESSAGEQUEUE_H\n",
        "#define MESSAGEQUEUE_H\n",
        "\n",
        "#include <string>\n",
        "using namespace std;\n",
        "\n",
        "class Student_manager; // Forward declaration\n",
        "\n",
        "class Message {\n",
        "public:\n",
        "  string sender;\n",
        "  string text;\n",
        "  Message* next;\n",
        "  Message(const string&, const string&);\n",
        "};\n",
        "\n",
        "class MessageQueue {\n",
        "private:\n",
        "  Message* head;\n",
        "  Message* tail;\n",
        "\n",
        "public:\n",
        "  MessageQueue();\n",
        "  ~MessageQueue();\n",
        "  void enqueue(const string&, const string&);\n",
        "  void display(Student_manager* sm, const string& currentUserId) const; // Added parameters back and const\n",
        "};\n",
        "\n",
        "#endif // MESSAGEQUEUE_H"
      ],
      "metadata": {
        "id": "oRaQvcOh5Wmg",
        "colab": {
          "base_uri": "https://localhost:8080/"
        },
        "outputId": "bdd22922-ef75-4397-82ad-38e4f2a78395"
      },
      "execution_count": 2351,
      "outputs": [
        {
          "output_type": "stream",
          "name": "stdout",
          "text": [
            "Overwriting MessageQueue.h\n"
          ]
        }
      ]
    },
    {
      "cell_type": "code",
      "source": [
        "%%writefile MessageQueue.cpp\n",
        "#include \"Student_manager.h\" // Include Student_manager.h\n",
        "#include \"MessageQueue.h\"\n",
        "#include <iostream>\n",
        "#include <fstream> // Include fstream\n",
        "\n",
        "Message::Message(const string& sender, const string& text) {\n",
        "  this->sender = sender;\n",
        "  this->text = text;\n",
        "  next = nullptr;\n",
        "}\n",
        "\n",
        "MessageQueue::MessageQueue() {\n",
        "  head = nullptr;\n",
        "  tail = nullptr;\n",
        "}\n",
        "\n",
        "MessageQueue::~MessageQueue() {\n",
        "  while (head) {\n",
        "    Message* temp = head;\n",
        "    head = head->next;\n",
        "    delete temp;\n",
        "  }\n",
        "}\n",
        "\n",
        "void MessageQueue::enqueue(const string& sender, const string& text) {\n",
        "  Message* newMessage = new Message(sender, text);\n",
        "  if (!tail) {\n",
        "    head = tail = newMessage;\n",
        "  } else {\n",
        "    tail->next = newMessage;\n",
        "    tail = newMessage;\n",
        "  }\n",
        "}\n",
        "\n",
        "void MessageQueue::display(Student_manager* sm, const std::string& currentUserId) const { // Added parameters and const\n",
        "    if (!head) {\n",
        "        cout << \"\\n📭 Your inbox is empty.\\n\";\n",
        "        return;\n",
        "    }\n",
        "\n",
        "    cout << \"\\n+-----------------------------------------------------------+\" << endl;\n",
        "    cout << \"|                     📥 Your Inbox                         |\" << endl;\n",
        "    cout << \"+-----------------------------------------------------------+\" << endl;\n",
        "\n",
        "    Message* current = head;\n",
        "    while (current) {\n",
        "        std::string senderId = current->sender;\n",
        "        Node* senderNode = sm->searchData(MATRIC, senderId);\n",
        "        std::string senderName = senderNode ? senderNode->data->getFullName() : \"Unknown\"; // Corrected getName() to getFullName()\n",
        "\n",
        "        cout << \"| 👤 From: \" << senderName << \" (\" << senderId << \")\" << endl;\n",
        "        cout << \"| \" << current->text << endl;\n",
        "        cout << \"+-----------------------------------------------------------+\" << endl;\n",
        "\n",
        "        current = current->next;\n",
        "    }\n",
        "}"
      ],
      "metadata": {
        "id": "xQktPG005arf",
        "colab": {
          "base_uri": "https://localhost:8080/"
        },
        "outputId": "ffb56376-a468-41e1-e00c-4d5393fc1fbf"
      },
      "execution_count": 2352,
      "outputs": [
        {
          "output_type": "stream",
          "name": "stdout",
          "text": [
            "Overwriting MessageQueue.cpp\n"
          ]
        }
      ]
    },
    {
      "cell_type": "markdown",
      "source": [
        "# MessageManager"
      ],
      "metadata": {
        "id": "SMiRwAzI8ZSn"
      }
    },
    {
      "cell_type": "code",
      "source": [
        "%%writefile MessageManager.h\n",
        "#ifndef MESSAGEMANAGER_H\n",
        "#define MESSAGEMANAGER_H\n",
        "\n",
        "#include \"MessageQueue.h\"\n",
        "#include \"Student_manager.h\" // Include Student_manager.h for Student_manager\n",
        "#include <string>\n",
        "using namespace std;\n",
        "\n",
        "class MessageManager {\n",
        "private:\n",
        "  string userId;\n",
        "  string getFileName();\n",
        "\n",
        "public:\n",
        "  MessageManager(const string&);\n",
        "  void displayInbox(Student_manager* sm, const string& currentUserId); // Added parameters\n",
        "  void sendMessage(const string& receiverId, const string& text);\n",
        "};\n",
        "\n",
        "#endif // MESSAGEMANAGER_H"
      ],
      "metadata": {
        "id": "GcDiylsK8cxR",
        "colab": {
          "base_uri": "https://localhost:8080/"
        },
        "outputId": "473edc0e-e9d9-4504-d79f-8b50139557e3"
      },
      "execution_count": 2353,
      "outputs": [
        {
          "output_type": "stream",
          "name": "stdout",
          "text": [
            "Overwriting MessageManager.h\n"
          ]
        }
      ]
    },
    {
      "cell_type": "code",
      "source": [
        "%%writefile MessageManager.cpp\n",
        "#include \"MessageManager.h\"\n",
        "#include <iostream>\n",
        "#include <fstream>\n",
        "\n",
        "// Removed extern declarations as sm and currentUserId will be passed as arguments\n",
        "// extern Student_manager* sm;\n",
        "// extern string currentUserId;\n",
        "\n",
        "MessageManager::MessageManager(const string& userId) {\n",
        "  this->userId = userId;\n",
        "}\n",
        "\n",
        "void MessageManager::displayInbox(Student_manager* sm, const string& currentUserId) { // Added parameters\n",
        "  string filename = getFileName();\n",
        "  ifstream infile(filename);\n",
        "\n",
        "  string line, sender, text;\n",
        "  MessageQueue mq;\n",
        "\n",
        "  if (!infile.is_open()) {\n",
        "    cout << \"\\n📭 Your inbox is empty.\\n\";\n",
        "    return;\n",
        "  }\n",
        "\n",
        "  while (getline(infile, line)) {\n",
        "    if (line.length() >= 6 && line.substr(0, 6) == \"From: \") {\n",
        "      sender = line.substr(6);\n",
        "      getline(infile, text);\n",
        "      mq.enqueue(sender, text);\n",
        "    }\n",
        "  }\n",
        "\n",
        "  infile.close();\n",
        "  mq.display(sm, currentUserId); // Passed sm and currentUserId to MessageQueue's display\n",
        "}\n",
        "\n",
        "void MessageManager::sendMessage(const string& receiverId, const string& text) {\n",
        "  ofstream outfile(\"messages_\" + receiverId + \".txt\", ios::app);\n",
        "  if (!outfile.is_open()) {\n",
        "    throw runtime_error(\"Failed to open message file for sending: \" + getFileName()); // Improved error message\n",
        "  }\n",
        "  else {\n",
        "    outfile << \"From: \" << userId << endl;\n",
        "    outfile << text << endl;\n",
        "    outfile.close();\n",
        "  }\n",
        "}\n",
        "\n",
        "// Definition for getFileName\n",
        "string MessageManager::getFileName() {\n",
        "    return \"messages_\" + userId + \".txt\";\n",
        "}"
      ],
      "metadata": {
        "id": "GLH3ZM0_bNzW",
        "colab": {
          "base_uri": "https://localhost:8080/"
        },
        "outputId": "b68fad93-972e-4d93-c407-f95b2e38b9d7"
      },
      "execution_count": 2354,
      "outputs": [
        {
          "output_type": "stream",
          "name": "stdout",
          "text": [
            "Overwriting MessageManager.cpp\n"
          ]
        }
      ]
    },
    {
      "cell_type": "markdown",
      "source": [
        "# GroupChatCLL class - (Circular Linked List)"
      ],
      "metadata": {
        "id": "NJN864_X7zB5"
      }
    },
    {
      "cell_type": "code",
      "source": [
        "%%writefile GroupChatCLL.h"
      ],
      "metadata": {
        "id": "lncZ4Riy5doq",
        "colab": {
          "base_uri": "https://localhost:8080/"
        },
        "outputId": "bd15c6e5-a610-47e6-d44c-6460f7eb862b"
      },
      "execution_count": 2355,
      "outputs": [
        {
          "output_type": "stream",
          "name": "stdout",
          "text": [
            "Overwriting GroupChatCLL.h\n"
          ]
        }
      ]
    },
    {
      "cell_type": "code",
      "source": [
        "%%writefile GroupChatCLL.cpp"
      ],
      "metadata": {
        "id": "MA8BKJyY5kvG",
        "colab": {
          "base_uri": "https://localhost:8080/"
        },
        "outputId": "1657f66a-1e74-475c-b845-3d3715d08a90"
      },
      "execution_count": 2356,
      "outputs": [
        {
          "output_type": "stream",
          "name": "stdout",
          "text": [
            "Overwriting GroupChatCLL.cpp\n"
          ]
        }
      ]
    },
    {
      "cell_type": "markdown",
      "source": [
        "# Main - Entry point"
      ],
      "metadata": {
        "id": "vaoVxiDt76iR"
      }
    },
    {
      "cell_type": "code",
      "source": [
        "%%writefile main.cpp\n",
        "\n",
        "#include \"User.h\"\n",
        "#include \"Student.h\"\n",
        "#include \"Student_manager.h\"\n",
        "#include \"Auth_manager.h\"\n",
        "#include \"File_manager.h\"\n",
        "#include \"Menu.h\"\n",
        "#include \"FriendManager.h\"\n",
        "#include \"MessageManager.h\"\n",
        "#include <iostream>\n",
        "\n",
        "int main(){\n",
        "\n",
        "  Student_manager* sm = new Student_manager();\n",
        "  Auth_manager* am = new Auth_manager();\n",
        "  File_manager* fm = new File_manager();\n",
        "  Menu* menu = new Menu();\n",
        "\n",
        "  // Read files\n",
        "  fm->readProfileAndCredentials(\"profiles.txt\", \"credentials.txt\", *sm); // Read Student and Credential data\n",
        "\n",
        "  int loginOpt = 0;\n",
        "  bool loginSuccess = false;\n",
        "  string currentUserId; // Declare currentUserId outside the switch\n",
        "\n",
        "  do{\n",
        "    menu->displayLoginMenu(); // Print Login Page\n",
        "    cout << \"Enter your choice: \";\n",
        "    cin >> loginOpt;\n",
        "    cout << endl;\n",
        "\n",
        "    switch(loginOpt){\n",
        "      case 1:\n",
        "        if (am->login(*sm)) { // if success to login\n",
        "          loginSuccess = true;\n",
        "          currentUserId = am->getCurrentUserId(); // Get the logged-in user's ID\n",
        "          int mainOpt = 0; // Declare mainOpt here\n",
        "\n",
        "          do{\n",
        "            menu->displayMainMenu(); // Print Main Menu\n",
        "            cout << \"Enter your choice: \";\n",
        "            cin >> mainOpt;\n",
        "            cout << endl;\n",
        "\n",
        "            switch(mainOpt){\n",
        "              case 1: // View All Student Profiles\n",
        "                { // Use a block for variable declaration within a case\n",
        "                  int studMenuOpt = 0; // Declare studMenuOpt here\n",
        "                  sm->printAscList();\n",
        "                  do{\n",
        "                    menu->displayStudentMenu(); // Print Student Menu\n",
        "                    cout << \"Enter your choice: \";\n",
        "                    cin >> studMenuOpt;\n",
        "                    cout << endl;\n",
        "\n",
        "                    switch(studMenuOpt){\n",
        "                      case 1: // Sort by Matric Number\n",
        "                        sm->sortList(MATRIC);\n",
        "                        sm->printAscList();\n",
        "                        break;\n",
        "                      case 2: // Sort by Name\n",
        "                        sm->sortList(NAME);\n",
        "                        sm->printAscList();\n",
        "                        break;\n",
        "                      case 3: // Sort by Course\n",
        "                        sm->sortList(COURSE);\n",
        "                        sm->printAscList();\n",
        "                        break;\n",
        "                      case 4: // Print Ascending\n",
        "                        sm->printAscList();\n",
        "                        break;\n",
        "                      case 5: // Print Descending\n",
        "                        sm->printDescList();\n",
        "                        break;\n",
        "                      case 6: // Back to Main Menu\n",
        "                        sm->sortList(MATRIC); // reset the list to sort by matric number\n",
        "                        cout << \"Returning to Main Menu...\" << endl;\n",
        "                        break;\n",
        "                      default:\n",
        "                        cout << \"Invalid choice. Please try again.\" << endl;\n",
        "                      }\n",
        "                    }while(studMenuOpt != 6);\n",
        "                } // End of block for case 1\n",
        "                break;\n",
        "              case 2: // View Personal Profile\n",
        "                { // Use a block for variable declaration within a case\n",
        "                    Node* currentUserNode = sm->searchData(MATRIC, currentUserId);\n",
        "                    if(currentUserNode){\n",
        "                        cout << \"+---------------------------------------+\" << endl;\n",
        "                        cout << \"|            Personal Profile           |\" << endl;\n",
        "                        cout << \"+---------------------------------------+\" << endl;\n",
        "                        sm->printHeader(); // Print header for consistent formatting\n",
        "                        currentUserNode->data->printInfo(); // Print personal info\n",
        "                        sm->printLine(); // Print line for consistent formatting\n",
        "                    } else {\n",
        "                        cout << \"Error: Current user profile not found.\" << endl;\n",
        "                    }\n",
        "                } // End of block for case 2\n",
        "                break;\n",
        "\n",
        "              case 3: // View Friend List\n",
        "                { // Use a block for variable declaration within a case\n",
        "                    Node* currentUserNode = sm->searchData(MATRIC, currentUserId);\n",
        "                    if(currentUserNode){\n",
        "                         menu->displayFriendMenu(currentUserNode->data, sm); // Pass the Student pointer\n",
        "                    } else {\n",
        "                        cout << \"Error: Current user profile not found for friend list.\" << endl;\n",
        "                    }\n",
        "                } // End of block for case 3\n",
        "                break;\n",
        "\n",
        "              case 4: // View Personal Inbox\n",
        "                { // Use a block for variable declaration within a case\n",
        "                    Node* currentUserNode = sm->searchData(MATRIC, currentUserId);\n",
        "                    if(currentUserNode){\n",
        "                        // Pass sm and currentUserId to displayInboxMenu\n",
        "                        menu->displayInboxMenu(currentUserNode->data, sm); // Pass the Student pointer\n",
        "                    } else {\n",
        "                        cout << \"Error: Current user profile not found for inbox.\" << endl;\n",
        "                    }\n",
        "                } // End of block for case 4\n",
        "                break;\n",
        "\n",
        "              case 5: // Create Groups\n",
        "                break;\n",
        "              case 6: // View Group Messages\n",
        "                break;\n",
        "              case 7: // Logout\n",
        "                loginSuccess = false;\n",
        "                cout << \"Logging out...\" << endl;\n",
        "                break;\n",
        "              default:\n",
        "                cout << \"Invalid choice. Please try again.\" << endl;\n",
        "            }\n",
        "          }while(mainOpt != 7);\n",
        "        }\n",
        "        break;\n",
        "      case 2: am->signup(*sm);\n",
        "        break;\n",
        "      case 3: cout << \"Exiting program...\" << endl;\n",
        "        // Save files (if needed, add save logic here)\n",
        "        break;\n",
        "      default: cout << \"Invalid choice. Please try again.\" << endl;\n",
        "    }\n",
        "  } while (loginOpt != 3);\n",
        "\n",
        "  // Free up memory\n",
        "  delete sm;\n",
        "  delete am;\n",
        "  delete fm;\n",
        "  delete menu;\n",
        "\n",
        "  return 0;\n",
        "}"
      ],
      "metadata": {
        "id": "MGeNZIHV3zfY",
        "colab": {
          "base_uri": "https://localhost:8080/"
        },
        "outputId": "31787c69-4b41-4636-ff9a-d38c5c159671"
      },
      "execution_count": 2357,
      "outputs": [
        {
          "output_type": "stream",
          "name": "stdout",
          "text": [
            "Overwriting main.cpp\n"
          ]
        }
      ]
    },
    {
      "cell_type": "code",
      "source": [
        "%%shell\n",
        "g++ User.cpp Student.cpp Menu.cpp Student_manager.cpp Auth_manager.cpp File_manager.cpp FriendList.cpp FriendManager.cpp MessageQueue.cpp MessageManager.cpp main.cpp -o NetworkingCLI.elf\n",
        "./NetworkingCLI.elf"
      ],
      "metadata": {
        "id": "IGttbliaZF2J",
        "colab": {
          "base_uri": "https://localhost:8080/"
        },
        "outputId": "31ccdf6a-8fcd-41e5-dffa-a4667d117892"
      },
      "execution_count": 2358,
      "outputs": [
        {
          "output_type": "stream",
          "name": "stdout",
          "text": [
            "+--------------------------------------------+\n",
            "|     Student Networking CLI Application     |\n",
            "+--------------------------------------------+\n",
            "| [1] Login                                  |\n",
            "| [2] Register                               |\n",
            "| [3] Exit                                   |\n",
            "+--------------------------------------------+\n",
            "Enter your choice: 1\n",
            "\n",
            "+-----------------------------------+\n",
            "|               Login               |\n",
            "+-----------------------------------+\n",
            "USM Student Email: alice@student.usm.my\n",
            "Password: Alice2025\n",
            "Login successful!\n",
            "\n",
            "+---------------------------------------+\n",
            "|               Main Page               |\n",
            "+---------------------------------------+\n",
            "| [1] View All Student Profiles         |\n",
            "| [2] View Personal Profile             |\n",
            "| [3] Friends                           |\n",
            "| [4] View Personal Inbox               |\n",
            "| [5] Create Group                      |\n",
            "| [6] View Group Messages               |\n",
            "| [7] Logout                            |\n",
            "+---------------------------------------+\n",
            "Enter your choice: 1\n",
            "\n",
            "+----------------------------------------------------------------------------------+\n",
            "|                                  Student List                                    |\n",
            "+----------------------------------------------------------------------------------+\n",
            "| MATRIC      FULL NAME           EMAIL                   COURSE NAME              |\n",
            "| 23301001    Alice Johnson       alice@student.usm.my    Software Engineering     |\n",
            "| 23302002    Bob Smith           bob@student.usm.my      Intelligent Computing    |\n",
            "| 23303003    Charlie Lee         charlie@student.usm.my  Computing Infrastructure |\n",
            "| 23304004    Dana White          dana@student.usm.my     Software Engineering     |\n",
            "| 23305005    Ethan Tan           ethan@student.usm.my    Intelligent Computing    |\n",
            "| 23306006    Farah Lim           farah@student.usm.my    Computing Infrastructure |\n",
            "| 23307007    Grace Wong          grace@student.usm.my    Software Engineering     |\n",
            "| 23308008    Henry Goh           henry@student.usm.my    Intelligent Computing    |\n",
            "| 23309009    Ivy Ng              ivy@student.usm.my      Computing Infrastructure |\n",
            "| 23310010    Jack Lee            jack@student.usm.my     Software Engineering     |\n",
            "+----------------------------------------------------------------------------------+\n",
            "\n",
            "+------------------------------------+\n",
            "|           Student Menu             |\n",
            "+------------------------------------+\n",
            "| [1] Sort by Matric Number          |\n",
            "| [2] Sort by Name                   |\n",
            "| [3] Sort by Course                 |\n",
            "| [4] Print Ascending                |\n",
            "| [5] Print Descending               |\n",
            "| [6] Back                           |\n",
            "+------------------------------------+\n",
            "Enter your choice: 6\n",
            "\n",
            "Returning to Main Menu...\n",
            "+---------------------------------------+\n",
            "|               Main Page               |\n",
            "+---------------------------------------+\n",
            "| [1] View All Student Profiles         |\n",
            "| [2] View Personal Profile             |\n",
            "| [3] Friends                           |\n",
            "| [4] View Personal Inbox               |\n",
            "| [5] Create Group                      |\n",
            "| [6] View Group Messages               |\n",
            "| [7] Logout                            |\n",
            "+---------------------------------------+\n",
            "Enter your choice: 3\n",
            "\n",
            "\n",
            "+------------------------------------+\n",
            "|             Friends Menu           |\n",
            "+------------------------------------+\n",
            "| [1] View Friend List               |\n",
            "| [2] Add a Friend                   |\n",
            "| [3] Remove a Friend                |\n",
            "| [4] Back                           |\n",
            "+------------------------------------+\n",
            "Enter choice: 1\n",
            "\n",
            "+--------------------------------------------------------------------------------------------------------------+\n",
            "|                                                  FRIEND LIST                                                 |\n",
            "+--------------------------------------------------------------------------------------------------------------+\n",
            "| Matric No. | Full Name                 | Student Email                 | Course                              |\n",
            "+--------------------------------------------------------------------------------------------------------------+\n",
            "| 23302002   | Bob Smith                 | bob@student.usm.my            | Intelligent Computing               |\n",
            "| 23303003   | Charlie Lee               | charlie@student.usm.my        | Computing Infrastructure            |\n",
            "+--------------------------------------------------------------------------------------------------------------+\n",
            "\n",
            "\n",
            "+------------------------------------+\n",
            "|             Friends Menu           |\n",
            "+------------------------------------+\n",
            "| [1] View Friend List               |\n",
            "| [2] Add a Friend                   |\n",
            "| [3] Remove a Friend                |\n",
            "| [4] Back                           |\n",
            "+------------------------------------+\n",
            "Enter choice: 4\n",
            "Returning to Main Menu...\n",
            "+---------------------------------------+\n",
            "|               Main Page               |\n",
            "+---------------------------------------+\n",
            "| [1] View All Student Profiles         |\n",
            "| [2] View Personal Profile             |\n",
            "| [3] Friends                           |\n",
            "| [4] View Personal Inbox               |\n",
            "| [5] Create Group                      |\n",
            "| [6] View Group Messages               |\n",
            "| [7] Logout                            |\n",
            "+---------------------------------------+\n",
            "Enter your choice: 4\n",
            "\n",
            "\n",
            "+------------------------------------+\n",
            "|            Message Inbox           |\n",
            "+------------------------------------+\n",
            "| [1] View Inbox                     |\n",
            "| [2] Send Message                   |\n",
            "| [3] Back                           |\n",
            "+------------------------------------+\n",
            "Enter choice: 1\n",
            "\n",
            "+-----------------------------------------------------------+\n",
            "|                     📥 Your Inbox                         |\n",
            "+-----------------------------------------------------------+\n",
            "| 👤 From: Bob Smith (23302002)\n",
            "| Hey! Are you joining the Software Eng. workshop?\n",
            "+-----------------------------------------------------------+\n",
            "| 👤 From: Charlie Lee (23303003)\n",
            "| Let's go to the park\n",
            "+-----------------------------------------------------------+\n",
            "|                   📤 Messages You've Sent                |\n",
            "+-----------------------------------------------------------+\n",
            "| To: Bob Smith (23302002)\n",
            "| Hey! Are you joining the Software Eng. workshop?\n",
            "+-----------------------------------------------------------+\n",
            "| To: Charlie Lee (23303003)\n",
            "| Let's go to the park\n",
            "+-----------------------------------------------------------+\n",
            "\n",
            "+------------------------------------+\n",
            "|            Message Inbox           |\n",
            "+------------------------------------+\n",
            "| [1] View Inbox                     |\n",
            "| [2] Send Message                   |\n",
            "| [3] Back                           |\n",
            "+------------------------------------+\n",
            "Enter choice: 2\n",
            "Enter friend's matric number: 23303003\n",
            "Chatting with: Charlie Lee (23303003)\n",
            "Enter your message below:\n",
            "+------------------------------------+\n",
            "> Yooooo im doing my assignments\n",
            "+------------------------------------+\n",
            "\n",
            "Message sent to Charlie Lee!\n",
            "\n",
            "+------------------------------------+\n",
            "|            Message Inbox           |\n",
            "+------------------------------------+\n",
            "| [1] View Inbox                     |\n",
            "| [2] Send Message                   |\n",
            "| [3] Back                           |\n",
            "+------------------------------------+\n",
            "Enter choice: 1\n",
            "\n",
            "+-----------------------------------------------------------+\n",
            "|                     📥 Your Inbox                         |\n",
            "+-----------------------------------------------------------+\n",
            "| 👤 From: Bob Smith (23302002)\n",
            "| Hey! Are you joining the Software Eng. workshop?\n",
            "+-----------------------------------------------------------+\n",
            "| 👤 From: Charlie Lee (23303003)\n",
            "| Let's go to the park\n",
            "+-----------------------------------------------------------+\n",
            "|                   📤 Messages You've Sent                |\n",
            "+-----------------------------------------------------------+\n",
            "| To: Bob Smith (23302002)\n",
            "| Hey! Are you joining the Software Eng. workshop?\n",
            "+-----------------------------------------------------------+\n",
            "| To: Charlie Lee (23303003)\n",
            "| Let's go to the park\n",
            "+-----------------------------------------------------------+\n",
            "\n",
            "+------------------------------------+\n",
            "|            Message Inbox           |\n",
            "+------------------------------------+\n",
            "| [1] View Inbox                     |\n",
            "| [2] Send Message                   |\n",
            "| [3] Back                           |\n",
            "+------------------------------------+\n",
            "Enter choice: 3\n",
            "Returning to Main Menu...\n",
            "+---------------------------------------+\n",
            "|               Main Page               |\n",
            "+---------------------------------------+\n",
            "| [1] View All Student Profiles         |\n",
            "| [2] View Personal Profile             |\n",
            "| [3] Friends                           |\n",
            "| [4] View Personal Inbox               |\n",
            "| [5] Create Group                      |\n",
            "| [6] View Group Messages               |\n",
            "| [7] Logout                            |\n",
            "+---------------------------------------+\n",
            "Enter your choice: 7\n",
            "\n",
            "Logging out...\n",
            "+--------------------------------------------+\n",
            "|     Student Networking CLI Application     |\n",
            "+--------------------------------------------+\n",
            "| [1] Login                                  |\n",
            "| [2] Register                               |\n",
            "| [3] Exit                                   |\n",
            "+--------------------------------------------+\n",
            "Enter your choice: 3\n",
            "\n",
            "Exiting program...\n"
          ]
        },
        {
          "output_type": "execute_result",
          "data": {
            "text/plain": []
          },
          "metadata": {},
          "execution_count": 2358
        }
      ]
    },
    {
      "cell_type": "code",
      "source": [
        "import os\n",
        "with open(\"friends.txt\",\"r\") as file:\n",
        "    print(file.read())"
      ],
      "metadata": {
        "id": "U6nppQs3rn2Q",
        "colab": {
          "base_uri": "https://localhost:8080/"
        },
        "outputId": "ffbcb929-fc73-4873-f30f-d5edfa40efb1"
      },
      "execution_count": 2359,
      "outputs": [
        {
          "output_type": "stream",
          "name": "stdout",
          "text": [
            "23301001,23302002\n",
            "23301001,23303003\n",
            "23303003,23304004\n",
            "23305005,23306006\n",
            "23307007,23308008\n",
            "23309009,23310010\n",
            "\n"
          ]
        }
      ]
    },
    {
      "cell_type": "code",
      "source": [
        "import os\n",
        "with open(\"messages_23303003.txt\",\"r\") as file:\n",
        "    print(file.read())"
      ],
      "metadata": {
        "colab": {
          "base_uri": "https://localhost:8080/"
        },
        "id": "r1ohAMqGVXvp",
        "outputId": "7008b7fe-eb4b-4179-bb11-a8837b7c7386"
      },
      "execution_count": 2360,
      "outputs": [
        {
          "output_type": "stream",
          "name": "stdout",
          "text": [
            "From: 23304004\n",
            "Great job today in Infra Lab!\n",
            "\n",
            "From: 23301001\n",
            "Sure!\n",
            "From: 23301001\n",
            "Yooooo im doing my assignments\n",
            "\n"
          ]
        }
      ]
    },
    {
      "cell_type": "markdown",
      "source": [
        "# Example Test Cases"
      ],
      "metadata": {
        "id": "Yv2Oktdq5q6w"
      }
    }
  ]
}