{
  "nbformat": 4,
  "nbformat_minor": 0,
  "metadata": {
    "colab": {
      "provenance": []
    },
    "kernelspec": {
      "name": "python3",
      "display_name": "Python 3"
    },
    "language_info": {
      "name": "python"
    }
  },
  "cells": [
    {
      "cell_type": "markdown",
      "source": [
        "# Group 36\n",
        "\n",
        "# Members:\n",
        "> Lim Jie Shen (23303397) \\\\\n",
        "> Loh Wei Chuen (23303986) \\\\\n",
        "> Lum Yeen Thoong (23304739) \\\\\n",
        "---"
      ],
      "metadata": {
        "id": "r6_gUvL0qnUN"
      }
    },
    {
      "cell_type": "markdown",
      "source": [
        "#Project Title: Networking CLI app\n",
        "\n",
        "---"
      ],
      "metadata": {
        "id": "Qx5Ezx6SrqC6"
      }
    },
    {
      "cell_type": "markdown",
      "source": [
        "##Project Specification:\n",
        "---"
      ],
      "metadata": {
        "id": "AbBKfzs-qpZq"
      }
    },
    {
      "cell_type": "markdown",
      "source": [
        "###Inputs\n",
        "\n",
        "1.\n",
        "\n",
        "2.\n",
        "\n",
        "3.\n",
        "\n",
        "4.\n",
        "\n",
        "Preloaded data files:\n",
        "\n",
        "1.\n",
        "\n",
        "2.\n",
        "\n",
        "3.\n",
        "\n",
        "4.\n",
        "\n",
        "Menu selections for program operations:\n",
        "\n",
        "1. Main Menu:\n",
        "\n",
        "2.\n",
        "\n",
        "3.\n",
        "\n",
        "4.\n",
        "\n",
        "5."
      ],
      "metadata": {
        "id": "cRPh4nHlrnBl"
      }
    },
    {
      "cell_type": "markdown",
      "source": [
        "###Process\n",
        "User Management:\n",
        "1.\n"
      ],
      "metadata": {
        "id": "Nf-PvDFvsGdR"
      }
    },
    {
      "cell_type": "markdown",
      "source": [
        "### Outputs\n",
        "1.\n",
        "\n",
        "---"
      ],
      "metadata": {
        "id": "OFojOzzasM_g"
      }
    },
    {
      "cell_type": "markdown",
      "source": [
        "###Constraints\n",
        "1.\n",
        "---"
      ],
      "metadata": {
        "id": "Xl13njxQsdWB"
      }
    },
    {
      "cell_type": "markdown",
      "source": [
        "###Assumptions\n",
        "1.\n",
        "\n",
        "---"
      ],
      "metadata": {
        "id": "m_VXCQ6VsnuU"
      }
    },
    {
      "cell_type": "markdown",
      "source": [
        "### Deliverables\n",
        "1.\n",
        "\n",
        "Data files:\n",
        "1.\n",
        "\n",
        "---"
      ],
      "metadata": {
        "id": "UlQtrJ_OszDF"
      }
    },
    {
      "cell_type": "markdown",
      "source": [
        "##Problem Analysis"
      ],
      "metadata": {
        "id": "XEHULz4CtAHW"
      }
    },
    {
      "cell_type": "markdown",
      "source": [
        "---\n",
        "###Program Scenario"
      ],
      "metadata": {
        "id": "uBOF3_cBtBNy"
      }
    },
    {
      "cell_type": "markdown",
      "source": [
        "---\n",
        "### Program Requirements\n",
        "1.\n",
        "\n",
        "---"
      ],
      "metadata": {
        "id": "QZzSfqXFs6uW"
      }
    },
    {
      "cell_type": "markdown",
      "source": [
        "### Problem Statement\n",
        "\n",
        "\n",
        "---"
      ],
      "metadata": {
        "id": "MqsBRswPtKEx"
      }
    },
    {
      "cell_type": "markdown",
      "source": [
        "### Entities\n",
        "1.\n",
        "---"
      ],
      "metadata": {
        "id": "E9XeK868tObj"
      }
    },
    {
      "cell_type": "markdown",
      "source": [
        "### Relationships\n",
        "\n",
        "---"
      ],
      "metadata": {
        "id": "yQmuJdLgtSzg"
      }
    },
    {
      "cell_type": "markdown",
      "source": [
        "###How to Run the Program\n",
        "Prerequisites\n",
        "1. a\n",
        "\n",
        "Setup\n",
        "1. b\n",
        "\n",
        "Execution\n",
        "1. c\n",
        "---"
      ],
      "metadata": {
        "id": "9Eo7b1m5tXzs"
      }
    },
    {
      "cell_type": "markdown",
      "source": [
        "# Programming Design & Solution"
      ],
      "metadata": {
        "id": "3gPXie7std0a"
      }
    },
    {
      "cell_type": "markdown",
      "source": [
        "##UML Diagram and relationship"
      ],
      "metadata": {
        "id": "b1un7unbtmVu"
      }
    },
    {
      "cell_type": "markdown",
      "source": [
        "Please review the UML Diagram for ___ uploaded to [Google Drive](link).\n",
        "\n",
        "\n",
        "It is highly recommended to download the SVG file for clearer visibility of its contents. Download it [here](link)."
      ],
      "metadata": {
        "id": "oZCHfEATtsgp"
      }
    },
    {
      "cell_type": "markdown",
      "source": [
        "---\n",
        "# Input Files"
      ],
      "metadata": {
        "id": "vffOjmE5t71S"
      }
    },
    {
      "cell_type": "markdown",
      "source": [
        "credentials.txt is ordered as studentEmail << password"
      ],
      "metadata": {
        "id": "8_VeWgcCEIvS"
      }
    },
    {
      "cell_type": "code",
      "source": [
        "%%writefile credentials.txt\n",
        "alice@student.usm.my, Alice2025\n",
        "bob@student.usm.my, Bob2025\n",
        "charlie@student.usm.my, Charlie2025\n",
        "dana@student.usm.my, Dana2025\n",
        "ethan@student.usm.my, Ethan2025\n",
        "farah@student.usm.my, Farah2025\n",
        "grace@student.usm.my, Grace2025\n",
        "henry@student.usm.my, Henry2025\n",
        "ivy@student.usm.my, Ivy2025\n",
        "jack@student.usm.my, Jack2025"
      ],
      "metadata": {
        "id": "LfbaBg0aEQhl"
      },
      "execution_count": null,
      "outputs": []
    },
    {
      "cell_type": "markdown",
      "source": [
        "profiles.txt is ordered as matricNo << fullName << studentEmail << courseName"
      ],
      "metadata": {
        "id": "M5R_PqUUXtEP"
      }
    },
    {
      "cell_type": "code",
      "execution_count": null,
      "metadata": {
        "id": "O6eYyhzSlFTm"
      },
      "outputs": [],
      "source": [
        "%%writefile profiles.txt\n",
        "23301001, Alice Johnson, alice@student.usm.my, Software Engineering\n",
        "23302002, Bob Smith, bob@student.usm.my, Intelligent Computing\n",
        "23303003, Charlie Lee, charlie@student.usm.my, Computing Infrastructure\n",
        "23304004, Dana White, dana@student.usm.my, Software Engineering\n",
        "23305005, Ethan Tan, ethan@student.usm.my, Intelligent Computing\n",
        "23306006, Farah Lim, farah@student.usm.my, Computing Infrastructure\n",
        "23307007, Grace Wong, grace@student.usm.my, Software Engineering\n",
        "23308008, Henry Goh, henry@student.usm.my, Intelligent Computing\n",
        "23309009, Ivy Ng, ivy@student.usm.my, Computing Infrastructure\n",
        "23310010, Jack Lee, jack@student.usm.my, Software Engineering"
      ]
    },
    {
      "cell_type": "markdown",
      "source": [
        "friends.txt is ordered as matricNo_1 << matricNo_2\n"
      ],
      "metadata": {
        "id": "X5lQEEujDuW-"
      }
    },
    {
      "cell_type": "code",
      "source": [
        "%%writefile friends.txt\n",
        "23301001, 23302002\n",
        "23301001, 23302003\n",
        "23303003, 23304004\n",
        "23305005, 23306006\n",
        "23307007, 23308008\n",
        "23309009, 23310010"
      ],
      "metadata": {
        "id": "-mAQeCmDEyLm"
      },
      "execution_count": null,
      "outputs": []
    },
    {
      "cell_type": "markdown",
      "source": [
        "messages_matricNo.txt is formatted as:\n",
        "\n",
        "From : MatricNo_1\n",
        "\n",
        "message"
      ],
      "metadata": {
        "id": "GwNdVG6HFq3h"
      }
    },
    {
      "cell_type": "code",
      "source": [
        "%%writefile messages_23301001.txt\n",
        "From: 23302002\n",
        "Hey! Are you joining the Software Eng. workshop?\n",
        "\n",
        "From: 23303003\n",
        "Let's go to the park"
      ],
      "metadata": {
        "id": "BVEQsXa7Gxqj"
      },
      "execution_count": null,
      "outputs": []
    },
    {
      "cell_type": "code",
      "source": [
        "%%writefile messages_23302002.txt\n",
        "From: 23301001\n",
        "Can you share the Intelligent Computing slides?"
      ],
      "metadata": {
        "id": "kXubsEwFG08k"
      },
      "execution_count": null,
      "outputs": []
    },
    {
      "cell_type": "code",
      "source": [
        "%%writefile messages_23303003.txt\n",
        "From: 23304004\n",
        "Great job today in Infra Lab!\n",
        "\n",
        "From: 23301001\n",
        "Sure!"
      ],
      "metadata": {
        "id": "-mu90SeDG5TH"
      },
      "execution_count": null,
      "outputs": []
    },
    {
      "cell_type": "code",
      "source": [
        "%%writefile messages_23304004.txt\n",
        "From: 23303003\n",
        "Nice presentation today!"
      ],
      "metadata": {
        "id": "3_1qoN6-G9ec"
      },
      "execution_count": null,
      "outputs": []
    },
    {
      "cell_type": "code",
      "source": [
        "%%writefile messages_23305005.txt\n",
        "From: 23306006\n",
        "Sent the lab report draft."
      ],
      "metadata": {
        "id": "0fKSa7U9G-ri"
      },
      "execution_count": null,
      "outputs": []
    },
    {
      "cell_type": "code",
      "source": [
        "%%writefile messages_23306006.txt\n",
        "From: 23305005\n",
        "Team meeting at 5?"
      ],
      "metadata": {
        "id": "7ReCZrIhHDBv"
      },
      "execution_count": null,
      "outputs": []
    },
    {
      "cell_type": "code",
      "source": [
        "%%writefile messages_23307007.txt\n",
        "From: 23308008\n",
        "Let's finish our Software Eng. task."
      ],
      "metadata": {
        "id": "mKhDnDuGHFTi"
      },
      "execution_count": null,
      "outputs": []
    },
    {
      "cell_type": "code",
      "source": [
        "%%writefile messages_23308008.txt\n",
        "From: 23307007\n",
        "Good input in today's discussion!"
      ],
      "metadata": {
        "id": "HQQ9IOW3HIIe"
      },
      "execution_count": null,
      "outputs": []
    },
    {
      "cell_type": "code",
      "source": [
        "%%writefile messages_23309009.txt\n",
        "From: 23310010\n",
        "Review notes ready!"
      ],
      "metadata": {
        "id": "U02ibXtrHKWD"
      },
      "execution_count": null,
      "outputs": []
    },
    {
      "cell_type": "code",
      "source": [
        "%%writefile messages_23310010.txt\n",
        "From: 23309009\n",
        "Mock test tonight?"
      ],
      "metadata": {
        "id": "GFPnBEscHMEj"
      },
      "execution_count": null,
      "outputs": []
    },
    {
      "cell_type": "markdown",
      "source": [
        "groups.txt is formatted as matricNo << course\n"
      ],
      "metadata": {
        "id": "Jjdu2JapPiPF"
      }
    },
    {
      "cell_type": "code",
      "source": [
        "%%writefile group.txt\n",
        "23301001, SE\n",
        "23304004, SE\n",
        "23307007, SE\n",
        "23310010, SE\n",
        "23303003, CI\n",
        "23306006, CI\n",
        "23309009, CI\n",
        "23302002, IC\n",
        "23305005, IC\n",
        "23308008, IC"
      ],
      "metadata": {
        "id": "cCb4pU3CPp9S"
      },
      "execution_count": null,
      "outputs": []
    },
    {
      "cell_type": "markdown",
      "source": [
        "group_chat_course.txt is formatted as:\n",
        "\n",
        "matricNo: message\n"
      ],
      "metadata": {
        "id": "05jMYBlONvy4"
      }
    },
    {
      "cell_type": "code",
      "source": [
        "%%writefile group_chat_SE.txt\n",
        "23301001: Anyone started the use-case diagram for our SE assignment?\n",
        "23304004: I'm working on it now. Will share a draft tonight.\n",
        "23307007: I've listed the system actors in a doc — check Teams.\n",
        "23310010: Thanks! I'll start writing the user stories next."
      ],
      "metadata": {
        "id": "owUbcTYDOjAF"
      },
      "execution_count": null,
      "outputs": []
    },
    {
      "cell_type": "code",
      "source": [
        "%%writefile group_chat_CI.txt\n",
        "23303003: Lab 3 setup isn't working on my VM. Anyone else?\n",
        "23306006: Same issue here, it's a permissions thing.\n",
        "23309009: Fixed mine by changing the script path. Want me to share?\n",
        "23303003: Yes please! Drop it here."
      ],
      "metadata": {
        "id": "RPPPdIaCOmNZ"
      },
      "execution_count": null,
      "outputs": []
    },
    {
      "cell_type": "code",
      "source": [
        "%%writefile group_chat_IC.txt\n",
        "23302002: Reminder: AI presentation is tomorrow!\n",
        "23305005: Let's meet at 2PM to rehearse.\n",
        "23308008: I've updated the slides with the latest confusion matrix.\n",
        "23302002: Nice! Let's aim for 10 minutes max per person."
      ],
      "metadata": {
        "id": "eG0GgxjLOriE"
      },
      "execution_count": null,
      "outputs": []
    },
    {
      "cell_type": "markdown",
      "source": [
        "actions.txt is formatted as action_type : data"
      ],
      "metadata": {
        "id": "qojPcRurQNpJ"
      }
    },
    {
      "cell_type": "code",
      "source": [
        "CREATE_PROFILE:CS1001\n",
        "ADD_FRIEND:CS1001,CS1002\n",
        "SEND_MESSAGE:CS1001,CS1002,\"Hey, how’s the project?\"\n",
        "CREATE_PROFILE:CS1003\n",
        "ADD_FRIEND:CS1003,CS1002\n",
        "SEND_MESSAGE:CS1003,CS1002,\"Want to study together?\""
      ],
      "metadata": {
        "id": "95RJaHwnQWR2"
      },
      "execution_count": null,
      "outputs": []
    },
    {
      "cell_type": "markdown",
      "source": [
        "# C++ Code"
      ],
      "metadata": {
        "id": "vEbyaJbz3xtm"
      }
    },
    {
      "cell_type": "markdown",
      "source": [
        "# User - Base Class"
      ],
      "metadata": {
        "id": "dgThjbyN5o2r"
      }
    },
    {
      "cell_type": "code",
      "source": [
        "%%writefile User.h"
      ],
      "metadata": {
        "id": "OvAvynK85uvy"
      },
      "execution_count": null,
      "outputs": []
    },
    {
      "cell_type": "code",
      "source": [
        "%%writefile User.cpp"
      ],
      "metadata": {
        "id": "Pux2lgWs3xo-"
      },
      "execution_count": null,
      "outputs": []
    },
    {
      "cell_type": "markdown",
      "source": [
        "# Student_profile class"
      ],
      "metadata": {
        "id": "fvjWvXsN5wkh"
      }
    },
    {
      "cell_type": "code",
      "source": [
        "%%writefile Student_profile.h"
      ],
      "metadata": {
        "id": "BUuXaBdd30Cn"
      },
      "execution_count": null,
      "outputs": []
    },
    {
      "cell_type": "code",
      "source": [
        "%%writefile Student_profile.cpp"
      ],
      "metadata": {
        "id": "Shy90Qw535Wl"
      },
      "execution_count": null,
      "outputs": []
    },
    {
      "cell_type": "markdown",
      "source": [
        "# Menu class - CLI Menu Handler"
      ],
      "metadata": {
        "id": "mgLeboZQ572E"
      }
    },
    {
      "cell_type": "code",
      "source": [
        "%%writefile Menu.h"
      ],
      "metadata": {
        "id": "J2VNH5bt37ZP"
      },
      "execution_count": null,
      "outputs": []
    },
    {
      "cell_type": "code",
      "source": [
        "%%writefile Menu.cpp"
      ],
      "metadata": {
        "id": "UAoXKe0s4ANO"
      },
      "execution_count": null,
      "outputs": []
    },
    {
      "cell_type": "markdown",
      "source": [
        "# File_Manager class - File I/O Helper"
      ],
      "metadata": {
        "id": "zaqh0eCl6L3v"
      }
    },
    {
      "cell_type": "code",
      "source": [
        "%%writefile File_manager.h"
      ],
      "metadata": {
        "id": "ehbPksDl4Cm3"
      },
      "execution_count": null,
      "outputs": []
    },
    {
      "cell_type": "code",
      "source": [
        "%%writefile File_manager.cpp"
      ],
      "metadata": {
        "id": "99E-9eLU41LS"
      },
      "execution_count": null,
      "outputs": []
    },
    {
      "cell_type": "markdown",
      "source": [
        "# Student_Manager class - Main Logic (doubly linked list)"
      ],
      "metadata": {
        "id": "xm1lhi0-6aEs"
      }
    },
    {
      "cell_type": "code",
      "source": [
        "%%writefile Student_manager.h"
      ],
      "metadata": {
        "id": "fwMht2bg464y"
      },
      "execution_count": null,
      "outputs": []
    },
    {
      "cell_type": "code",
      "source": [
        "%%writefile Student_manager.cpp"
      ],
      "metadata": {
        "id": "Li339bNd4-Wp"
      },
      "execution_count": null,
      "outputs": []
    },
    {
      "cell_type": "markdown",
      "source": [
        "# Auth_manager class - Handles Login/SignUp"
      ],
      "metadata": {
        "id": "Dxlc_Fyg6-5a"
      }
    },
    {
      "cell_type": "code",
      "source": [
        "%%writefile Auth_manager.h"
      ],
      "metadata": {
        "id": "RTP2_n055BZy"
      },
      "execution_count": null,
      "outputs": []
    },
    {
      "cell_type": "code",
      "source": [
        "%%writefile Auth_manager.cpp"
      ],
      "metadata": {
        "id": "VJFsXDGv5Eof"
      },
      "execution_count": null,
      "outputs": []
    },
    {
      "cell_type": "markdown",
      "source": [
        "# UndoStack class - (Stack)"
      ],
      "metadata": {
        "id": "WWUxnjDs7LNL"
      }
    },
    {
      "cell_type": "code",
      "source": [
        "%%writefile UndoStack.h"
      ],
      "metadata": {
        "id": "cLLaFjC35JJf"
      },
      "execution_count": null,
      "outputs": []
    },
    {
      "cell_type": "code",
      "source": [
        "%%writefile UndoStack.cpp"
      ],
      "metadata": {
        "id": "OKL0Rvfu5MsB"
      },
      "execution_count": null,
      "outputs": []
    },
    {
      "cell_type": "markdown",
      "source": [
        "# MessageQueue class - (Queue)"
      ],
      "metadata": {
        "id": "QYyo9pZz7Vy6"
      }
    },
    {
      "cell_type": "code",
      "source": [
        "%%writefile MessageQueue.h"
      ],
      "metadata": {
        "id": "oRaQvcOh5Wmg"
      },
      "execution_count": null,
      "outputs": []
    },
    {
      "cell_type": "code",
      "source": [
        "%%writefile MessageQueue.cpp"
      ],
      "metadata": {
        "id": "xQktPG005arf"
      },
      "execution_count": null,
      "outputs": []
    },
    {
      "cell_type": "markdown",
      "source": [
        "# GroupChatCLL class - (Circular Linked List)"
      ],
      "metadata": {
        "id": "NJN864_X7zB5"
      }
    },
    {
      "cell_type": "code",
      "source": [
        "%%writefile GroupChatCLL.h"
      ],
      "metadata": {
        "id": "lncZ4Riy5doq"
      },
      "execution_count": null,
      "outputs": []
    },
    {
      "cell_type": "code",
      "source": [
        "%%writefile GroupChatCLL.cpp"
      ],
      "metadata": {
        "id": "MA8BKJyY5kvG"
      },
      "execution_count": null,
      "outputs": []
    },
    {
      "cell_type": "markdown",
      "source": [
        "# Main - Entry point"
      ],
      "metadata": {
        "id": "vaoVxiDt76iR"
      }
    },
    {
      "cell_type": "code",
      "source": [
        "%%writefile main.cpp"
      ],
      "metadata": {
        "id": "MGeNZIHV3zfY"
      },
      "execution_count": null,
      "outputs": []
    },
    {
      "cell_type": "code",
      "source": [
        "%%shell"
      ],
      "metadata": {
        "id": "RRo_Jpje5w9m"
      },
      "execution_count": null,
      "outputs": []
    },
    {
      "cell_type": "markdown",
      "source": [
        "# Example Test Cases"
      ],
      "metadata": {
        "id": "Yv2Oktdq5q6w"
      }
    },
    {
      "cell_type": "code",
      "source": [
        "%%shell"
      ],
      "metadata": {
        "id": "r4OORxDc8PRm"
      },
      "execution_count": null,
      "outputs": []
    }
  ]
}