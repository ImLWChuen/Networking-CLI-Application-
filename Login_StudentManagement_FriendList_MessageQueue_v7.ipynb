{
  "cells": [
    {
      "cell_type": "markdown",
      "metadata": {
        "id": "r6_gUvL0qnUN"
      },
      "source": [
        "# Group 36\n",
        "\n",
        "# Members:\n",
        "> Lim Jie Shen (23303397) \\\\\n",
        "> Loh Wei Chuen (23303986) \\\\\n",
        "> Lum Yeen Thoong (23304739) \\\\\n",
        "---"
      ]
    },
    {
      "cell_type": "markdown",
      "metadata": {
        "id": "Qx5Ezx6SrqC6"
      },
      "source": [
        "#Project Title: Networking CLI app\n",
        "\n",
        "---"
      ]
    },
    {
      "cell_type": "markdown",
      "metadata": {
        "id": "AbBKfzs-qpZq"
      },
      "source": [
        "##Project Specification:\n",
        "---"
      ]
    },
    {
      "cell_type": "markdown",
      "metadata": {
        "id": "cRPh4nHlrnBl"
      },
      "source": [
        "###Inputs\n",
        "\n",
        "1.\n",
        "\n",
        "2.\n",
        "\n",
        "3.\n",
        "\n",
        "4.\n",
        "\n",
        "Preloaded data files:\n",
        "\n",
        "1.\n",
        "\n",
        "2.\n",
        "\n",
        "3.\n",
        "\n",
        "4.\n",
        "\n",
        "Menu selections for program operations:\n",
        "\n",
        "1. Main Menu:\n",
        "\n",
        "2.\n",
        "\n",
        "3.\n",
        "\n",
        "4.\n",
        "\n",
        "5."
      ]
    },
    {
      "cell_type": "markdown",
      "metadata": {
        "id": "Nf-PvDFvsGdR"
      },
      "source": [
        "###Process\n",
        "User Management:\n",
        "1.\n"
      ]
    },
    {
      "cell_type": "markdown",
      "metadata": {
        "id": "OFojOzzasM_g"
      },
      "source": [
        "### Outputs\n",
        "1.\n",
        "\n",
        "---"
      ]
    },
    {
      "cell_type": "markdown",
      "metadata": {
        "id": "Xl13njxQsdWB"
      },
      "source": [
        "###Constraints\n",
        "1.\n",
        "---"
      ]
    },
    {
      "cell_type": "markdown",
      "metadata": {
        "id": "m_VXCQ6VsnuU"
      },
      "source": [
        "###Assumptions\n",
        "1.\n",
        "\n",
        "---"
      ]
    },
    {
      "cell_type": "markdown",
      "metadata": {
        "id": "UlQtrJ_OszDF"
      },
      "source": [
        "### Deliverables\n",
        "1.\n",
        "\n",
        "Data files:\n",
        "1.\n",
        "\n",
        "---"
      ]
    },
    {
      "cell_type": "markdown",
      "metadata": {
        "id": "XEHULz4CtAHW"
      },
      "source": [
        "##Problem Analysis"
      ]
    },
    {
      "cell_type": "markdown",
      "metadata": {
        "id": "uBOF3_cBtBNy"
      },
      "source": [
        "---\n",
        "###Program Scenario"
      ]
    },
    {
      "cell_type": "markdown",
      "metadata": {
        "id": "QZzSfqXFs6uW"
      },
      "source": [
        "---\n",
        "### Program Requirements\n",
        "1.\n",
        "\n",
        "---"
      ]
    },
    {
      "cell_type": "markdown",
      "metadata": {
        "id": "MqsBRswPtKEx"
      },
      "source": [
        "### Problem Statement\n",
        "\n",
        "\n",
        "---"
      ]
    },
    {
      "cell_type": "markdown",
      "metadata": {
        "id": "E9XeK868tObj"
      },
      "source": [
        "### Entities\n",
        "1.\n",
        "---"
      ]
    },
    {
      "cell_type": "markdown",
      "metadata": {
        "id": "yQmuJdLgtSzg"
      },
      "source": [
        "### Relationships\n",
        "\n",
        "---"
      ]
    },
    {
      "cell_type": "markdown",
      "metadata": {
        "id": "9Eo7b1m5tXzs"
      },
      "source": [
        "###How to Run the Program\n",
        "Prerequisites\n",
        "1. a\n",
        "\n",
        "Setup\n",
        "1. b\n",
        "\n",
        "Execution\n",
        "1. c\n",
        "---"
      ]
    },
    {
      "cell_type": "markdown",
      "metadata": {
        "id": "3gPXie7std0a"
      },
      "source": [
        "# Programming Design & Solution"
      ]
    },
    {
      "cell_type": "markdown",
      "metadata": {
        "id": "b1un7unbtmVu"
      },
      "source": [
        "##UML Diagram and relationship"
      ]
    },
    {
      "cell_type": "markdown",
      "metadata": {
        "id": "oZCHfEATtsgp"
      },
      "source": [
        "Please review the UML Diagram for ___ uploaded to [Google Drive](link).\n",
        "\n",
        "\n",
        "It is highly recommended to download the SVG file for clearer visibility of its contents. Download it [here](link)."
      ]
    },
    {
      "cell_type": "markdown",
      "metadata": {
        "id": "vffOjmE5t71S"
      },
      "source": [
        "---\n",
        "# Input Files"
      ]
    },
    {
      "cell_type": "markdown",
      "metadata": {
        "id": "8_VeWgcCEIvS"
      },
      "source": [
        "credentials.txt is ordered as studentEmail << password"
      ]
    },
    {
      "cell_type": "code",
      "execution_count": 94,
      "metadata": {
        "colab": {
          "base_uri": "https://localhost:8080/"
        },
        "id": "LfbaBg0aEQhl",
        "outputId": "1030bb88-3129-4638-f670-985509dca71b"
      },
      "outputs": [
        {
          "output_type": "stream",
          "name": "stdout",
          "text": [
            "Overwriting credentials.txt\n"
          ]
        }
      ],
      "source": [
        "%%writefile credentials.txt\n",
        "alice@student.usm.my,Alice2025\n",
        "bob@student.usm.my,Bob2025\n",
        "charlie@student.usm.my,Charlie2025\n",
        "dana@student.usm.my,Dana2025\n",
        "ethan@student.usm.my,Ethan2025\n",
        "farah@student.usm.my,Farah2025\n",
        "grace@student.usm.my,Grace2025\n",
        "henry@student.usm.my,Henry2025\n",
        "ivy@student.usm.my,Ivy2025\n",
        "jack@student.usm.my,Jack2025"
      ]
    },
    {
      "cell_type": "markdown",
      "metadata": {
        "id": "M5R_PqUUXtEP"
      },
      "source": [
        "profiles.txt is ordered as matricNo << fullName << studentEmail << courseName"
      ]
    },
    {
      "cell_type": "code",
      "execution_count": 95,
      "metadata": {
        "colab": {
          "base_uri": "https://localhost:8080/"
        },
        "id": "O6eYyhzSlFTm",
        "outputId": "9ae03df1-24b3-4195-e953-7f74daaa2786"
      },
      "outputs": [
        {
          "output_type": "stream",
          "name": "stdout",
          "text": [
            "Overwriting profiles.txt\n"
          ]
        }
      ],
      "source": [
        "%%writefile profiles.txt\n",
        "23301001,Alice Johnson,alice@student.usm.my,Software Engineering\n",
        "23302002,Bob Smith,bob@student.usm.my,Intelligent Computing\n",
        "23303003,Charlie Lee,charlie@student.usm.my,Computing Infrastructure\n",
        "23304004,Dana White,dana@student.usm.my,Software Engineering\n",
        "23305005,Ethan Tan,ethan@student.usm.my,Intelligent Computing\n",
        "23306006,Farah Lim,farah@student.usm.my,Computing Infrastructure\n",
        "23307007,Grace Wong,grace@student.usm.my,Software Engineering\n",
        "23308008,Henry Goh,henry@student.usm.my,Intelligent Computing\n",
        "23309009,Ivy Ng,ivy@student.usm.my,Computing Infrastructure\n",
        "23310010,Jack Lee,jack@student.usm.my,Software Engineering"
      ]
    },
    {
      "cell_type": "markdown",
      "metadata": {
        "id": "X5lQEEujDuW-"
      },
      "source": [
        "friends.txt is ordered as matricNo_1 << matricNo_2\n"
      ]
    },
    {
      "cell_type": "code",
      "execution_count": 96,
      "metadata": {
        "colab": {
          "base_uri": "https://localhost:8080/"
        },
        "id": "-mAQeCmDEyLm",
        "outputId": "89ae9b7d-6a67-46f2-a5a9-de9f48689f92"
      },
      "outputs": [
        {
          "output_type": "stream",
          "name": "stdout",
          "text": [
            "Overwriting friends.txt\n"
          ]
        }
      ],
      "source": [
        "%%writefile friends.txt\n",
        "23301001,23302002\n",
        "23301001,23303003\n",
        "23303003,23304004\n",
        "23305005,23306006\n",
        "23307007,23308008\n",
        "23309009,23310010"
      ]
    },
    {
      "cell_type": "markdown",
      "metadata": {
        "id": "GwNdVG6HFq3h"
      },
      "source": [
        "messages_matricNo.txt is formatted as:\n",
        "\n",
        "From : MatricNo_1\n",
        "\n",
        "message"
      ]
    },
    {
      "cell_type": "code",
      "execution_count": 97,
      "metadata": {
        "colab": {
          "base_uri": "https://localhost:8080/"
        },
        "id": "BVEQsXa7Gxqj",
        "outputId": "6698f800-6807-413f-a2d0-7b674434c2f7"
      },
      "outputs": [
        {
          "output_type": "stream",
          "name": "stdout",
          "text": [
            "Overwriting messages_23301001.txt\n"
          ]
        }
      ],
      "source": [
        "%%writefile messages_23301001.txt\n",
        "23302002|Hey! Are you joining the Software Eng. workshop?\n",
        "\n",
        "23303003|Let's go to the park"
      ]
    },
    {
      "cell_type": "code",
      "execution_count": 98,
      "metadata": {
        "colab": {
          "base_uri": "https://localhost:8080/"
        },
        "id": "kXubsEwFG08k",
        "outputId": "62693ea3-0b05-43f2-96cf-65af28f0d764"
      },
      "outputs": [
        {
          "output_type": "stream",
          "name": "stdout",
          "text": [
            "Overwriting messages_23302002.txt\n"
          ]
        }
      ],
      "source": [
        "%%writefile messages_23302002.txt\n",
        "23301001|Can you share the Intelligent Computing slides?"
      ]
    },
    {
      "cell_type": "code",
      "execution_count": 99,
      "metadata": {
        "colab": {
          "base_uri": "https://localhost:8080/"
        },
        "id": "-mu90SeDG5TH",
        "outputId": "7a68caaf-94c3-4bb0-c689-b500f87c0a64"
      },
      "outputs": [
        {
          "output_type": "stream",
          "name": "stdout",
          "text": [
            "Overwriting messages_23303003.txt\n"
          ]
        }
      ],
      "source": [
        "%%writefile messages_23303003.txt\n",
        "23304004|Great job today in Infra Lab!\n",
        "\n",
        "23301001|Sure!"
      ]
    },
    {
      "cell_type": "code",
      "execution_count": 100,
      "metadata": {
        "colab": {
          "base_uri": "https://localhost:8080/"
        },
        "id": "3_1qoN6-G9ec",
        "outputId": "50093975-afdb-4229-fb74-e7c036909c5b"
      },
      "outputs": [
        {
          "output_type": "stream",
          "name": "stdout",
          "text": [
            "Overwriting messages_23304004.txt\n"
          ]
        }
      ],
      "source": [
        "%%writefile messages_23304004.txt\n",
        "23303003|Nice presentation today!"
      ]
    },
    {
      "cell_type": "code",
      "execution_count": 101,
      "metadata": {
        "colab": {
          "base_uri": "https://localhost:8080/"
        },
        "id": "0fKSa7U9G-ri",
        "outputId": "f6f9b169-0172-4a88-b74e-39b1326e2a97"
      },
      "outputs": [
        {
          "output_type": "stream",
          "name": "stdout",
          "text": [
            "Overwriting messages_23305005.txt\n"
          ]
        }
      ],
      "source": [
        "%%writefile messages_23305005.txt\n",
        "23306006|Sent the lab report draft."
      ]
    },
    {
      "cell_type": "code",
      "execution_count": 102,
      "metadata": {
        "colab": {
          "base_uri": "https://localhost:8080/"
        },
        "id": "7ReCZrIhHDBv",
        "outputId": "9b5b152f-b111-46cb-a3ba-8d155e2ff7fa"
      },
      "outputs": [
        {
          "output_type": "stream",
          "name": "stdout",
          "text": [
            "Overwriting messages_23306006.txt\n"
          ]
        }
      ],
      "source": [
        "%%writefile messages_23306006.txt\n",
        "23305005|Team meeting at 5?"
      ]
    },
    {
      "cell_type": "code",
      "execution_count": 103,
      "metadata": {
        "colab": {
          "base_uri": "https://localhost:8080/"
        },
        "id": "mKhDnDuGHFTi",
        "outputId": "2d9be46b-5c5e-445a-e007-e840966cf83c"
      },
      "outputs": [
        {
          "output_type": "stream",
          "name": "stdout",
          "text": [
            "Overwriting messages_23307007.txt\n"
          ]
        }
      ],
      "source": [
        "%%writefile messages_23307007.txt\n",
        "23308008|Let's finish our Software Eng. task."
      ]
    },
    {
      "cell_type": "code",
      "execution_count": 104,
      "metadata": {
        "colab": {
          "base_uri": "https://localhost:8080/"
        },
        "id": "HQQ9IOW3HIIe",
        "outputId": "88d05bc5-d2ab-4932-ef38-ca4ec7b3e158"
      },
      "outputs": [
        {
          "output_type": "stream",
          "name": "stdout",
          "text": [
            "Overwriting messages_23308008.txt\n"
          ]
        }
      ],
      "source": [
        "%%writefile messages_23308008.txt\n",
        "23307007|Good input in today's discussion!"
      ]
    },
    {
      "cell_type": "code",
      "execution_count": 105,
      "metadata": {
        "colab": {
          "base_uri": "https://localhost:8080/"
        },
        "id": "U02ibXtrHKWD",
        "outputId": "b97e7e22-f4e4-4da6-8c43-bd11cf885891"
      },
      "outputs": [
        {
          "output_type": "stream",
          "name": "stdout",
          "text": [
            "Overwriting messages_23309009.txt\n"
          ]
        }
      ],
      "source": [
        "%%writefile messages_23309009.txt\n",
        "23310010|Review notes ready!"
      ]
    },
    {
      "cell_type": "code",
      "execution_count": 106,
      "metadata": {
        "colab": {
          "base_uri": "https://localhost:8080/"
        },
        "id": "GFPnBEscHMEj",
        "outputId": "60465609-7a18-4ba2-cff6-87ad3def5f94"
      },
      "outputs": [
        {
          "output_type": "stream",
          "name": "stdout",
          "text": [
            "Overwriting messages_23310010.txt\n"
          ]
        }
      ],
      "source": [
        "%%writefile messages_23310010.txt\n",
        "23309009|Mock test tonight?"
      ]
    },
    {
      "cell_type": "markdown",
      "metadata": {
        "id": "Jjdu2JapPiPF"
      },
      "source": [
        "groups.txt is formatted as matricNo << course\n"
      ]
    },
    {
      "cell_type": "code",
      "execution_count": 107,
      "metadata": {
        "colab": {
          "base_uri": "https://localhost:8080/"
        },
        "id": "cCb4pU3CPp9S",
        "outputId": "f3622810-a219-41bc-87d6-7154b6d59411"
      },
      "outputs": [
        {
          "output_type": "stream",
          "name": "stdout",
          "text": [
            "Overwriting group.txt\n"
          ]
        }
      ],
      "source": [
        "%%writefile group.txt\n",
        "23301001,SE\n",
        "23304004,SE\n",
        "23307007,SE\n",
        "23310010,SE\n",
        "23303003,CI\n",
        "23306006,CI\n",
        "23309009,CI\n",
        "23302002,IC\n",
        "23305005,IC\n",
        "23308008,IC"
      ]
    },
    {
      "cell_type": "markdown",
      "metadata": {
        "id": "05jMYBlONvy4"
      },
      "source": [
        "group_chat_course.txt is formatted as:\n",
        "\n",
        "matricNo: message\n"
      ]
    },
    {
      "cell_type": "code",
      "execution_count": 108,
      "metadata": {
        "colab": {
          "base_uri": "https://localhost:8080/"
        },
        "id": "owUbcTYDOjAF",
        "outputId": "35d03bb5-07ec-49ee-c54a-333cebb66d84"
      },
      "outputs": [
        {
          "output_type": "stream",
          "name": "stdout",
          "text": [
            "Overwriting group_chat_SE.txt\n"
          ]
        }
      ],
      "source": [
        "%%writefile group_chat_SE.txt\n",
        "23301001|Anyone started the use-case diagram for our SE assignment?\n",
        "23304004|I'm working on it now. Will share a draft tonight.\n",
        "23307007|I've listed the system actors in a doc check Teams.\n",
        "23310010|Thanks! I'll start writing the user stories next."
      ]
    },
    {
      "cell_type": "code",
      "execution_count": 109,
      "metadata": {
        "colab": {
          "base_uri": "https://localhost:8080/"
        },
        "id": "RPPPdIaCOmNZ",
        "outputId": "258a8524-3075-4cca-bbea-6ecf57819833"
      },
      "outputs": [
        {
          "output_type": "stream",
          "name": "stdout",
          "text": [
            "Overwriting group_chat_CI.txt\n"
          ]
        }
      ],
      "source": [
        "%%writefile group_chat_CI.txt\n",
        "23303003|Lab 3 setup isn't working on my VM. Anyone else?\n",
        "23306006|Same issue here, it's a permissions thing.\n",
        "23309009|Fixed mine by changing the script path. Want me to share?\n",
        "23303003|Yes please! Drop it here."
      ]
    },
    {
      "cell_type": "code",
      "execution_count": 110,
      "metadata": {
        "colab": {
          "base_uri": "https://localhost:8080/"
        },
        "id": "eG0GgxjLOriE",
        "outputId": "c216e936-acfa-4d9e-8de9-e57288f2b39c"
      },
      "outputs": [
        {
          "output_type": "stream",
          "name": "stdout",
          "text": [
            "Overwriting group_chat_IC.txt\n"
          ]
        }
      ],
      "source": [
        "%%writefile group_chat_IC.txt\n",
        "23302002|Reminder: AI presentation is tomorrow!\n",
        "23305005|Let's meet at 2PM to rehearse.\n",
        "23308008|I've updated the slides with the latest confusion matrix.\n",
        "23302002|Nice! Let's aim for 10 minutes max per person."
      ]
    },
    {
      "cell_type": "markdown",
      "metadata": {
        "id": "qojPcRurQNpJ"
      },
      "source": [
        "actions.txt is formatted as action_type : data"
      ]
    },
    {
      "cell_type": "code",
      "execution_count": 111,
      "metadata": {
        "colab": {
          "base_uri": "https://localhost:8080/"
        },
        "id": "95RJaHwnQWR2",
        "outputId": "f5ef0758-d769-4a71-cc5a-f580d1934995"
      },
      "outputs": [
        {
          "output_type": "stream",
          "name": "stdout",
          "text": [
            "Overwriting actions.txt\n"
          ]
        }
      ],
      "source": [
        "%%writefile actions.txt\n",
        "CREATE_PROFILE:CS1001\n",
        "ADD_FRIEND:CS1001,CS1002\n",
        "SEND_MESSAGE:CS1001,CS1002,\"Hey, how's the project?\"\n",
        "CREATE_PROFILE:CS1003\n",
        "ADD_FRIEND:CS1003,CS1002\n",
        "SEND_MESSAGE:CS1003,CS1002,\"Want to study together?\""
      ]
    },
    {
      "cell_type": "markdown",
      "metadata": {
        "id": "vEbyaJbz3xtm"
      },
      "source": [
        "# C++ Code"
      ]
    },
    {
      "cell_type": "markdown",
      "metadata": {
        "id": "fvjWvXsN5wkh"
      },
      "source": [
        "### Student class - (Doubly Linked List)"
      ]
    },
    {
      "cell_type": "code",
      "execution_count": 112,
      "metadata": {
        "colab": {
          "base_uri": "https://localhost:8080/"
        },
        "id": "BUuXaBdd30Cn",
        "outputId": "c6ae964c-a2cf-4717-ff19-3b53dd1d338c"
      },
      "outputs": [
        {
          "output_type": "stream",
          "name": "stdout",
          "text": [
            "Overwriting Student.h\n"
          ]
        }
      ],
      "source": [
        "%%writefile Student.h\n",
        "#ifndef STUDENT_H\n",
        "#define STUDENT_H\n",
        "\n",
        "#include <iostream>\n",
        "#include <string>\n",
        "using namespace std;\n",
        "\n",
        "// --- User Base Class ---\n",
        "// Base class representing a general user with email and password\n",
        "\n",
        "class User {\n",
        "protected:\n",
        "  string email_;       // Email address (eg. alice@student.usm.my)\n",
        "  string password_;    // Password      (eg. Alice2025)\n",
        "\n",
        "public:\n",
        "  User();                                   // Default constructor\n",
        "  User(string email, string password);      // Overloaded constructor\n",
        "\n",
        "  string getEmail() const;                  // Getter for email\n",
        "  string getPassword() const;               // Getter for password\n",
        "  void setEmail(const string& email);       // Setter for email\n",
        "  void setPassword(const string& password); // Setter for password\n",
        "\n",
        "};\n",
        "\n",
        "// --- Student Class ---\n",
        "// Derived class from User, represents a student with additional info\n",
        "\n",
        "class Student : public User {\n",
        "private:\n",
        "  string matricNo_;     // Student's matriculation number (eg. 23301001)\n",
        "  string fullName_;     // Full name of the student       (eg. Alice Johnson)\n",
        "  string courseName_;   // Enrolled course name           (eg. Software Engineering)\n",
        "\n",
        "public:\n",
        "  Student();  // Default constructor\n",
        "\n",
        "  // Overloaded Constructors with different parameter combinations\n",
        "  Student(string matricNo, string fullName, string email, string courseName);\n",
        "  Student(string matricNo, string fullName, string email, string password, string courseName);\n",
        "\n",
        "  // Getters\n",
        "  string getMatricNo() const;                     // Getter for matriculation number\n",
        "  string getFullName() const;                     // Getter for full name\n",
        "  string getCourseName() const;                   // Getter for course name\n",
        "\n",
        "  // Setters\n",
        "  void setMatricNo(const string& matricNo);       // Setter for matriculation number\n",
        "  void setFullName(const string& fullName);       // Setter for full name\n",
        "  void setCourseName(const string& courseName);   // Setter for course name\n",
        "\n",
        "  // Print student information\n",
        "  void printInfo() const;\n",
        "};\n",
        "\n",
        "// --- Node for Linked List ---\n",
        "// A node structure for the doubly linked list that stores a Student pointer\n",
        "\n",
        "struct Node {\n",
        "  Student* data;  // Pointer to a Student object\n",
        "  Node* next;     // Pointer to the next node in the list\n",
        "  Node* prev;     // Pointer to the previous node in the list\n",
        "\n",
        "  // Constructor with default value\n",
        "  Node(Student* s = nullptr) {\n",
        "    data = s;\n",
        "    next = nullptr;\n",
        "    prev = nullptr;\n",
        "  }\n",
        "};\n",
        "\n",
        "// --- StudentManager Class ---\n",
        "// Manages a doubly linked list of students\n",
        "\n",
        "enum Key { MATRIC, NAME, EMAIL, COURSE };  // Enumeration to choose sorting/searching keys\n",
        "\n",
        "class StudentManager {\n",
        "private:\n",
        "  Node* head;             // Pointer to the head of the doubly linked list\n",
        "\n",
        "public:\n",
        "  StudentManager();       // Constructor\n",
        "  ~StudentManager();      // Destructor to clean up memory\n",
        "\n",
        "  Node* getHead() const;  // Getter for head node\n",
        "\n",
        "  Node* searchData(Key key, const string& value) const; // Searches the list based on a key (e.g., MATRIC, NAME, etc.)\n",
        "  void sortedInsert(Student* s);                        // Inserts student in a sorted way based on MATRIC by default or after sorting\n",
        "  void sortList(Key key);                               // Sorts the list based on the provided key\n",
        "\n",
        "  void printAscList() const;                            // Print the list from head to tail\n",
        "  void printDescList() const;                           // Print the list from tail to head (reverse)\n",
        "  void printHeader() const;                             // Prints table headers for student list\n",
        "  void printLine() const;                               // Prints a line separator\n",
        "};\n",
        "\n",
        "#endif // STUDENT_H"
      ]
    },
    {
      "cell_type": "code",
      "execution_count": 113,
      "metadata": {
        "colab": {
          "base_uri": "https://localhost:8080/"
        },
        "id": "Shy90Qw535Wl",
        "outputId": "499430ca-4a79-4b5b-a4e5-97b76b3c242e"
      },
      "outputs": [
        {
          "output_type": "stream",
          "name": "stdout",
          "text": [
            "Overwriting Student.cpp\n"
          ]
        }
      ],
      "source": [
        "%%writefile Student.cpp\n",
        "#include \"Student.h\"\n",
        "#include <iomanip>  // For formatted output using setw, fixed, etc.\n",
        "\n",
        "// --- User Implementation ---\n",
        "// Default constructor initializing email and password to empty strings\n",
        "User::User() {\n",
        "  email_ = \"\";\n",
        "  password_ = \"\";\n",
        "}\n",
        "\n",
        "// Parameterized constructor to initialize email and password\n",
        "User::User(string email, string password) {\n",
        "  email_ = email;\n",
        "  password_ = password;\n",
        "}\n",
        "\n",
        "// Getters for email and password\n",
        "string User::getEmail() const { return email_; }\n",
        "string User::getPassword() const { return password_; }\n",
        "\n",
        "// Setters for email and password\n",
        "void User::setEmail(const string& email) { email_ = email; }\n",
        "void User::setPassword(const string& password) { password_ = password; }\n",
        "\n",
        "// --- Student Implementation ---\n",
        "// Default constructor initializing all fields to empty\n",
        "Student::Student() {\n",
        "  matricNo_ = \"\";\n",
        "  fullName_ = \"\";\n",
        "  email_ = \"\";\n",
        "  courseName_ = \"\";\n",
        "}\n",
        "\n",
        "// Constructor without password (sets password to empty string)\n",
        "Student::Student(string matricNo, string fullName, string email, string courseName) {\n",
        "  matricNo_ = matricNo;\n",
        "  fullName_ = fullName;\n",
        "  email_ = email;\n",
        "  courseName_ = courseName;\n",
        "  password_ = \"\";\n",
        "}\n",
        "\n",
        "// Constructor with password\n",
        "Student::Student(string matricNo, string fullName, string email, string password, string courseName) {\n",
        "  matricNo_ = matricNo;\n",
        "  fullName_ = fullName;\n",
        "  email_ = email;\n",
        "  password_ = password;\n",
        "  courseName_ = courseName;\n",
        "}\n",
        "\n",
        "// Getters\n",
        "string Student::getMatricNo() const { return matricNo_; }\n",
        "string Student::getFullName() const { return fullName_; }\n",
        "string Student::getCourseName() const { return courseName_; }\n",
        "\n",
        "// Setters\n",
        "void Student::setMatricNo(const string& matricNo) { matricNo_ = matricNo; }\n",
        "void Student::setFullName(const string& fullName) { fullName_ = fullName; }\n",
        "void Student::setCourseName(const string& courseName) { courseName_ = courseName; }\n",
        "\n",
        "// Print student details in a table row format\n",
        "void Student::printInfo() const {\n",
        "    cout << \"| \" << setw(12) << matricNo_\n",
        "         << setw(20) << fullName_\n",
        "         << setw(24) << email_\n",
        "         << setw(25) << courseName_ << \"|\" << endl;\n",
        "}\n",
        "\n",
        "// --- StudentManager Implementation ---\n",
        "// Constructor initializes head of the list to nullptr\n",
        "StudentManager::StudentManager() {\n",
        "  head = nullptr;\n",
        "}\n",
        "\n",
        "// Destructor traverses the list and deallocates memory for each node and Student object\n",
        "StudentManager::~StudentManager() {\n",
        "  Node* current = head;\n",
        "  while (current) {\n",
        "      Node* temp = current;\n",
        "      current = current->next;\n",
        "      delete temp->data;  // Delete the Student object\n",
        "      delete temp;        // Delete the node itself\n",
        "  }\n",
        "}\n",
        "\n",
        "// Returns pointer to the head of the list\n",
        "Node* StudentManager::getHead() const { return head; }\n",
        "\n",
        "// Search the list by a specified key (MATRIC, NAME, EMAIL, COURSE)\n",
        "// Returns: Pointer to the first matching Node, or nullptr if not found.\n",
        "Node* StudentManager::searchData(Key key, const string& value) const {\n",
        "  Node* current = head; // Start from the head of the doubly linked list\n",
        "\n",
        "  // Traverse the linked list\n",
        "  while (current) {\n",
        "    switch (key) {\n",
        "      case NAME:\n",
        "        // If the key is NAME, compare the student's full name with the search value\n",
        "        if (current->data->getFullName() == value) return current;\n",
        "        break;\n",
        "\n",
        "      case EMAIL:\n",
        "        // If the key is EMAIL, compare the student's email with the search value\n",
        "        if (current->data->getEmail() == value) return current;\n",
        "        break;\n",
        "\n",
        "      case MATRIC:\n",
        "        // If the key is MATRIC, compare the student's matric number with the search value\n",
        "        if (current->data->getMatricNo() == value) return current;\n",
        "        break;\n",
        "\n",
        "      case COURSE:\n",
        "        // If the key is COURSE, compare the student's course name with the search value\n",
        "        if (current->data->getCourseName() == value) return current;\n",
        "        break;\n",
        "    }\n",
        "\n",
        "    // Move to the next node in the list\n",
        "    current = current->next;\n",
        "  }\n",
        "\n",
        "  // If no matching node is found, return nullptr\n",
        "  return nullptr;\n",
        "}\n",
        "\n",
        "// Insert a student into the list in ascending order by matric number\n",
        "void StudentManager::sortedInsert(Student* s) {\n",
        "  Node* newNode = new Node(s);\n",
        "\n",
        "  // If the list is empty OR the new student's matriculation number is smaller than the current head's:\n",
        "  if (!head || s->getMatricNo() < head->data->getMatricNo()) {\n",
        "    newNode->next = head;           // Set the new node's 'next' pointer to the current head.\n",
        "\n",
        "    if (head) head->prev = newNode; // If there was an existing head, update its 'prev' pointer to the new node.\n",
        "    head = newNode;                 // Make the new node the new head of the list.\n",
        "\n",
        "    return;                         // Insertion complete, exit\n",
        "  }\n",
        "\n",
        "  // Find correct position to insert\n",
        "  Node* current = head; // Start from the beginning.\n",
        "\n",
        "  // Move 'current' forward as long as the next node's matriculation number\n",
        "  // is smaller than the new student's, maintaining sorted order.\n",
        "  while (current->next && current->next->data->getMatricNo() < s->getMatricNo())\n",
        "    current = current->next;\n",
        "\n",
        "  // 'current' is now the node *before* where 'newNode' should be inserted.\n",
        "\n",
        "  // Link 'newNode' into the list:\n",
        "  newNode->next = current->next;                    // New node points to what 'current' was pointing to.\n",
        "  newNode->prev = current;                          // New node points back to 'current'.\n",
        "  if (current->next) current->next->prev = newNode; // If there's a node after 'newNode', update its 'prev'.\n",
        "  current->next = newNode;                          // 'current' now points to 'newNode'.\n",
        "}\n",
        "\n",
        "// Sort the list based on the selected key using a basic bubble sort algorithm\n",
        "void StudentManager::sortList(Key key) {\n",
        "\n",
        "  // If the list is empty or has only one node, it's already sorted\n",
        "  if (!head || !head->next) return;\n",
        "\n",
        "  bool swapped;  // Flag to indicate whether a swap occurred during a pass\n",
        "\n",
        "  // Perform bubble sort: keep looping until no swaps are needed\n",
        "  do {\n",
        "    swapped = false;       // Reset swap flag before each pass\n",
        "    Node* current = head;  // Start from the head of the list\n",
        "\n",
        "      // Traverse the list until the second-last node\n",
        "      while (current->next) {\n",
        "        bool shouldSwap = false;  // Flag to determine if current node should be swapped with next\n",
        "\n",
        "        // Compare the current and next student based on the specified key\n",
        "        switch (key) {\n",
        "          case MATRIC:\n",
        "            shouldSwap = current->data->getMatricNo() > current->next->data->getMatricNo();\n",
        "            break;\n",
        "          case NAME:\n",
        "            shouldSwap = current->data->getFullName() > current->next->data->getFullName();\n",
        "            break;\n",
        "          case EMAIL:\n",
        "            shouldSwap = current->data->getEmail() > current->next->data->getEmail();\n",
        "            break;\n",
        "          case COURSE:\n",
        "            shouldSwap = current->data->getCourseName() > current->next->data->getCourseName();\n",
        "            break;\n",
        "        }\n",
        "\n",
        "        // If out of order, swap the actual Student pointers (not the nodes)\n",
        "        if (shouldSwap) {\n",
        "          Student* temp = current->data;\n",
        "          current->data = current->next->data;\n",
        "          current->next->data = temp;\n",
        "\n",
        "          swapped = true;  // A swap occurred, so we may need another pass\n",
        "        }\n",
        "\n",
        "        // Move to the next node in the list\n",
        "        current = current->next;\n",
        "      }\n",
        "\n",
        "  // Loop repeats if any swaps were made during the pass\n",
        "  } while (swapped);\n",
        "}\n",
        "\n",
        "// Print the list in ascending order (from head to tail)\n",
        "void StudentManager::printAscList() const {\n",
        "\n",
        "  // If the list is empty, display a message and return\n",
        "  if (!head) {\n",
        "    cout << \"List is empty.\" << endl;\n",
        "    return;\n",
        "  }\n",
        "\n",
        "  // Print the table header\n",
        "  printHeader();\n",
        "\n",
        "  // Start from the head of the list\n",
        "  Node* current = head;\n",
        "\n",
        "  // Traverse the list from head to tail\n",
        "  while (current) {\n",
        "    current->data->printInfo();  // Print each student's info\n",
        "    current = current->next;     // Move to the next node\n",
        "  }\n",
        "\n",
        "  printLine();  // Print closing line after the list\n",
        "}\n",
        "\n",
        "// Print the list in descending order (from tail to head)\n",
        "void StudentManager::printDescList() const {\n",
        "  // If the list is empty, print and exit\n",
        "  if (!head) {\n",
        "    cout << \"List is empty.\" << endl;\n",
        "    return;\n",
        "  }\n",
        "\n",
        "  // Traverse to the last node (tail of the list)\n",
        "  Node* current = head;\n",
        "  while (current->next)\n",
        "    current = current->next;\n",
        "\n",
        "  printHeader();  // Print the formatted table header\n",
        "\n",
        "  // Traverse backward from tail to head using the prev pointers\n",
        "  while (current) {\n",
        "    current->data->printInfo();  // Print each student's data\n",
        "    current = current->prev;     // Move to the previous node\n",
        "  }\n",
        "\n",
        "  printLine();  // Print bottom border line for visual closure\n",
        "}\n",
        "\n",
        "// Print the formatted table header\n",
        "void StudentManager::printHeader() const {\n",
        "  cout << left << fixed;\n",
        "\n",
        "  printLine();\n",
        "  cout << setw(35) << \"|\" << setw(48) << \"Student\" << \"|\" << endl;\n",
        "  printLine();\n",
        "  cout << \"| \" << setw(12) << \"MATRIC\"\n",
        "       << setw(20) << \"FULL NAME\"\n",
        "       << setw(24) << \"EMAIL\"\n",
        "       << setw(25) << \"COURSE NAME\" << \"|\" << endl;\n",
        "}\n",
        "\n",
        "// Print a separator line for table formatting\n",
        "void StudentManager::printLine() const {\n",
        "  cout << \"+\";\n",
        "  for (int i = 0; i < 82; i++) cout << \"-\";\n",
        "  cout << \"+\" << endl;\n",
        "}"
      ]
    },
    {
      "cell_type": "markdown",
      "metadata": {
        "id": "mgLeboZQ572E"
      },
      "source": [
        "### Menu class - CLI Menu Handler"
      ]
    },
    {
      "cell_type": "code",
      "execution_count": 114,
      "metadata": {
        "colab": {
          "base_uri": "https://localhost:8080/"
        },
        "id": "Vx3BJrAUK6ay",
        "outputId": "905ddf45-38e3-47ca-c738-fd2b07e7afd6"
      },
      "outputs": [
        {
          "output_type": "stream",
          "name": "stdout",
          "text": [
            "Overwriting CLI.h\n"
          ]
        }
      ],
      "source": [
        "%%writefile CLI.h\n",
        "#ifndef CLI_H\n",
        "#define CLI_H\n",
        "\n",
        "// Include necessary modules for managing students, friends, messages, and files\n",
        "#include \"Student.h\"\n",
        "#include \"Friends.h\"\n",
        "#include \"Message.h\"\n",
        "#include \"FileManager.h\"\n",
        "#include <string>\n",
        "using namespace std;\n",
        "\n",
        "// --- CLI (Command Line Interface) Class ---\n",
        "// Responsible for handling all user interactions through a text-based menu system.\n",
        "\n",
        "class CLI {\n",
        "private:\n",
        "\n",
        "  // Pointers to key manager classes (dependency injection - making it loosely coupled)\n",
        "  FileManager* fileManager;     // Handles file I/O\n",
        "  StudentManager* sm;           // Manages student records\n",
        "  FriendsManager* fm;           // Manages friendships\n",
        "  MessageManager* mm;           // Manages messaging\n",
        "  string currentUserId;         // Stores the currently logged-in user's ID (eg. matricNo.)\n",
        "\n",
        "  // --- Helper Methods ---\n",
        "  bool login();   // Handles user login logic\n",
        "  void signup();  // Handles user registration logic\n",
        "\n",
        "  // Sets up user profile after signup\n",
        "  void profileSetUp(const string& email, const string& password);\n",
        "\n",
        "  // Email and password validation methods\n",
        "  bool isValidUSMEmail(const string& email);  // Validates if the email is in proper USM format\n",
        "  bool isValidPassword(const string& pw);     // Validates password strength\n",
        "  bool isUpper(char ch);                      // Checks for uppercase character\n",
        "  bool isLower(char ch);                      // Checks for lowercase character\n",
        "  bool isDigit(char ch);                      // Checks for digit character\n",
        "\n",
        "  // Converts a string to Title Case\n",
        "  string toTitleCase(const string& input);\n",
        "\n",
        "  // --- Menu Display Methods ---\n",
        "  void displayLoginMenu();                          // Shown at startup\n",
        "  void displayMainMenu();                           // Main navigation after login\n",
        "  void displayStudentMenu();                        // Menu for student profile operations\n",
        "  void displayFriendMenu(Student* currentUser);     // Friend management\n",
        "  void displayInboxAndThread(Student* currentUser); // Messaging UI\n",
        "\n",
        "public:\n",
        "    // Constructor accepts required manager dependencies\n",
        "    CLI(FileManager* fileManager);\n",
        "\n",
        "    // Starts the CLI application\n",
        "    void run();\n",
        "};\n",
        "\n",
        "#endif // CLI_H"
      ]
    },
    {
      "cell_type": "code",
      "execution_count": 115,
      "metadata": {
        "colab": {
          "base_uri": "https://localhost:8080/"
        },
        "id": "q4hbK3EBK6az",
        "outputId": "d137964d-e0fd-461e-eb20-26efe1e06c77"
      },
      "outputs": [
        {
          "output_type": "stream",
          "name": "stdout",
          "text": [
            "Overwriting CLI.cpp\n"
          ]
        }
      ],
      "source": [
        "%%writefile CLI.cpp\n",
        "#include \"CLI.h\"\n",
        "#include <iostream>\n",
        "\n",
        "// Constructor: initializes pointers to manager classes using the provided FileManager\n",
        "CLI::CLI(FileManager* fileManager) {\n",
        "  this->fileManager = fileManager;\n",
        "  sm = fileManager->getStudentManager();\n",
        "  fm = fileManager->getFriendsManager();\n",
        "  mm = fileManager->getMessageManager();\n",
        "  currentUserId = \"\";  // initially no user is logged in\n",
        "}\n",
        "\n",
        "// --- Helper Methods ---\n",
        "bool CLI::isUpper(char ch) { return ch >= 'A' && ch <= 'Z'; } // Checks if a character is uppercase\n",
        "bool CLI::isLower(char ch) { return ch >= 'a' && ch <= 'z'; } // Checks if a character is lowercase\n",
        "bool CLI::isDigit(char ch) { return ch >= '0' && ch <= '9'; } // Checks if a character is a digit\n",
        "\n",
        "// Validates that the email is a USM student email\n",
        "bool CLI::isValidUSMEmail(const string& email) {\n",
        "  string domain = \"@student.usm.my\";\n",
        "  if (email.length() > domain.length() + 2) {                           // ab@student.usm.my (length = 18) → passes.\n",
        "    return email.substr(email.length() - domain.length()) == domain;    // a@student.usm.my (length = 17) → fails (not enough characters before the domain).\n",
        "  }                                                                     // substr to start from the @ to the end to check domain\n",
        "  return false;\n",
        "}\n",
        "\n",
        "// Validates password strength: must contain upper, lower, and digit\n",
        "bool CLI::isValidPassword(const string& pw) {\n",
        "  bool hasUpper = false, hasLower = false, hasDigit = false;\n",
        "  for (char ch : pw) {  // Range based for loop is safer (no type casting or index overflow).\n",
        "    if (isUpper(ch))\n",
        "      hasUpper = true;\n",
        "    else if (isLower(ch))\n",
        "      hasLower = true;\n",
        "    else if (isDigit(ch))\n",
        "      hasDigit = true;\n",
        "  }\n",
        "  return hasUpper && hasLower && hasDigit;\n",
        "}\n",
        "\n",
        "// Converts an input string to title case\n",
        "// The first letter of each word is capitalized, the rest are lowercase.\n",
        "string CLI::toTitleCase(const string& input) {\n",
        "  string result = input;     // Make a copy of the input to modify\n",
        "  bool newWord = true;       // Flag to check if current character starts a new word\n",
        "\n",
        "  for (int i = 0; i < (int)result.length(); ++i) {\n",
        "    char& ch = result[i];  // Reference to the current character\n",
        "\n",
        "    // Check for word boundaries (space or hyphen)\n",
        "    if (ch == ' ' || ch == '-') {\n",
        "      newWord = true;    // Next character will start a new word\n",
        "    } else {\n",
        "      if (newWord && ch >= 'a' && ch <= 'z') {\n",
        "          ch -= 32;      // Convert first letter of the word to uppercase (ASCII)\n",
        "      } else if (!newWord && ch >= 'A' && ch <= 'Z') {\n",
        "          ch += 32;      // Convert non-first uppercase letters to lowercase (ASCII)\n",
        "      }\n",
        "      newWord = false;   // Subsequent characters are not the start of a word\n",
        "    }\n",
        "  }\n",
        "  return result;  // Return the modified string\n",
        "}\n",
        "\n",
        "// --- Menu Display Methods ---\n",
        "\n",
        "// Display main login page menu\n",
        "void CLI::displayLoginMenu() {\n",
        "  cout << \"+--------------------------------------------+\" << endl;\n",
        "  cout << \"|     Student Networking CLI Application     |\" << endl;\n",
        "  cout << \"+--------------------------------------------+\" << endl;\n",
        "  cout << \"| [1] Login                                  |\" << endl;\n",
        "  cout << \"| [2] Register                               |\" << endl;\n",
        "  cout << \"| [3] Exit                                   |\" << endl;\n",
        "  cout << \"+--------------------------------------------+\" << endl;\n",
        "}\n",
        "\n",
        "// Display main application menu after login\n",
        "void CLI::displayMainMenu() {\n",
        "  cout << \"+---------------------------------------+\" << endl;\n",
        "  cout << \"|               Main Menu               |\" << endl;\n",
        "  cout << \"+---------------------------------------+\" << endl;\n",
        "  cout << \"| [1] View All Student Profiles         |\" << endl;\n",
        "  cout << \"| [2] View Personal Profile             |\" << endl;\n",
        "  cout << \"| [3] Friends                           |\" << endl;\n",
        "  cout << \"| [4] View Personal Inbox               |\" << endl;\n",
        "  cout << \"| [5] Undo Actions                      |\" << endl;\n",
        "  cout << \"| [6] View Group Chats                  |\" << endl;\n",
        "  cout << \"| [7] Logout                            |\" << endl;\n",
        "  cout << \"+---------------------------------------+\" << endl;\n",
        "}\n",
        "\n",
        "// Display submenu for student sorting options\n",
        "void CLI::displayStudentMenu() {\n",
        "  cout << \"\\n+------------------------------------+\" << endl;\n",
        "  cout << \"|           Student Menu             |\" << endl;\n",
        "  cout << \"+------------------------------------+\" << endl;\n",
        "  cout << \"| [1] Sort by Matric Number          |\" << endl;\n",
        "  cout << \"| [2] Sort by Name                   |\" << endl;\n",
        "  cout << \"| [3] Sort by Course                 |\" << endl;\n",
        "  cout << \"| [4] Print Ascending List           |\" << endl;\n",
        "  cout << \"| [5] Print Descending List          |\" << endl;\n",
        "  cout << \"| [6] Back                           |\" << endl;\n",
        "  cout << \"+------------------------------------+\" << endl;\n",
        "}\n",
        "\n",
        "// Friend management menu\n",
        "void CLI::displayFriendMenu(Student* currentUser) {\n",
        "\n",
        "  // If no user is logged in (currentUser is null), exit immediately.\n",
        "  if (!currentUser) return;\n",
        "\n",
        "  // Get the specific friend list for the current user from the FriendsManager.\n",
        "  FriendList* fl = fm->findOrCreateList(currentUser->getMatricNo());\n",
        "\n",
        "  // variables to store the user's menu choice and an matricNo. for friend operations.\n",
        "  int friendOpt;\n",
        "  string id;\n",
        "\n",
        "  do {\n",
        "    cout << \"\\n+------------------------------------+\" << endl;\n",
        "    cout << \"|             Friends Menu           |\" << endl;\n",
        "    cout << \"+------------------------------------+\" << endl;\n",
        "    cout << \"| [1] View Friend List               |\" << endl;\n",
        "    cout << \"| [2] Add a Friend                   |\" << endl;\n",
        "    cout << \"| [3] Remove a Friend                |\" << endl;\n",
        "    cout << \"| [4] Back                           |\" << endl;\n",
        "    cout << \"+------------------------------------+\" << endl;\n",
        "    cout << \"Enter choice: \";\n",
        "    cin >> friendOpt;\n",
        "    cin.ignore(10000, '\\n');  // clear input buffer\n",
        "\n",
        "      // Menu-driven switch statement to manage a user's friend list\n",
        "      switch (friendOpt) {\n",
        "        case 1: // Print the user's friend list\n",
        "\n",
        "          if (fl)\n",
        "            fl->printList(*sm); // Print friend list if it exists\n",
        "          else {\n",
        "            cout << \"+--------------------------------------------------+\" << endl;\n",
        "            cout << \"|            You have no friends added.            |\" << endl;\n",
        "            cout << \"+--------------------------------------------------+\" << endl;\n",
        "          }\n",
        "\n",
        "          break;\n",
        "\n",
        "        case 2: // Option 2: Add a new friend\n",
        "          cout << \"+--------------------------------------------------+\" << endl;\n",
        "          cout << \"|                     Add a friend                 |\" << endl;\n",
        "          cout << \"+--------------------------------------------------+\" << endl;\n",
        "          cout << \"Enter Matric No. of your friend: \";\n",
        "          getline(cin, id); // Get friend's matric number input\n",
        "\n",
        "          if (id == currentUser->getMatricNo())\n",
        "            cout << \"<You cannot add yourself.>\\n\";                // Prevent user from adding themselves\n",
        "          else {\n",
        "            Node* studentNode = sm->searchData(MATRIC, id);        // Search for the student by matric no.\n",
        "            if (!studentNode)\n",
        "                cout << \"<Student not found.>\\n\";                  // If student doesn't exist\n",
        "            else if (fl && fl->isFriend(id))\n",
        "                cout << \"<Already a friend.>\\n\";                   // Prevent duplicate friendships\n",
        "            else {\n",
        "                fm->addFriendship(currentUser->getMatricNo(), id); // Add friendship relation\n",
        "                cout << \"<Friend added successfully.>\\n\";\n",
        "            }\n",
        "          }\n",
        "          break;\n",
        "\n",
        "        case 3: // Option 3: Remove an existing friend\n",
        "          cout << \"+--------------------------------------------------+\" << endl;\n",
        "          cout << \"|                  Remove a friend                 |\" << endl;\n",
        "          cout << \"+--------------------------------------------------+\" << endl;\n",
        "          cout << \"Enter Matric No. of friend to remove: \";\n",
        "          getline(cin, id); // Get matric number of friend to remove\n",
        "\n",
        "          if (!fl || !fl->isFriend(id))\n",
        "            cout << \"<This student is not in your friend list.>\\n\";     // Check if they're actually a friend\n",
        "          else {\n",
        "            fl->removeFriend(id);                                       // Remove friend from current user's list\n",
        "            FriendList* friendUserFL = fm->getFriendList(id);           // Get friend's list\n",
        "            if (friendUserFL)\n",
        "              friendUserFL->removeFriend(currentUser->getMatricNo()); // Remove user from friend's list\n",
        "            cout << \"<Friend removed successfully.>\\n\";\n",
        "          }\n",
        "          break;\n",
        "\n",
        "        case 4: // Option 4: Exit the friend management menu\n",
        "          cout << \"Returning to Main Menu...\\n\";\n",
        "          break;\n",
        "\n",
        "        default:\n",
        "          // Handle invalid option input\n",
        "          cout << \"Invalid option. Try again.\\n\";\n",
        "      }\n",
        "\n",
        "  } while (friendOpt != 4);\n",
        "}\n",
        "\n",
        "// --- Authentication and Registration ---\n",
        "\n",
        "// Handles user login process\n",
        "bool CLI::login() {\n",
        "  string email, password;\n",
        "\n",
        "  cout << \"+-----------------------------------+\" << endl;\n",
        "  cout << \"|               Login               |\" << endl;\n",
        "  cout << \"+-----------------------------------+\" << endl;\n",
        "\n",
        "  // Prompt user to enter email and password\n",
        "  cout << \"USM Student Email: \";\n",
        "  cin >> email;\n",
        "  cout << \"Password: \";\n",
        "  cin >> password;\n",
        "\n",
        "  // Search for student record by email\n",
        "  Node* stud = sm->searchData(EMAIL, email);\n",
        "  if (!stud) {\n",
        "    // If no matching student found\n",
        "    cout << \"<Student not found for email: \" << email << \">\" << endl;\n",
        "    return false;\n",
        "  }\n",
        "\n",
        "  // Check if entered password matches stored password\n",
        "  if (stud->data->getPassword() == password) {\n",
        "    // Set the currently logged-in user's ID\n",
        "    currentUserId = stud->data->getMatricNo();\n",
        "    cout << \"<Login successful!>\\n\\n\";\n",
        "    return true;\n",
        "  } else {\n",
        "      // If password does not match\n",
        "      cout << \"<Incorrect password!>\\n\";\n",
        "      return false;\n",
        "  }\n",
        "}\n",
        "\n",
        "// Handles the sign-up process for new users, including email and password validation\n",
        "void CLI::signup() {\n",
        "  string email, password;\n",
        "  bool valid = false;\n",
        "\n",
        "  // Display the sign-up banner and instructions\n",
        "  cout << \"+-------------------------------------+\" << endl;\n",
        "  cout << \"|               Sign Up               |\" << endl;\n",
        "  cout << \"+-------------------------------------+\" << endl;\n",
        "  cout << \"Enter (-1) anytime to return to login page.\" << endl << endl;\n",
        "\n",
        "  // === Email Input and Validation ===\n",
        "  do {\n",
        "    cout << \"Enter Email: \";\n",
        "    cin >> email;\n",
        "\n",
        "    // Allow user to cancel sign-up and return to login\n",
        "    if (email == \"-1\") return;\n",
        "\n",
        "    // Check if email is already registered in the system\n",
        "    if (sm->searchData(EMAIL, email))\n",
        "        cout << \"Email already exists!\\n\";\n",
        "\n",
        "    // Validate that email belongs to USM domain (e.g., ends with @student.usm.my)\n",
        "    else if (!isValidUSMEmail(email))\n",
        "        cout << \"Invalid email domain! Please use a student email!\\n\";\n",
        "\n",
        "    // Limit email length to 30 characters\n",
        "    else if (email.length() > 30)\n",
        "        cout << \"Email too long!\\n\";\n",
        "\n",
        "    // All checks passed, accept the email\n",
        "    else\n",
        "        valid = true;\n",
        "\n",
        "  } while (!valid);  // Repeat until valid email is provided\n",
        "\n",
        "  valid = false;  // Reset for password validation\n",
        "\n",
        "  // === Password Input and Validation ===\n",
        "  do {\n",
        "    // Inform user of password requirements\n",
        "    cout << \"** Password must contain uppercase, lowercase and digit\\n\";\n",
        "    cout << \"Enter Password: \";\n",
        "    cin >> password;\n",
        "\n",
        "    // Allow user to cancel sign-up\n",
        "    if (password == \"-1\") return;\n",
        "\n",
        "    // Ensure minimum password length\n",
        "    if (password.length() < 8)\n",
        "        cout << \"Password too short!\\n\";\n",
        "\n",
        "    // Ensure maximum password length\n",
        "    else if (password.length() > 20)\n",
        "        cout << \"Password too long!\\n\";\n",
        "\n",
        "    // Check if password meets complexity requirements\n",
        "    else if (!isValidPassword(password))\n",
        "        cout << \"Password must contain uppercase, lowercase and digit!\\n\";\n",
        "\n",
        "    // All checks passed, accept the password\n",
        "    else\n",
        "        valid = true;\n",
        "\n",
        "  } while (!valid);  // Repeat until valid password is provided\n",
        "\n",
        "  // Proceed to profile setup with the validated email and password\n",
        "  profileSetUp(email, password);\n",
        "\n",
        "  // Inform user of return to login\n",
        "  cout << \"<Returning to login page...>\\n\";\n",
        "}\n",
        "\n",
        "// Handles the process of collecting and validating student's personal profile information\n",
        "void CLI::profileSetUp(const string& email, const string& password) {\n",
        "  string matricNo, fullName, courseName;\n",
        "  bool valid = false;\n",
        "\n",
        "  // === Matric Number Validation ===\n",
        "  do {\n",
        "      cout << \"Enter Matric Number (8-digit): \";\n",
        "      cin >> matricNo;\n",
        "\n",
        "      // Check for exact 8-digit length\n",
        "      if (matricNo.length() != 8)\n",
        "          cout << \"Matric number must be 8 digits!\\n\";\n",
        "\n",
        "      // Check for uniqueness in the system\n",
        "      else if (sm->searchData(MATRIC, matricNo))\n",
        "          cout << \"Matric number already exists!\\n\";\n",
        "\n",
        "      // Accept valid matric number\n",
        "      else\n",
        "          valid = true;\n",
        "\n",
        "  } while (!valid);\n",
        "\n",
        "  cin.ignore();  // Clear newline from input buffer\n",
        "\n",
        "  valid = false;  // Reset for name validation\n",
        "\n",
        "  // === Full Name Input and Validation ===\n",
        "  do {\n",
        "      cout << \"Enter Full Name: \";\n",
        "      getline(cin, fullName);\n",
        "\n",
        "      // Convert name to title case (capitalize first letters)\n",
        "      fullName = toTitleCase(fullName);\n",
        "\n",
        "      // Check if name is already used (optional, depends on system rules)\n",
        "      if (sm->searchData(NAME, fullName))\n",
        "          cout << \"Name already exists!\\n\";\n",
        "      else\n",
        "          valid = true;\n",
        "\n",
        "  } while (!valid);\n",
        "\n",
        "  int choice;\n",
        "\n",
        "  // === Course Selection ===\n",
        "  do {\n",
        "      cout << \"+-------------------------------------+\" << endl;\n",
        "      cout << \"|           Select your course        |\" << endl;\n",
        "      cout << \"+-------------------------------------+\" << endl;\n",
        "      cout << \"| [1] Computing Infrastructure        |\" << endl;\n",
        "      cout << \"| [2] Intelligent Computing           |\" << endl;\n",
        "      cout << \"| [3] Software Engineering            |\" << endl;\n",
        "      cout << \"+-------------------------------------+\" << endl;\n",
        "      cout << \"Enter your choice: \";\n",
        "      cin >> choice;\n",
        "\n",
        "      // Assign course name based on user's choice\n",
        "      if (choice == 1)\n",
        "          courseName = \"Computing Infrastructure\";\n",
        "      else if (choice == 2)\n",
        "          courseName = \"Intelligent Computing\";\n",
        "      else if (choice == 3)\n",
        "          courseName = \"Software Engineering\";\n",
        "      else\n",
        "          cout << \"<Invalid choice. Please try again.>\\n\";\n",
        "\n",
        "  } while (choice < 1 || choice > 3);\n",
        "\n",
        "  // === Display Collected Info for Confirmation ===\n",
        "  cout << \"Matric No: \" << matricNo << endl;\n",
        "  cout << \"Full Name: \" << fullName << endl;\n",
        "  cout << \"Course: \" << courseName << endl;\n",
        "\n",
        "  // Ask user to confirm the entered information\n",
        "  cout << \"Confirm data (Y/N): \";\n",
        "  char confirm;\n",
        "  cin >> confirm;\n",
        "\n",
        "  // === Final Confirmation and Student Creation ===\n",
        "  if (confirm == 'y' || confirm == 'Y') {\n",
        "      // Create new student object with all provided details\n",
        "      Student* stud = new Student(matricNo, fullName, email, password, courseName);\n",
        "\n",
        "      // Insert the new student into the student manager (likely a sorted list)\n",
        "      sm->sortedInsert(stud);\n",
        "\n",
        "      cout << \"<New profile sign up successfully!>\\n\";\n",
        "      fm->findOrCreateList(matricNo); // Create a new friend list for the new student\n",
        "  } else {\n",
        "      cout << \"<New profile sign up cancelled.>\\n\";\n",
        "  }\n",
        "}\n",
        "\n",
        "\n",
        "// --- Main CLI Loop ---\n",
        "// Main loop of the CLI — handles login, main menu navigation, and logout\n",
        "void CLI::run() {\n",
        "  int loginOpt = 0;\n",
        "  bool loginSuccess = false;\n",
        "\n",
        "  do {\n",
        "    displayLoginMenu();\n",
        "    cout << \"Enter your choice: \";\n",
        "    cin >> loginOpt;\n",
        "    cin.ignore(10000, '\\n'); // Clear input buffer\n",
        "\n",
        "    switch (loginOpt) {\n",
        "\n",
        "      case 1: // Login selected\n",
        "\n",
        "        if (login()) {\n",
        "          loginSuccess = true;\n",
        "          int mainOpt = 0;\n",
        "\n",
        "          do {\n",
        "            displayMainMenu();\n",
        "            cout << \"Enter your choice: \";\n",
        "            cin >> mainOpt;\n",
        "            cin.ignore(10000, '\\n'); // Clear input buffer\n",
        "\n",
        "            // Retrieve currently logged-in student\n",
        "            Node* currentUserNode = sm->searchData(MATRIC, currentUserId);\n",
        "\n",
        "            switch (mainOpt) {\n",
        "              case 1: { // View all student profiles\n",
        "                int studMenuOpt = 0;\n",
        "                sm->printAscList();\n",
        "\n",
        "                do {\n",
        "                  displayStudentMenu();\n",
        "                  cout << \"Enter your choice: \";\n",
        "                  cin >> studMenuOpt;\n",
        "                  cin.ignore(10000, '\\n');\n",
        "\n",
        "                  switch (studMenuOpt) {\n",
        "                    case 1:\n",
        "                      sm->sortList(MATRIC);\n",
        "                      sm->printAscList();\n",
        "                      break;\n",
        "\n",
        "                    case 2:\n",
        "                      sm->sortList(NAME);\n",
        "                      sm->printAscList();\n",
        "                      break;\n",
        "\n",
        "                    case 3:\n",
        "                      sm->sortList(COURSE);\n",
        "                      sm->printAscList();\n",
        "                      break;\n",
        "\n",
        "                    case 4:\n",
        "                      sm->printAscList();\n",
        "                      break;\n",
        "\n",
        "                    case 5:\n",
        "                      sm->printDescList();\n",
        "                      break;\n",
        "\n",
        "                    case 6: // Return to main menu\n",
        "                      sm->sortList(MATRIC); // Reset to default sort\n",
        "                      cout << \"<Returning to Main Menu...>\\n\";\n",
        "                      break;\n",
        "\n",
        "                    default:\n",
        "                      cout << \"<Invalid choice. Please try again.>\\n\";\n",
        "                                  }\n",
        "                } while (studMenuOpt != 6);\n",
        "                break;\n",
        "              }\n",
        "\n",
        "            case 2: { // View personal profile\n",
        "              if (currentUserNode) {\n",
        "                cout << \"+---------------------------------------+\" << endl;\n",
        "                cout << \"|            Personal Profile           |\" << endl;\n",
        "                cout << \"+---------------------------------------+\" << endl;\n",
        "                sm->printHeader();\n",
        "                currentUserNode->data->printInfo();\n",
        "                sm->printLine();\n",
        "              } else {\n",
        "                cout << \"<Error: Current user profile not found.>\\n\";\n",
        "              }\n",
        "              break;\n",
        "            }\n",
        "\n",
        "            case 3: // Friend list and operations\n",
        "              if (currentUserNode)\n",
        "                displayFriendMenu(currentUserNode->data);\n",
        "              else\n",
        "                cout << \"<Error: Current user profile not found for friend list.>\\n\";\n",
        "              break;\n",
        "\n",
        "            case 4: // Inbox and messaging\n",
        "              if (currentUserNode)\n",
        "                displayInboxAndThread(currentUserNode->data);\n",
        "              else\n",
        "                cout << \"<Error: Current user profile not found for inbox.>\\n\";\n",
        "              break;\n",
        "\n",
        "            case 5: // Undo feature placeholder\n",
        "              break;\n",
        "\n",
        "            case 6: // Group chat feature placeholder\n",
        "              break;\n",
        "\n",
        "            case 7: // Logout\n",
        "              loginSuccess = false;\n",
        "              cout << \"Logging out...\\n\";\n",
        "              break;\n",
        "\n",
        "            default:\n",
        "                cout << \"Invalid choice. Please try again.\\n\";\n",
        "            }\n",
        "          } while (loginSuccess);\n",
        "        }\n",
        "        break;\n",
        "\n",
        "        case 2: // Sign up\n",
        "          signup();\n",
        "          break;\n",
        "\n",
        "        case 3: // Exit\n",
        "          cout << \"Exiting program...\\n\";\n",
        "          break;\n",
        "\n",
        "        default:\n",
        "          cout << \"Invalid choice. Please try again.\\n\";\n",
        "      }\n",
        "  } while (loginOpt != 3); // Keep running until user chooses to exit\n",
        "}\n",
        "\n",
        "// Handles inbox actions: viewing threads, sending messages or images\n",
        "void CLI::displayInboxAndThread(Student* currentUser) {\n",
        "  if (!currentUser) return;\n",
        "\n",
        "  string myId = currentUser->getMatricNo();\n",
        "  int choice;\n",
        "\n",
        "  do {\n",
        "    // Display inbox menu\n",
        "    cout << \"\\n+-----------------------------+\\n\";\n",
        "    cout << \"| [1] View Inbox & Thread     |\\n\";\n",
        "    cout << \"| [2] Send Message            |\\n\";\n",
        "    cout << \"| [3] Send Image              |\\n\";\n",
        "    cout << \"| [4] Back                    |\\n\";\n",
        "    cout << \"+-----------------------------+\\n\";\n",
        "    cout << \"Enter choice: \";\n",
        "    cin >> choice;\n",
        "    cin.ignore(10000, '\\n');\n",
        "\n",
        "    if (choice == 1) {\n",
        "      // --- View chat thread ---\n",
        "      cout << \"Enter friend's matric number: \";\n",
        "      string friendId;\n",
        "      getline(cin, friendId);\n",
        "      mm->printThread(myId, friendId, sm);\n",
        "\n",
        "    } else if (choice == 2) {\n",
        "      // --- Send message ---\n",
        "      FriendList* fl = fm->getFriendList(myId);\n",
        "      if (!fl || !fl->getHead()) {\n",
        "        cout << \"<You have no friends to message.>\\n\";\n",
        "        continue;\n",
        "      }\n",
        "\n",
        "      cout << \"Your friends:\\n\";\n",
        "      fl->printList(*sm);\n",
        "      cout << \"Enter friend's matric number: \";\n",
        "      string toId;\n",
        "      getline(cin, toId);\n",
        "\n",
        "      // Validate if friend exists\n",
        "      if (!fl->isFriend(toId)) {\n",
        "        cout << \"<You can only send messages to your friends.>\\n\";\n",
        "        continue;\n",
        "      }\n",
        "\n",
        "      Node* receiverNode = sm->searchData(MATRIC, toId);\n",
        "      if (!receiverNode) {\n",
        "        cout << \"<Student not found.>\\n\";\n",
        "        continue;\n",
        "      }\n",
        "\n",
        "      cout << \"Enter your message: \";\n",
        "      string msgText;\n",
        "      getline(cin, msgText);\n",
        "\n",
        "      if (msgText.empty()) {\n",
        "        cout << \"<No message entered.>\\n\";\n",
        "        continue;\n",
        "      }\n",
        "\n",
        "      mm->addMessage(toId, myId, msgText);\n",
        "      cout << \"<Message sent!>\\n\";\n",
        "\n",
        "    } else if (choice == 3) {\n",
        "      // --- Send image ---\n",
        "      FriendList* fl = fm->getFriendList(myId);\n",
        "      if (!fl || !fl->getHead()) {\n",
        "        cout << \"You have no friends to message.\\n\";\n",
        "        continue;\n",
        "      }\n",
        "\n",
        "      cout << \"Your friends:\\n\";\n",
        "      fl->printList(*sm);\n",
        "      cout << \"Enter friend's matric number: \";\n",
        "      string toId;\n",
        "      getline(cin, toId);\n",
        "\n",
        "      if (!fl->isFriend(toId)) {\n",
        "        cout << \"You can only send images to your friends.\\n\";\n",
        "        continue;\n",
        "      }\n",
        "\n",
        "      Node* receiverNode = sm->searchData(MATRIC, toId);\n",
        "      if (!receiverNode) {\n",
        "        cout << \"Student not found.\\n\";\n",
        "        continue;\n",
        "      }\n",
        "\n",
        "      cout << \"Enter image file name (e.g., photo.jpg): \";\n",
        "      string imgFile;\n",
        "      getline(cin, imgFile);\n",
        "\n",
        "      if (imgFile.empty()) {\n",
        "        cout << \"No file name entered.\\n\";\n",
        "        continue;\n",
        "      }\n",
        "\n",
        "      mm->addMessage(toId, myId, \"[IMAGE]\" + imgFile);\n",
        "      cout << \"Image sent as message!\\n\";\n",
        "    }\n",
        "\n",
        "  } while (choice != 4); // Exit inbox\n",
        "}"
      ]
    },
    {
      "cell_type": "markdown",
      "metadata": {
        "id": "zaqh0eCl6L3v"
      },
      "source": [
        "### File_Manager class - File I/O Helper"
      ]
    },
    {
      "cell_type": "code",
      "execution_count": 116,
      "metadata": {
        "colab": {
          "base_uri": "https://localhost:8080/"
        },
        "id": "ehbPksDl4Cm3",
        "outputId": "c0829493-f4b0-4a36-9166-dd817ff33f11"
      },
      "outputs": [
        {
          "output_type": "stream",
          "name": "stdout",
          "text": [
            "Overwriting FileManager.h\n"
          ]
        }
      ],
      "source": [
        "%%writefile FileManager.h\n",
        "#ifndef FILEMANAGER_H\n",
        "#define FILEMANAGER_H\n",
        "\n",
        "#include \"Student.h\"    // For managing student data\n",
        "#include \"Friends.h\"    // For managing friend lists\n",
        "#include \"Message.h\"    // For handling message-related operations\n",
        "using namespace std;\n",
        "\n",
        "// The FileManager class is responsible for centralized loading and saving of application data.\n",
        "// It manages persistence (read/write to files) and provides access to core managers.\n",
        "\n",
        "class FileManager {\n",
        "public:\n",
        "  // Constructor: Initializes the FileManager and its data managers\n",
        "  FileManager();\n",
        "\n",
        "  // Destructor: Handles cleanup and memory deallocation\n",
        "  ~FileManager();\n",
        "\n",
        "  // Loads all necessary data (students, friends, messages, etc.) from files\n",
        "  void loadAll();\n",
        "\n",
        "  // Saves all necessary data to files\n",
        "  void saveAll();\n",
        "\n",
        "  // Getters to access internal managers\n",
        "  StudentManager* getStudentManager();      // Returns pointer to StudentManager\n",
        "  FriendsManager* getFriendsManager();      // Returns pointer to FriendsManager\n",
        "  MessageManager* getMessageManager();      // Returns pointer to MessageManager\n",
        "\n",
        "private:\n",
        "    // Core data managers used throughout the program\n",
        "    StudentManager* sm;       // Handles all student records\n",
        "    FriendsManager* fm;       // Handles friend relationships\n",
        "    MessageManager* mm;       // Handles messages between users\n",
        "};\n",
        "\n",
        "#endif // FILEMANAGER_H"
      ]
    },
    {
      "cell_type": "code",
      "execution_count": 117,
      "metadata": {
        "colab": {
          "base_uri": "https://localhost:8080/"
        },
        "id": "99E-9eLU41LS",
        "outputId": "9b9ffa40-160a-4cd3-9097-68bd0f864742"
      },
      "outputs": [
        {
          "output_type": "stream",
          "name": "stdout",
          "text": [
            "Overwriting FileManager.cpp\n"
          ]
        }
      ],
      "source": [
        "%%writefile FileManager.cpp\n",
        "#include \"FileManager.h\"\n",
        "#include <fstream>\n",
        "#include <iostream>\n",
        "\n",
        "// Constructor\n",
        "FileManager::FileManager() {\n",
        "  sm = new StudentManager();\n",
        "  fm = new FriendsManager();\n",
        "  mm = new MessageManager();\n",
        "}\n",
        "\n",
        "//Destructor\n",
        "FileManager::~FileManager() {\n",
        "  delete sm;\n",
        "  delete fm;\n",
        "  delete mm;\n",
        "}\n",
        "\n",
        "// Load all data from files into memory\n",
        "void FileManager::loadAll() {\n",
        "  // --- Load Student Profiles and Credentials ---\n",
        "  ifstream profiles(\"profiles.txt\");\n",
        "  ifstream credentials(\"credentials.txt\");\n",
        "  string matricNo, name, email, course, password;\n",
        "\n",
        "  // Load profiles\n",
        "  while (getline(profiles, matricNo, ',') &&\n",
        "         getline(profiles, name, ',') &&\n",
        "         getline(profiles, email, ',') &&\n",
        "        getline(profiles, course)) {\n",
        "    Student* newStudent = new Student(matricNo, name, email, course);\n",
        "    sm->sortedInsert(newStudent);\n",
        "  }\n",
        "  profiles.close();\n",
        "\n",
        "  // Load credentials\n",
        "  while (getline(credentials, email, ',') && getline(credentials, password)) {\n",
        "    Node* stud = sm->searchData(EMAIL, email);\n",
        "    if (stud != nullptr) {\n",
        "      stud->data->setPassword(password);\n",
        "    }\n",
        "  }\n",
        "  credentials.close();\n",
        "\n",
        "  // --- Load Friends ---\n",
        "  ifstream friends(\"friends.txt\");\n",
        "  string id1, id2;\n",
        "  while (getline(friends, id1, ',') && getline(friends, id2)) {\n",
        "    fm->addFriendship(id1, id2); // You must implement this to add both ways in memory\n",
        "  }\n",
        "  friends.close();\n",
        "\n",
        "  // --- Load Messages ---\n",
        "  // For each student, open messages_<matricNo>.txt and load into mm\n",
        "  Node* current = sm->getHead();\n",
        "  while (current) {\n",
        "  string filename = \"messages_\" + current->data->getMatricNo() + \".txt\";\n",
        "  ifstream msgfile(filename.c_str());\n",
        "  string line;\n",
        "  while (getline(msgfile, line)) {\n",
        "    mm->loadMessageLine(current->data->getMatricNo(), line);\n",
        "  }\n",
        "  msgfile.close();\n",
        "  current = current->next;\n",
        "  }\n",
        "}\n",
        "\n",
        "// Save all data from memory to files\n",
        "void FileManager::saveAll() {\n",
        "  // --- Save Student Profiles ---\n",
        "  ofstream profiles(\"profiles.txt\");\n",
        "  Node* current = sm->getHead();\n",
        "  while (current) {\n",
        "    Student* s = current->data;\n",
        "    profiles << s->getMatricNo() << \",\" << s->getFullName() << \",\" << s->getEmail() << \",\" << s->getCourseName() << std::endl;\n",
        "    current = current->next;\n",
        "  }\n",
        "  profiles.close();\n",
        "\n",
        "  // --- Save Credentials ---\n",
        "  ofstream credentials(\"credentials.txt\");\n",
        "  current = sm->getHead();\n",
        "  while (current) {\n",
        "    Student* s = current->data;\n",
        "    credentials << s->getEmail() << \",\" << s->getPassword() << std::endl;\n",
        "    current = current->next;\n",
        "  }\n",
        "  credentials.close();\n",
        "\n",
        "  // --- Save Friends ---\n",
        "  ofstream friends(\"friends.txt\");\n",
        "  fm->saveToFile(friends); // Implement this to write all friendships in memory\n",
        "  friends.close();\n",
        "\n",
        "  // --- Save Messages ---\n",
        "  // For each student, write messages_<matricNo>.txt from mm\n",
        "  current = sm->getHead(); // Corrected redeclaration\n",
        "  while (current) {\n",
        "    string filename = \"messages_\" + current->data->getMatricNo() + \".txt\";\n",
        "    ofstream msgfile(filename);\n",
        "    MessageNode* msg_head = mm->getMessages(current->data->getMatricNo()); // Get the head of the message queue\n",
        "    MessageNode* msg_curr = msg_head;\n",
        "    while(msg_curr) { // Iterate through the linked list\n",
        "      msgfile << msg_curr->sender << \"|\" << msg_curr->text << std::endl;\n",
        "      msg_curr = msg_curr->next;\n",
        "    }\n",
        "    msgfile.close();\n",
        "    current = current->next;\n",
        "  }\n",
        "}\n",
        "\n",
        "// Getters\n",
        "StudentManager* FileManager::getStudentManager() { return sm; } // Corrected return type\n",
        "FriendsManager* FileManager::getFriendsManager() { return fm; }\n",
        "MessageManager* FileManager::getMessageManager() { return mm; }"
      ]
    },
    {
      "cell_type": "markdown",
      "metadata": {
        "id": "8IiHcdqujMfF"
      },
      "source": [
        "### Friend List - (pointers)"
      ]
    },
    {
      "cell_type": "code",
      "execution_count": 118,
      "metadata": {
        "colab": {
          "base_uri": "https://localhost:8080/"
        },
        "id": "xvN7gRL7K6a3",
        "outputId": "23810877-fe41-4aa3-87d6-b64e914c9730"
      },
      "outputs": [
        {
          "output_type": "stream",
          "name": "stdout",
          "text": [
            "Overwriting Friends.h\n"
          ]
        }
      ],
      "source": [
        "%%writefile Friends.h\n",
        "#ifndef FRIENDS_H\n",
        "#define FRIENDS_H\n",
        "\n",
        "#include <string>\n",
        "#include <iostream>\n",
        "using namespace std;\n",
        "\n",
        "// Forward declaration of StudentManager (used only as a reference in this header)\n",
        "class StudentManager;\n",
        "\n",
        "// --- FriendNode: Node in singly linked list for storing a friend's ID ---\n",
        "class FriendNode {\n",
        "public:\n",
        "  string id;               // Matric number or unique identifier of a friend\n",
        "  FriendNode* next;        // Pointer to the next friend node\n",
        "\n",
        "  // Constructor initializes friend ID and sets next pointer to null\n",
        "  FriendNode(const string& id) {\n",
        "    this->id = id;         // Avoids name shadowing using `this->`\n",
        "    this->next = nullptr;\n",
        "  }\n",
        "};\n",
        "\n",
        "// --- FriendList: Manages a student's list of friends ---\n",
        "class FriendList {\n",
        "private:\n",
        "  FriendNode* head;        // Points to the first friend in the list\n",
        "  FriendNode* tail;        // Points to the last friend for efficient append\n",
        "\n",
        "public:\n",
        "  FriendList();            // Constructor initializes empty list\n",
        "  ~FriendList();           // Destructor cleans up memory (deletes all nodes)\n",
        "\n",
        "  void addFriend(const string& id);                // Adds a friend to the list\n",
        "  void removeFriend(const string& id);             // Removes a friend from the list\n",
        "  bool isFriend(const string& id) const;           // Checks if a friend exists\n",
        "  void printList(const StudentManager& sm) const;  // Displays friend details using StudentManager\n",
        "  FriendNode* getHead() const;                     // Returns the head of the friend list\n",
        "};\n",
        "\n",
        "// --- FriendMapNode: Node for mapping a student ID to their FriendList ---\n",
        "struct FriendMapNode {\n",
        "  string id;                // Student's matric number or unique ID\n",
        "  FriendList* friends;      // Pointer to the FriendList associated with the student\n",
        "  FriendMapNode* next;      // Pointer to the next map node (linked list structure)\n",
        "\n",
        "  // Constructor creates a new mapping node with an empty friend list\n",
        "  FriendMapNode(const string& id);\n",
        "};\n",
        "\n",
        "// --- FriendsManager: Manages all students' friend lists ---\n",
        "class FriendsManager {\n",
        "private:\n",
        "  FriendMapNode* head;      // Head of the linked list mapping student IDs to friend lists\n",
        "\n",
        "public:\n",
        "  FriendsManager();         // Constructor\n",
        "  ~FriendsManager();        // Destructor to free memory\n",
        "\n",
        "  // Returns an existing FriendList or creates a new one if it doesn't exist\n",
        "  FriendList* findOrCreateList(const string& id);\n",
        "\n",
        "  // Retrieves a FriendList for a given user ID (returns nullptr if not found)\n",
        "  FriendList* getFriendList(const string& userID);\n",
        "\n",
        "  // Adds a two-way friendship (id1 <--> id2)\n",
        "  void addFriendship(const string& id1, const string& id2);\n",
        "\n",
        "  // Writes all unique friendship pairs to file (for persistence)\n",
        "  void saveToFile(std::ostream& out);\n",
        "};\n",
        "\n",
        "#endif // FRIENDS_H\n"
      ]
    },
    {
      "cell_type": "code",
      "execution_count": 119,
      "metadata": {
        "colab": {
          "base_uri": "https://localhost:8080/"
        },
        "id": "CjQNQ8XUK6a4",
        "outputId": "32e948b5-ca62-47ff-b645-d73af93b0f00"
      },
      "outputs": [
        {
          "output_type": "stream",
          "name": "stdout",
          "text": [
            "Overwriting Friends.cpp\n"
          ]
        }
      ],
      "source": [
        "%%writefile Friends.cpp\n",
        "#include \"Friends.h\"\n",
        "#include \"Student.h\"\n",
        "#include <iostream>\n",
        "#include <iomanip>\n",
        "\n",
        "// --- FriendList Implementation ---\n",
        "\n",
        "// Constructor: Initializes an empty friend list\n",
        "FriendList::FriendList() {\n",
        "  head = nullptr;\n",
        "  tail = nullptr;\n",
        "}\n",
        "\n",
        "// Destructor: Frees all memory by deleting each FriendNode in the list\n",
        "FriendList::~FriendList() {\n",
        "  while (head) {\n",
        "    FriendNode* temp = head;\n",
        "    head = head->next;\n",
        "    delete temp;  // Delete each node one by one\n",
        "  }\n",
        "  tail = nullptr;\n",
        "}\n",
        "\n",
        "// Adds a new friend ID to the list if not already present\n",
        "void FriendList::addFriend(const string& id) {\n",
        "  if (isFriend(id)) return;  // Avoid duplicates\n",
        "  FriendNode* newNode = new FriendNode(id);\n",
        "  if (!head)\n",
        "    head = tail = newNode;  // First element\n",
        "  else {\n",
        "    tail->next = newNode;   // Append to end\n",
        "    tail = newNode;\n",
        "  }\n",
        "}\n",
        "\n",
        "// Removes a friend from the list by ID\n",
        "void FriendList::removeFriend(const string& id) {\n",
        "  FriendNode* current = head;\n",
        "  FriendNode* prev = nullptr;\n",
        "\n",
        "  while (current) {\n",
        "      if (current->id == id) {\n",
        "          // Remove node and relink pointers\n",
        "          if (prev)\n",
        "              prev->next = current->next;  // Middle or tail node\n",
        "          else\n",
        "              head = current->next;        // Head node\n",
        "\n",
        "          if (current == tail)\n",
        "              tail = prev;                 // Update tail if needed\n",
        "\n",
        "          delete current;\n",
        "          return;\n",
        "      }\n",
        "      prev = current;\n",
        "      current = current->next;\n",
        "  }\n",
        "}\n",
        "\n",
        "// Checks if a friend with the given ID exists in the list\n",
        "bool FriendList::isFriend(const string& id) const {\n",
        "  FriendNode* current = head;\n",
        "  while (current) {\n",
        "    if (current->id == id) return true;\n",
        "    current = current->next;\n",
        "  }\n",
        "  return false;\n",
        "}\n",
        "\n",
        "// Prints friend list with formatted student info (uses StudentManager to retrieve details)\n",
        "void FriendList::printList(const StudentManager& sm) const {\n",
        "  FriendNode* current = head;\n",
        "\n",
        "  if (!current) {\n",
        "    cout << \"+--------------------------------------------------+\" << endl;\n",
        "    cout << \"|            You have no friends added.            |\" << endl;\n",
        "    cout << \"+--------------------------------------------------+\" << endl;\n",
        "    return;\n",
        "  }\n",
        "\n",
        "  // Header formatting\n",
        "  cout << \"\\n+--------------------------------------------------------------------------------------------------------------+\" << endl;\n",
        "  cout << \"|                                                  FRIEND LIST                                                 |\" << endl;\n",
        "  cout << \"+--------------------------------------------------------------------------------------------------------------+\" << endl;\n",
        "  cout << \"| Matric No. | Full Name                 | Student Email                 | Course                              |\" << endl;\n",
        "  cout << \"+--------------------------------------------------------------------------------------------------------------+\" << endl;\n",
        "\n",
        "  // Print friend data row by row\n",
        "  while (current) {\n",
        "    Node* friendNode = sm.searchData(MATRIC, current->id);\n",
        "    if (friendNode) {\n",
        "      Student* s = friendNode->data;\n",
        "      cout << \"| \"\n",
        "           << setw(11) << left << s->getMatricNo() << \"| \"\n",
        "           << setw(26) << left << s->getFullName() << \"| \"\n",
        "           << setw(30) << left << s->getEmail() << \"| \"\n",
        "           << setw(36) << left << s->getCourseName() << \"|\"\n",
        "           << endl;\n",
        "    } else {\n",
        "      // Fallback in case student details aren't found\n",
        "      cout << \"| \"\n",
        "           << setw(11) << left << current->id << \"| \"\n",
        "           << setw(26) << \"Unknown\" << \"| \"\n",
        "           << setw(30) << \"N/A\" << \"| \"\n",
        "           << setw(36) << \"N/A\" << \"|\"\n",
        "           << endl;\n",
        "    }\n",
        "    current = current->next;\n",
        "  }\n",
        "\n",
        "  cout << \"+--------------------------------------------------------------------------------------------------------------+\" << endl << endl;\n",
        "}\n",
        "\n",
        "// Returns head of the friend list\n",
        "FriendNode* FriendList::getHead() const { return head; }\n",
        "\n",
        "// --- FriendMapNode Implementation ---\n",
        "\n",
        "// Constructor: Initializes node with given ID and allocates a new FriendList\n",
        "FriendMapNode::FriendMapNode(const string& id) {\n",
        "  this->id = id;\n",
        "  this->friends = new FriendList();\n",
        "  this->next = nullptr;\n",
        "}\n",
        "\n",
        "// --- FriendsManager Implementation ---\n",
        "\n",
        "// Constructor: Initializes empty map\n",
        "FriendsManager::FriendsManager() {\n",
        "  head = nullptr;\n",
        "}\n",
        "\n",
        "// Destructor: Frees all memory by deleting all map nodes and their corresponding FriendLists\n",
        "FriendsManager::~FriendsManager() {\n",
        "  while (head) {\n",
        "    FriendMapNode* temp = head;\n",
        "    head = head->next;\n",
        "    delete temp->friends;\n",
        "    delete temp;\n",
        "  }\n",
        "}\n",
        "\n",
        "// Finds the FriendList for a user by ID, or creates one if it doesn't exist\n",
        "FriendList* FriendsManager::findOrCreateList(const string& id) {\n",
        "  FriendMapNode* current = head;\n",
        "\n",
        "  // Search for existing entry\n",
        "  while (current) {\n",
        "    if (current->id == id) return current->friends;\n",
        "    current = current->next;\n",
        "  }\n",
        "\n",
        "  // Not found: create new node and prepend to list\n",
        "  FriendMapNode* newNode = new FriendMapNode(id);\n",
        "  newNode->next = head;\n",
        "  head = newNode;\n",
        "  return newNode->friends;\n",
        "}\n",
        "\n",
        "// Returns FriendList for a given user, or nullptr if not found\n",
        "FriendList* FriendsManager::getFriendList(const string& userID) {\n",
        "  FriendMapNode* current = head;\n",
        "  while (current) {\n",
        "    if (current->id == userID) return current->friends;\n",
        "    current = current->next;\n",
        "  }\n",
        "  return nullptr;\n",
        "}\n",
        "\n",
        "// Adds two-way friendship: A <--> B\n",
        "void FriendsManager::addFriendship(const string& id1, const string& id2) {\n",
        "  findOrCreateList(id1)->addFriend(id2);  // Add B to A's list\n",
        "  findOrCreateList(id2)->addFriend(id1);  // Add A to B's list\n",
        "}\n",
        "\n",
        "// Saves all friendships to file (one pair per line), avoiding duplicates\n",
        "void FriendsManager::saveToFile(std::ostream& out) {\n",
        "  /*\n",
        "      This avoids saving both (A,B) and (B,A).\n",
        "      Since friendship is mutual, only store pair if A < B.\n",
        "  */\n",
        "  for (FriendMapNode* curr = head; curr; curr = curr->next) {\n",
        "    for (FriendNode* f = curr->friends->getHead(); f; f = f->next) {\n",
        "      if (curr->id < f->id) {\n",
        "          out << curr->id << \",\" << f->id << std::endl;\n",
        "      }\n",
        "    }\n",
        "  }\n",
        "}"
      ]
    },
    {
      "cell_type": "markdown",
      "metadata": {
        "id": "QYyo9pZz7Vy6"
      },
      "source": [
        "### Message - (Queue)"
      ]
    },
    {
      "cell_type": "code",
      "execution_count": 120,
      "metadata": {
        "colab": {
          "base_uri": "https://localhost:8080/"
        },
        "id": "bIOmVxkgK6a5",
        "outputId": "7e21bcef-f51d-4afa-b9b4-b07c78777c12"
      },
      "outputs": [
        {
          "output_type": "stream",
          "name": "stdout",
          "text": [
            "Overwriting Message.h\n"
          ]
        }
      ],
      "source": [
        "%%writefile Message.h\n",
        "#ifndef MESSAGE_H\n",
        "#define MESSAGE_H\n",
        "\n",
        "#include <string>\n",
        "using namespace std;\n",
        "\n",
        "// --- Message Node for Queue ---\n",
        "// Represents a single message in a linked message queue.\n",
        "\n",
        "class MessageNode {\n",
        "public:\n",
        "  string sender;        // ID of the sender\n",
        "  string text;          // Content of the message\n",
        "  MessageNode* next;    // Pointer to the next message in the queue\n",
        "\n",
        "  // Constructor: initializes message with sender and text\n",
        "  MessageNode(const string& sender, const string& text);\n",
        "};\n",
        "\n",
        "\n",
        "// --- MessageQueue: manages a student's received messages ---\n",
        "// A FIFO queue to store messages for each student\n",
        "\n",
        "class MessageQueue {\n",
        "private:\n",
        "  MessageNode* head;  // First message in queue (oldest)\n",
        "  MessageNode* tail;  // Last message in queue (most recent)\n",
        "\n",
        "public:\n",
        "\n",
        "    MessageQueue();         // Constructor: initializes an empty queue\n",
        "    ~MessageQueue();        // Destructor: cleans up all nodes in the queue\n",
        "\n",
        "    void enqueue(const string& sender, const string& text); // Adds a new message to the end of the queue\n",
        "\n",
        "    MessageNode* getHead() const;   // Returns pointer to the first message in the queue (for iteration)\n",
        "\n",
        "    void clear();                         // Clears all messages from the queue\n",
        "    void printAll() const;                // Prints all messages\n",
        "    void saveToFile(ostream& out) const;  // Writes the full message queue to an output stream (e.g., file)\n",
        "};\n",
        "\n",
        "// --- MessageMapNode: links student ID to their message queue ---\n",
        "// Used in a singly linked list map for student-message mapping.\n",
        "\n",
        "struct MessageMapNode {\n",
        "  string id;              // Student's unique ID\n",
        "  MessageQueue* queue;    // Their message queue\n",
        "  MessageMapNode* next;   // Next mapping node in the list\n",
        "\n",
        "  // Constructor: creates a new node with a fresh queue\n",
        "  MessageMapNode(const string& id);\n",
        "};\n",
        "\n",
        "// --- MessageManager: manages all students' message queues ---\n",
        "// Central handler for sending, retrieving, saving, and printing messages.\n",
        "\n",
        "class MessageManager {\n",
        "private:\n",
        "  MessageMapNode* head;   // Head of the singly linked list of message mappings\n",
        "\n",
        "public:\n",
        "\n",
        "  MessageManager();   // Constructor: initializes empty message map\n",
        "  ~MessageManager();  // Destructor: cleans up all queues and map nodes\n",
        "\n",
        "  MessageQueue* findOrCreateQueue(const string& id);   // Finds existing queue by ID, or creates one if not present\n",
        "  MessageQueue* getQueue(const string& id) const;      // Returns existing message queue by ID, or nullptr if not found\n",
        "\n",
        "  // --- Functions for FileManager or message operations ---\n",
        "  void addMessage(const string& receiverId, const string& sender, const string& text);  // Adds a new message from 'sender' to 'receiverId'\n",
        "  void saveAllMessages(class StudentManager* sm) const;                                 // Writes all messages to file, optionally using StudentManager for formatting\n",
        "  void loadMessageLine(const string& receiverId, const string& line);                   // Loads a single message line from a file and adds it to appropriate queue\n",
        "  void printThread(const string& userA, const string& userB, StudentManager* sm) const; // Prints the conversation between two users (filtering by sender)\n",
        "\n",
        "  MessageNode* getMessages(const string& userId) const;                                 // Returns pointer to the message list for a user (e.g., for direct iteration)\n",
        "};\n",
        "\n",
        "#endif"
      ]
    },
    {
      "cell_type": "code",
      "execution_count": 121,
      "metadata": {
        "colab": {
          "base_uri": "https://localhost:8080/"
        },
        "id": "A0ClgQFKK6a5",
        "outputId": "9a416bd6-5901-47f4-ac98-621fffc4859e"
      },
      "outputs": [
        {
          "output_type": "stream",
          "name": "stdout",
          "text": [
            "Overwriting Message.cpp\n"
          ]
        }
      ],
      "source": [
        "%%writefile Message.cpp\n",
        "#include \"Message.h\"\n",
        "#include \"Student.h\"\n",
        "#include <iostream>\n",
        "#include <fstream>\n",
        "\n",
        "// --- MessageNode Constructor ---\n",
        "// Represents a single message with sender, text, and pointer to next message\n",
        "MessageNode::MessageNode(const string& sender, const string& text) {\n",
        "  this->sender = sender;\n",
        "  this->text = text;\n",
        "  this->next = nullptr;\n",
        "}\n",
        "\n",
        "// --- MessageQueue Constructor & Destructor ---\n",
        "// Initializes an empty message queue\n",
        "MessageQueue::MessageQueue() {\n",
        "  head = nullptr;\n",
        "  tail = nullptr;\n",
        "}\n",
        "\n",
        "// Deletes all messages in the queue\n",
        "MessageQueue::~MessageQueue() { clear(); }\n",
        "\n",
        "// Adds a new message to the end of the queue\n",
        "void MessageQueue::enqueue(const string& sender, const string& text) {\n",
        "  MessageNode* newNode = new MessageNode(sender, text);\n",
        "  if (!tail)\n",
        "    head = tail = newNode; // Empty queue\n",
        "  else {\n",
        "    tail->next = newNode;\n",
        "    tail = newNode;\n",
        "  }\n",
        "}\n",
        "\n",
        "// Returns the head of the queue\n",
        "MessageNode* MessageQueue::getHead() const { return head; }\n",
        "\n",
        "// Clears the queue by deleting all nodes\n",
        "void MessageQueue::clear() {\n",
        "  while (head) {\n",
        "    MessageNode* temp = head;\n",
        "    head = head->next;\n",
        "    delete temp;\n",
        "  }\n",
        "  tail = nullptr;\n",
        "}\n",
        "\n",
        "// Prints all messages to console (for CLI/debugging)\n",
        "void MessageQueue::printAll() const {\n",
        "  MessageNode* current = head;\n",
        "  while (current) {\n",
        "    cout << current->sender << \": \" << current->text << endl;\n",
        "    current = current->next;\n",
        "  }\n",
        "}\n",
        "\n",
        "// --- Serializes the message queue to an output stream ---\n",
        "// Format: sender|messageText\n",
        "void MessageQueue::saveToFile(ostream& out) const {\n",
        "  MessageNode* current = head;\n",
        "  while (current) {\n",
        "    out << current->sender << \"|\" << current->text << endl;\n",
        "    current = current->next;\n",
        "  }\n",
        "}\n",
        "\n",
        "// --- MessageMapNode Constructor ---\n",
        "// Links a user ID to their personal message queue\n",
        "MessageMapNode::MessageMapNode(const string& id) {\n",
        "  this->id = id;\n",
        "  this->queue = new MessageQueue();\n",
        "  this->next = nullptr;\n",
        "}\n",
        "\n",
        "// --- MessageManager Constructor & Destructor ---\n",
        "// Manages the linked list of MessageMapNodes\n",
        "MessageManager::MessageManager() {\n",
        "  head = nullptr;\n",
        "}\n",
        "\n",
        "MessageManager::~MessageManager() {\n",
        "  while (head) {\n",
        "    MessageMapNode* temp = head;\n",
        "    head = head->next;\n",
        "    delete temp->queue;\n",
        "    delete temp;\n",
        "  }\n",
        "}\n",
        "\n",
        "// Finds or creates a queue for a specific user\n",
        "MessageQueue* MessageManager::findOrCreateQueue(const string& id) {\n",
        "  MessageMapNode* current = head;\n",
        "  while (current) {\n",
        "    if (current->id == id) return current->queue;\n",
        "    current = current->next;\n",
        "  }\n",
        "  // Create new node if not found\n",
        "  MessageMapNode* newNode = new MessageMapNode(id);\n",
        "  newNode->next = head;\n",
        "  head = newNode;\n",
        "  return newNode->queue;\n",
        "}\n",
        "\n",
        "// Returns queue for specific user if it exists\n",
        "MessageQueue* MessageManager::getQueue(const string& id) const {\n",
        "  MessageMapNode* current = head;\n",
        "  while (current) {\n",
        "    if (current->id == id) return current->queue;\n",
        "    current = current->next;\n",
        "  }\n",
        "  return nullptr;\n",
        "}\n",
        "\n",
        "// Adds a message to a user's message queue\n",
        "void MessageManager::addMessage(const string& receiverId, const string& sender, const string& text) {\n",
        "  findOrCreateQueue(receiverId)->enqueue(sender, text);\n",
        "}\n",
        "\n",
        "// --- Saves each user's message queue to a separate file ---\n",
        "// Filename: messages_<matric_no>.txt\n",
        "void MessageManager::saveAllMessages(StudentManager* sm) const {\n",
        "  Node* current = sm->getHead();\n",
        "  while (current) {\n",
        "    string filename = \"messages_\" + current->data->getMatricNo() + \".txt\";\n",
        "\n",
        "    ofstream out(filename.c_str());\n",
        "\n",
        "    MessageQueue* q = getQueue(current->data->getMatricNo());\n",
        "\n",
        "    if (q)\n",
        "      q->saveToFile(out); // Save messages if queue exists\n",
        "\n",
        "    out.close();\n",
        "    current = current->next;\n",
        "  }\n",
        "}\n",
        "\n",
        "// --- Parses a message from a line and adds it to the user's queue ---\n",
        "// Expected format: \"sender|messageText\"\n",
        "void MessageManager::loadMessageLine(const string& receiverId, const string& line) {\n",
        "  int delim = static_cast<int>(line.find('|'));\n",
        "  if (delim != -1) {\n",
        "    string sender = line.substr(0, delim);\n",
        "    string text = line.substr(delim + 1);\n",
        "    addMessage(receiverId, sender, text);\n",
        "  }\n",
        "}\n",
        "\n",
        "// --- Displays all messages between userA and userB ---\n",
        "// Shows full names if possible, otherwise just IDs\n",
        "void MessageManager::printThread(const string& userA, const string& userB, StudentManager* sm) const {\n",
        "  cout << \"+------------------------------------------------------+\" << endl;\n",
        "  cout << \"|                    Message Thread                    |\" << endl;\n",
        "  cout << \"+------------------------------------------------------+\" << endl;\n",
        "\n",
        "  Node* nodeA = sm->searchData(MATRIC, userA);\n",
        "  Node* nodeB = sm->searchData(MATRIC, userB);\n",
        "\n",
        "  cout << \"Between: \";\n",
        "  if (nodeA) cout << nodeA->data->getFullName() << \" (\" << userA << \")\";\n",
        "  else cout << userA;\n",
        "  cout << \" and \";\n",
        "  if (nodeB) cout << nodeB->data->getFullName() << \" (\" << userB << \")\";\n",
        "  else cout << userB;\n",
        "  cout << endl;\n",
        "  cout << \"+------------------------------------------------------+\" << endl;\n",
        "\n",
        "  // Messages received by A from B\n",
        "  MessageQueue* queueA = getQueue(userA);\n",
        "  if (queueA) {\n",
        "    MessageNode* curr = queueA->getHead();\n",
        "    while (curr) {\n",
        "      if (curr->sender == userB) {\n",
        "        if (curr->text.substr(0, 7) == \"[IMAGE]\") {\n",
        "\n",
        "          if (nodeB)\n",
        "            cout << nodeB->data->getFullName();\n",
        "          else\n",
        "            cout << userB;\n",
        "\n",
        "          cout << \" sent an image: \" << curr->text.substr(7) << endl;\n",
        "        } else {\n",
        "          if (nodeB)\n",
        "            cout << nodeB->data->getFullName();\n",
        "          else\n",
        "            cout << userB;\n",
        "\n",
        "          cout << \": \" << curr->text << endl;\n",
        "        }\n",
        "      }\n",
        "      curr = curr->next;\n",
        "    }\n",
        "  }\n",
        "\n",
        "  // Messages received by B from A\n",
        "  MessageQueue* queueB = getQueue(userB);\n",
        "  if (queueB) {\n",
        "    MessageNode* curr = queueB->getHead();\n",
        "    while (curr) {\n",
        "      if (curr->sender == userA) {\n",
        "        if (curr->text.substr(0, 7) == \"[IMAGE]\") {\n",
        "          cout << \"You sent an image: \" << curr->text.substr(7) << endl;\n",
        "        } else {\n",
        "          cout << \"You: \" << curr->text << endl;\n",
        "        }\n",
        "      }\n",
        "      curr = curr->next;\n",
        "    }\n",
        "  }\n",
        "  cout << \"+------------------------------------------------------+\" << endl;\n",
        "}\n",
        "\n",
        "// --- Gets the head of the message queue for a specific user ---\n",
        "MessageNode* MessageManager::getMessages(const string& userId) const {\n",
        "  MessageQueue* q = getQueue(userId);\n",
        "  return q ? q->getHead() : nullptr;\n",
        "}\n"
      ]
    },
    {
      "cell_type": "markdown",
      "metadata": {
        "id": "NJN864_X7zB5"
      },
      "source": [
        "### GroupChatCLL class - (Circular Linked List)"
      ]
    },
    {
      "cell_type": "code",
      "execution_count": 122,
      "metadata": {
        "colab": {
          "base_uri": "https://localhost:8080/"
        },
        "id": "lncZ4Riy5doq",
        "outputId": "674decf9-cc9f-4cbe-8823-f6ce0f29fbcf"
      },
      "outputs": [
        {
          "output_type": "stream",
          "name": "stdout",
          "text": [
            "Overwriting GroupChatCLL.h\n"
          ]
        }
      ],
      "source": [
        "%%writefile GroupChatCLL.h\n",
        "#ifndef GROUPCHATCLL_H\n",
        "#define GROUPCHATCLL_H\n",
        "\n",
        "#endif;"
      ]
    },
    {
      "cell_type": "code",
      "execution_count": 123,
      "metadata": {
        "colab": {
          "base_uri": "https://localhost:8080/"
        },
        "id": "MA8BKJyY5kvG",
        "outputId": "3e4ed0e8-70ee-43b1-cb83-ee53c119dc4a"
      },
      "outputs": [
        {
          "output_type": "stream",
          "name": "stdout",
          "text": [
            "Overwriting GroupChatCLL.cpp\n"
          ]
        }
      ],
      "source": [
        "%%writefile GroupChatCLL.cpp\n"
      ]
    },
    {
      "cell_type": "markdown",
      "metadata": {
        "id": "01bs5v6gK6a6"
      },
      "source": [
        "### ActionStack - (Stack)"
      ]
    },
    {
      "cell_type": "code",
      "execution_count": 124,
      "metadata": {
        "colab": {
          "base_uri": "https://localhost:8080/"
        },
        "id": "kK7JkiY7K6a7",
        "outputId": "7d5e10a5-4131-427e-b820-e33ca9eba603"
      },
      "outputs": [
        {
          "output_type": "stream",
          "name": "stdout",
          "text": [
            "Overwriting ActionStack.h\n"
          ]
        }
      ],
      "source": [
        "%%writefile ActionStack.h\n",
        "#ifndef ACTIONSTACK_H\n",
        "#define ACTIONSTACK_H\n",
        "\n",
        "#endif;"
      ]
    },
    {
      "cell_type": "code",
      "execution_count": 125,
      "metadata": {
        "colab": {
          "base_uri": "https://localhost:8080/"
        },
        "id": "UAkFsnDoK6a7",
        "outputId": "ec249e9a-0537-476b-9d25-6b748817d4bf"
      },
      "outputs": [
        {
          "output_type": "stream",
          "name": "stdout",
          "text": [
            "Overwriting ActionStack.cpp\n"
          ]
        }
      ],
      "source": [
        "%%writefile ActionStack.cpp"
      ]
    },
    {
      "cell_type": "markdown",
      "metadata": {
        "id": "vaoVxiDt76iR"
      },
      "source": [
        "### Main - Entry point"
      ]
    },
    {
      "cell_type": "code",
      "execution_count": 126,
      "metadata": {
        "colab": {
          "base_uri": "https://localhost:8080/"
        },
        "id": "JqbT5_uuK6a7",
        "outputId": "826d0c8a-bc52-4eae-ccf0-43dda81205e9"
      },
      "outputs": [
        {
          "output_type": "stream",
          "name": "stdout",
          "text": [
            "Overwriting main.cpp\n"
          ]
        }
      ],
      "source": [
        "%%writefile main.cpp\n",
        "#include <iostream>\n",
        "#include \"FileManager.h\" // Includes the FileManager class for handling all file I/O\n",
        "#include \"CLI.h\"         // Includes the Command Line Interface class\n",
        "\n",
        "int main() {\n",
        "    // Create an instance of FileManager to manage students, friends, and messages\n",
        "    FileManager fileManager;\n",
        "\n",
        "    // Load all saved data from files (students, friends, messages, etc.)\n",
        "    fileManager.loadAll();\n",
        "\n",
        "    // Initialize the CLI with a pointer to the FileManager so it can access data\n",
        "    CLI cli(&fileManager);\n",
        "\n",
        "    // Start the command line interface loop (user interaction begins here)\n",
        "    cli.run();\n",
        "\n",
        "    // After the user exits the CLI, save all updated data back to files\n",
        "    fileManager.saveAll();\n",
        "\n",
        "    return 0; // End the program successfully\n",
        "}\n"
      ]
    },
    {
      "cell_type": "code",
      "execution_count": 127,
      "metadata": {
        "colab": {
          "base_uri": "https://localhost:8080/"
        },
        "id": "IGttbliaZF2J",
        "outputId": "4922ad04-2d31-4f42-b382-4ecb74c51418"
      },
      "outputs": [
        {
          "output_type": "stream",
          "name": "stdout",
          "text": [
            "+--------------------------------------------+\n",
            "|     Student Networking CLI Application     |\n",
            "+--------------------------------------------+\n",
            "| [1] Login                                  |\n",
            "| [2] Register                               |\n",
            "| [3] Exit                                   |\n",
            "+--------------------------------------------+\n",
            "Enter your choice: 2\n",
            "+-------------------------------------+\n",
            "|               Sign Up               |\n",
            "+-------------------------------------+\n",
            "Enter (-1) anytime to return to login page.\n",
            "\n",
            "Enter Email: koayphinghong\n",
            "Invalid email domain! Please use a student email!\n",
            "Enter Email: koayphinghong@student.usm.my\n",
            "** Password must contain uppercase, lowercase and digit\n",
            "Enter Password: Koay2025\n",
            "Enter Matric Number (8-digit): 23301234\n",
            "Enter Full Name: Koay Phing Hong\n",
            "+-------------------------------------+\n",
            "|           Select your course        |\n",
            "+-------------------------------------+\n",
            "| [1] Computing Infrastructure        |\n",
            "| [2] Intelligent Computing           |\n",
            "| [3] Software Engineering            |\n",
            "+-------------------------------------+\n",
            "Enter your choice: 2\n",
            "Matric No: 23301234\n",
            "Full Name: Koay Phing Hong\n",
            "Course: Intelligent Computing\n",
            "Confirm data (Y/N): y\n",
            "<New profile sign up successfully!>\n",
            "<Returning to login page...>\n",
            "+--------------------------------------------+\n",
            "|     Student Networking CLI Application     |\n",
            "+--------------------------------------------+\n",
            "| [1] Login                                  |\n",
            "| [2] Register                               |\n",
            "| [3] Exit                                   |\n",
            "+--------------------------------------------+\n",
            "Enter your choice: 1\n",
            "+-----------------------------------+\n",
            "|               Login               |\n",
            "+-----------------------------------+\n",
            "USM Student Email: koayphinghong@student.usm.my\n",
            "Password: Koay2025\n",
            "<Login successful!>\n",
            "\n",
            "+---------------------------------------+\n",
            "|               Main Menu               |\n",
            "+---------------------------------------+\n",
            "| [1] View All Student Profiles         |\n",
            "| [2] View Personal Profile             |\n",
            "| [3] Friends                           |\n",
            "| [4] View Personal Inbox               |\n",
            "| [5] Undo Actions                      |\n",
            "| [6] View Group Chats                  |\n",
            "| [7] Logout                            |\n",
            "+---------------------------------------+\n",
            "Enter your choice: 1\n",
            "+----------------------------------------------------------------------------------+\n",
            "|                                  Student                                         |\n",
            "+----------------------------------------------------------------------------------+\n",
            "| MATRIC      FULL NAME           EMAIL                   COURSE NAME              |\n",
            "| 23301001    Alice Johnson       alice@student.usm.my    Software Engineering     |\n",
            "| 23301234    Koay Phing Hong     koayphinghong@student.usm.myIntelligent Computing    |\n",
            "| 23302002    Bob Smith           bob@student.usm.my      Intelligent Computing    |\n",
            "| 23303003    Charlie Lee         charlie@student.usm.my  Computing Infrastructure |\n",
            "| 23304004    Dana White          dana@student.usm.my     Software Engineering     |\n",
            "| 23305005    Ethan Tan           ethan@student.usm.my    Intelligent Computing    |\n",
            "| 23306006    Farah Lim           farah@student.usm.my    Computing Infrastructure |\n",
            "| 23307007    Grace Wong          grace@student.usm.my    Software Engineering     |\n",
            "| 23308008    Henry Goh           henry@student.usm.my    Intelligent Computing    |\n",
            "| 23309009    Ivy Ng              ivy@student.usm.my      Computing Infrastructure |\n",
            "| 23310010    Jack Lee            jack@student.usm.my     Software Engineering     |\n",
            "+----------------------------------------------------------------------------------+\n",
            "\n",
            "+------------------------------------+\n",
            "|           Student Menu             |\n",
            "+------------------------------------+\n",
            "| [1] Sort by Matric Number          |\n",
            "| [2] Sort by Name                   |\n",
            "| [3] Sort by Course                 |\n",
            "| [4] Print Ascending List           |\n",
            "| [5] Print Descending List          |\n",
            "| [6] Back                           |\n",
            "+------------------------------------+\n",
            "Enter your choice: 3\n",
            "+----------------------------------------------------------------------------------+\n",
            "|                                  Student                                         |\n",
            "+----------------------------------------------------------------------------------+\n",
            "| MATRIC      FULL NAME           EMAIL                   COURSE NAME              |\n",
            "| 23303003    Charlie Lee         charlie@student.usm.my  Computing Infrastructure |\n",
            "| 23306006    Farah Lim           farah@student.usm.my    Computing Infrastructure |\n",
            "| 23309009    Ivy Ng              ivy@student.usm.my      Computing Infrastructure |\n",
            "| 23301234    Koay Phing Hong     koayphinghong@student.usm.myIntelligent Computing    |\n",
            "| 23302002    Bob Smith           bob@student.usm.my      Intelligent Computing    |\n",
            "| 23305005    Ethan Tan           ethan@student.usm.my    Intelligent Computing    |\n",
            "| 23308008    Henry Goh           henry@student.usm.my    Intelligent Computing    |\n",
            "| 23301001    Alice Johnson       alice@student.usm.my    Software Engineering     |\n",
            "| 23304004    Dana White          dana@student.usm.my     Software Engineering     |\n",
            "| 23307007    Grace Wong          grace@student.usm.my    Software Engineering     |\n",
            "| 23310010    Jack Lee            jack@student.usm.my     Software Engineering     |\n",
            "+----------------------------------------------------------------------------------+\n",
            "\n",
            "+------------------------------------+\n",
            "|           Student Menu             |\n",
            "+------------------------------------+\n",
            "| [1] Sort by Matric Number          |\n",
            "| [2] Sort by Name                   |\n",
            "| [3] Sort by Course                 |\n",
            "| [4] Print Ascending List           |\n",
            "| [5] Print Descending List          |\n",
            "| [6] Back                           |\n",
            "+------------------------------------+\n",
            "Enter your choice: 6\n",
            "<Returning to Main Menu...>\n",
            "+---------------------------------------+\n",
            "|               Main Menu               |\n",
            "+---------------------------------------+\n",
            "| [1] View All Student Profiles         |\n",
            "| [2] View Personal Profile             |\n",
            "| [3] Friends                           |\n",
            "| [4] View Personal Inbox               |\n",
            "| [5] Undo Actions                      |\n",
            "| [6] View Group Chats                  |\n",
            "| [7] Logout                            |\n",
            "+---------------------------------------+\n",
            "Enter your choice: 2\n",
            "+---------------------------------------+\n",
            "|            Personal Profile           |\n",
            "+---------------------------------------+\n",
            "+----------------------------------------------------------------------------------+\n",
            "|                                  Student                                         |\n",
            "+----------------------------------------------------------------------------------+\n",
            "| MATRIC      FULL NAME           EMAIL                   COURSE NAME              |\n",
            "| 23301234    Koay Phing Hong     koayphinghong@student.usm.myIntelligent Computing    |\n",
            "+----------------------------------------------------------------------------------+\n",
            "+---------------------------------------+\n",
            "|               Main Menu               |\n",
            "+---------------------------------------+\n",
            "| [1] View All Student Profiles         |\n",
            "| [2] View Personal Profile             |\n",
            "| [3] Friends                           |\n",
            "| [4] View Personal Inbox               |\n",
            "| [5] Undo Actions                      |\n",
            "| [6] View Group Chats                  |\n",
            "| [7] Logout                            |\n",
            "+---------------------------------------+\n",
            "Enter your choice: 3\n",
            "\n",
            "+------------------------------------+\n",
            "|             Friends Menu           |\n",
            "+------------------------------------+\n",
            "| [1] View Friend List               |\n",
            "| [2] Add a Friend                   |\n",
            "| [3] Remove a Friend                |\n",
            "| [4] Back                           |\n",
            "+------------------------------------+\n",
            "Enter choice: 1\n",
            "+--------------------------------------------------+\n",
            "|            You have no friends added.            |\n",
            "+--------------------------------------------------+\n",
            "\n",
            "+------------------------------------+\n",
            "|             Friends Menu           |\n",
            "+------------------------------------+\n",
            "| [1] View Friend List               |\n",
            "| [2] Add a Friend                   |\n",
            "| [3] Remove a Friend                |\n",
            "| [4] Back                           |\n",
            "+------------------------------------+\n",
            "Enter choice: 2\n",
            "+--------------------------------------------------+\n",
            "|                     Add a friend                 |\n",
            "+--------------------------------------------------+\n",
            "Enter Matric No. of your friend: 23301001\n",
            "<Friend added successfully.>\n",
            "\n",
            "+------------------------------------+\n",
            "|             Friends Menu           |\n",
            "+------------------------------------+\n",
            "| [1] View Friend List               |\n",
            "| [2] Add a Friend                   |\n",
            "| [3] Remove a Friend                |\n",
            "| [4] Back                           |\n",
            "+------------------------------------+\n",
            "Enter choice: 1\n",
            "\n",
            "+--------------------------------------------------------------------------------------------------------------+\n",
            "|                                                  FRIEND LIST                                                 |\n",
            "+--------------------------------------------------------------------------------------------------------------+\n",
            "| Matric No. | Full Name                 | Student Email                 | Course                              |\n",
            "+--------------------------------------------------------------------------------------------------------------+\n",
            "| 23301001   | Alice Johnson             | alice@student.usm.my          | Software Engineering                |\n",
            "+--------------------------------------------------------------------------------------------------------------+\n",
            "\n",
            "\n",
            "+------------------------------------+\n",
            "|             Friends Menu           |\n",
            "+------------------------------------+\n",
            "| [1] View Friend List               |\n",
            "| [2] Add a Friend                   |\n",
            "| [3] Remove a Friend                |\n",
            "| [4] Back                           |\n",
            "+------------------------------------+\n",
            "Enter choice: 4\n",
            "Returning to Main Menu...\n",
            "+---------------------------------------+\n",
            "|               Main Menu               |\n",
            "+---------------------------------------+\n",
            "| [1] View All Student Profiles         |\n",
            "| [2] View Personal Profile             |\n",
            "| [3] Friends                           |\n",
            "| [4] View Personal Inbox               |\n",
            "| [5] Undo Actions                      |\n",
            "| [6] View Group Chats                  |\n",
            "| [7] Logout                            |\n",
            "+---------------------------------------+\n",
            "Enter your choice: 4\n",
            "\n",
            "+-----------------------------+\n",
            "| [1] View Inbox & Thread     |\n",
            "| [2] Send Message            |\n",
            "| [3] Send Image              |\n",
            "| [4] Back                    |\n",
            "+-----------------------------+\n",
            "Enter choice: 1\n",
            "Enter friend's matric number: 23301001\n",
            "+------------------------------------------------------+\n",
            "|                    Message Thread                    |\n",
            "+------------------------------------------------------+\n",
            "Between: Koay Phing Hong (23301234) and Alice Johnson (23301001)\n",
            "+------------------------------------------------------+\n",
            "+------------------------------------------------------+\n",
            "\n",
            "+-----------------------------+\n",
            "| [1] View Inbox & Thread     |\n",
            "| [2] Send Message            |\n",
            "| [3] Send Image              |\n",
            "| [4] Back                    |\n",
            "+-----------------------------+\n",
            "Enter choice: 2\n",
            "Your friends:\n",
            "\n",
            "+--------------------------------------------------------------------------------------------------------------+\n",
            "|                                                  FRIEND LIST                                                 |\n",
            "+--------------------------------------------------------------------------------------------------------------+\n",
            "| Matric No. | Full Name                 | Student Email                 | Course                              |\n",
            "+--------------------------------------------------------------------------------------------------------------+\n",
            "| 23301001   | Alice Johnson             | alice@student.usm.my          | Software Engineering                |\n",
            "+--------------------------------------------------------------------------------------------------------------+\n",
            "\n",
            "Enter friend's matric number: 23301001\n",
            "Enter your message: Hello nice to meet you :)\n",
            "<Message sent!>\n",
            "\n",
            "+-----------------------------+\n",
            "| [1] View Inbox & Thread     |\n",
            "| [2] Send Message            |\n",
            "| [3] Send Image              |\n",
            "| [4] Back                    |\n",
            "+-----------------------------+\n",
            "Enter choice: 1\n",
            "Enter friend's matric number: 23301001\n",
            "+------------------------------------------------------+\n",
            "|                    Message Thread                    |\n",
            "+------------------------------------------------------+\n",
            "Between: Koay Phing Hong (23301234) and Alice Johnson (23301001)\n",
            "+------------------------------------------------------+\n",
            "You: Hello nice to meet you :)\n",
            "+------------------------------------------------------+\n",
            "\n",
            "+-----------------------------+\n",
            "| [1] View Inbox & Thread     |\n",
            "| [2] Send Message            |\n",
            "| [3] Send Image              |\n",
            "| [4] Back                    |\n",
            "+-----------------------------+\n",
            "Enter choice: 3\n",
            "Your friends:\n",
            "\n",
            "+--------------------------------------------------------------------------------------------------------------+\n",
            "|                                                  FRIEND LIST                                                 |\n",
            "+--------------------------------------------------------------------------------------------------------------+\n",
            "| Matric No. | Full Name                 | Student Email                 | Course                              |\n",
            "+--------------------------------------------------------------------------------------------------------------+\n",
            "| 23301001   | Alice Johnson             | alice@student.usm.my          | Software Engineering                |\n",
            "+--------------------------------------------------------------------------------------------------------------+\n",
            "\n",
            "Enter friend's matric number: 23301001\n",
            "Enter image file name (e.g., photo.jpg): [IMAGE] USM pics.jpg\n",
            "Image sent as message!\n",
            "\n",
            "+-----------------------------+\n",
            "| [1] View Inbox & Thread     |\n",
            "| [2] Send Message            |\n",
            "| [3] Send Image              |\n",
            "| [4] Back                    |\n",
            "+-----------------------------+\n",
            "Enter choice: 1\n",
            "Enter friend's matric number: 23301001\n",
            "+------------------------------------------------------+\n",
            "|                    Message Thread                    |\n",
            "+------------------------------------------------------+\n",
            "Between: Koay Phing Hong (23301234) and Alice Johnson (23301001)\n",
            "+------------------------------------------------------+\n",
            "You: Hello nice to meet you :)\n",
            "You sent an image: [IMAGE] USM pics.jpg\n",
            "+------------------------------------------------------+\n",
            "\n",
            "+-----------------------------+\n",
            "| [1] View Inbox & Thread     |\n",
            "| [2] Send Message            |\n",
            "| [3] Send Image              |\n",
            "| [4] Back                    |\n",
            "+-----------------------------+\n",
            "Enter choice: 4\n",
            "+---------------------------------------+\n",
            "|               Main Menu               |\n",
            "+---------------------------------------+\n",
            "| [1] View All Student Profiles         |\n",
            "| [2] View Personal Profile             |\n",
            "| [3] Friends                           |\n",
            "| [4] View Personal Inbox               |\n",
            "| [5] Undo Actions                      |\n",
            "| [6] View Group Chats                  |\n",
            "| [7] Logout                            |\n",
            "+---------------------------------------+\n",
            "Enter your choice: 7\n",
            "Logging out...\n",
            "+--------------------------------------------+\n",
            "|     Student Networking CLI Application     |\n",
            "+--------------------------------------------+\n",
            "| [1] Login                                  |\n",
            "| [2] Register                               |\n",
            "| [3] Exit                                   |\n",
            "+--------------------------------------------+\n",
            "Enter your choice: 1\n",
            "+-----------------------------------+\n",
            "|               Login               |\n",
            "+-----------------------------------+\n",
            "USM Student Email: alice@student.usm.my\n",
            "Password: Alice2025\n",
            "<Login successful!>\n",
            "\n",
            "+---------------------------------------+\n",
            "|               Main Menu               |\n",
            "+---------------------------------------+\n",
            "| [1] View All Student Profiles         |\n",
            "| [2] View Personal Profile             |\n",
            "| [3] Friends                           |\n",
            "| [4] View Personal Inbox               |\n",
            "| [5] Undo Actions                      |\n",
            "| [6] View Group Chats                  |\n",
            "| [7] Logout                            |\n",
            "+---------------------------------------+\n",
            "Enter your choice: 1\n",
            "+----------------------------------------------------------------------------------+\n",
            "|                                  Student                                         |\n",
            "+----------------------------------------------------------------------------------+\n",
            "| MATRIC      FULL NAME           EMAIL                   COURSE NAME              |\n",
            "| 23301001    Alice Johnson       alice@student.usm.my    Software Engineering     |\n",
            "| 23301234    Koay Phing Hong     koayphinghong@student.usm.myIntelligent Computing    |\n",
            "| 23302002    Bob Smith           bob@student.usm.my      Intelligent Computing    |\n",
            "| 23303003    Charlie Lee         charlie@student.usm.my  Computing Infrastructure |\n",
            "| 23304004    Dana White          dana@student.usm.my     Software Engineering     |\n",
            "| 23305005    Ethan Tan           ethan@student.usm.my    Intelligent Computing    |\n",
            "| 23306006    Farah Lim           farah@student.usm.my    Computing Infrastructure |\n",
            "| 23307007    Grace Wong          grace@student.usm.my    Software Engineering     |\n",
            "| 23308008    Henry Goh           henry@student.usm.my    Intelligent Computing    |\n",
            "| 23309009    Ivy Ng              ivy@student.usm.my      Computing Infrastructure |\n",
            "| 23310010    Jack Lee            jack@student.usm.my     Software Engineering     |\n",
            "+----------------------------------------------------------------------------------+\n",
            "\n",
            "+------------------------------------+\n",
            "|           Student Menu             |\n",
            "+------------------------------------+\n",
            "| [1] Sort by Matric Number          |\n",
            "| [2] Sort by Name                   |\n",
            "| [3] Sort by Course                 |\n",
            "| [4] Print Ascending List           |\n",
            "| [5] Print Descending List          |\n",
            "| [6] Back                           |\n",
            "+------------------------------------+\n",
            "Enter your choice: 6\n",
            "<Returning to Main Menu...>\n",
            "+---------------------------------------+\n",
            "|               Main Menu               |\n",
            "+---------------------------------------+\n",
            "| [1] View All Student Profiles         |\n",
            "| [2] View Personal Profile             |\n",
            "| [3] Friends                           |\n",
            "| [4] View Personal Inbox               |\n",
            "| [5] Undo Actions                      |\n",
            "| [6] View Group Chats                  |\n",
            "| [7] Logout                            |\n",
            "+---------------------------------------+\n",
            "Enter your choice: 2\n",
            "+---------------------------------------+\n",
            "|            Personal Profile           |\n",
            "+---------------------------------------+\n",
            "+----------------------------------------------------------------------------------+\n",
            "|                                  Student                                         |\n",
            "+----------------------------------------------------------------------------------+\n",
            "| MATRIC      FULL NAME           EMAIL                   COURSE NAME              |\n",
            "| 23301001    Alice Johnson       alice@student.usm.my    Software Engineering     |\n",
            "+----------------------------------------------------------------------------------+\n",
            "+---------------------------------------+\n",
            "|               Main Menu               |\n",
            "+---------------------------------------+\n",
            "| [1] View All Student Profiles         |\n",
            "| [2] View Personal Profile             |\n",
            "| [3] Friends                           |\n",
            "| [4] View Personal Inbox               |\n",
            "| [5] Undo Actions                      |\n",
            "| [6] View Group Chats                  |\n",
            "| [7] Logout                            |\n",
            "+---------------------------------------+\n",
            "Enter your choice: 3\n",
            "\n",
            "+------------------------------------+\n",
            "|             Friends Menu           |\n",
            "+------------------------------------+\n",
            "| [1] View Friend List               |\n",
            "| [2] Add a Friend                   |\n",
            "| [3] Remove a Friend                |\n",
            "| [4] Back                           |\n",
            "+------------------------------------+\n",
            "Enter choice: 1\n",
            "\n",
            "+--------------------------------------------------------------------------------------------------------------+\n",
            "|                                                  FRIEND LIST                                                 |\n",
            "+--------------------------------------------------------------------------------------------------------------+\n",
            "| Matric No. | Full Name                 | Student Email                 | Course                              |\n",
            "+--------------------------------------------------------------------------------------------------------------+\n",
            "| 23302002   | Bob Smith                 | bob@student.usm.my            | Intelligent Computing               |\n",
            "| 23303003   | Charlie Lee               | charlie@student.usm.my        | Computing Infrastructure            |\n",
            "| 23301234   | Koay Phing Hong           | koayphinghong@student.usm.my  | Intelligent Computing               |\n",
            "+--------------------------------------------------------------------------------------------------------------+\n",
            "\n",
            "\n",
            "+------------------------------------+\n",
            "|             Friends Menu           |\n",
            "+------------------------------------+\n",
            "| [1] View Friend List               |\n",
            "| [2] Add a Friend                   |\n",
            "| [3] Remove a Friend                |\n",
            "| [4] Back                           |\n",
            "+------------------------------------+\n",
            "Enter choice: 4\n",
            "Returning to Main Menu...\n",
            "+---------------------------------------+\n",
            "|               Main Menu               |\n",
            "+---------------------------------------+\n",
            "| [1] View All Student Profiles         |\n",
            "| [2] View Personal Profile             |\n",
            "| [3] Friends                           |\n",
            "| [4] View Personal Inbox               |\n",
            "| [5] Undo Actions                      |\n",
            "| [6] View Group Chats                  |\n",
            "| [7] Logout                            |\n",
            "+---------------------------------------+\n",
            "Enter your choice: 4\n",
            "\n",
            "+-----------------------------+\n",
            "| [1] View Inbox & Thread     |\n",
            "| [2] Send Message            |\n",
            "| [3] Send Image              |\n",
            "| [4] Back                    |\n",
            "+-----------------------------+\n",
            "Enter choice: 1\n",
            "Enter friend's matric number: 23301234\n",
            "+------------------------------------------------------+\n",
            "|                    Message Thread                    |\n",
            "+------------------------------------------------------+\n",
            "Between: Alice Johnson (23301001) and Koay Phing Hong (23301234)\n",
            "+------------------------------------------------------+\n",
            "Koay Phing Hong: Hello nice to meet you :)\n",
            "Koay Phing Hong sent an image: [IMAGE] USM pics.jpg\n",
            "+------------------------------------------------------+\n",
            "\n",
            "+-----------------------------+\n",
            "| [1] View Inbox & Thread     |\n",
            "| [2] Send Message            |\n",
            "| [3] Send Image              |\n",
            "| [4] Back                    |\n",
            "+-----------------------------+\n",
            "Enter choice: 4\n",
            "+---------------------------------------+\n",
            "|               Main Menu               |\n",
            "+---------------------------------------+\n",
            "| [1] View All Student Profiles         |\n",
            "| [2] View Personal Profile             |\n",
            "| [3] Friends                           |\n",
            "| [4] View Personal Inbox               |\n",
            "| [5] Undo Actions                      |\n",
            "| [6] View Group Chats                  |\n",
            "| [7] Logout                            |\n",
            "+---------------------------------------+\n",
            "Enter your choice: 7\n",
            "Logging out...\n",
            "+--------------------------------------------+\n",
            "|     Student Networking CLI Application     |\n",
            "+--------------------------------------------+\n",
            "| [1] Login                                  |\n",
            "| [2] Register                               |\n",
            "| [3] Exit                                   |\n",
            "+--------------------------------------------+\n",
            "Enter your choice: 3\n",
            "Exiting program...\n"
          ]
        },
        {
          "output_type": "execute_result",
          "data": {
            "text/plain": []
          },
          "metadata": {},
          "execution_count": 127
        }
      ],
      "source": [
        "%%shell\n",
        "g++ Student.cpp Friends.cpp Message.cpp FileManager.cpp CLI.cpp main.cpp -o NetworkingCLI.elf\n",
        "./NetworkingCLI.elf"
      ]
    },
    {
      "cell_type": "code",
      "execution_count": 128,
      "metadata": {
        "colab": {
          "base_uri": "https://localhost:8080/"
        },
        "id": "U6nppQs3rn2Q",
        "outputId": "bdfb75ec-1d89-425f-86f2-e9a927d805ac"
      },
      "outputs": [
        {
          "output_type": "stream",
          "name": "stdout",
          "text": [
            "23309009,23310010\n",
            "23307007,23308008\n",
            "23305005,23306006\n",
            "23303003,23304004\n",
            "23301001,23302002\n",
            "23301001,23303003\n",
            "23301001,23301234\n",
            "\n"
          ]
        }
      ],
      "source": [
        "import os\n",
        "with open(\"friends.txt\",\"r\") as file:\n",
        "    print(file.read())"
      ]
    },
    {
      "cell_type": "code",
      "execution_count": 129,
      "metadata": {
        "colab": {
          "base_uri": "https://localhost:8080/"
        },
        "id": "r1ohAMqGVXvp",
        "outputId": "aae39033-41c6-4e2a-e027-37ffa13bdaf5"
      },
      "outputs": [
        {
          "output_type": "stream",
          "name": "stdout",
          "text": [
            "23304004|Great job today in Infra Lab!\n",
            "23301001|Sure!\n",
            "\n"
          ]
        }
      ],
      "source": [
        "import os\n",
        "with open(\"messages_23303003.txt\",\"r\") as file:\n",
        "    print(file.read())"
      ]
    },
    {
      "cell_type": "markdown",
      "metadata": {
        "id": "Yv2Oktdq5q6w"
      },
      "source": [
        "# Example Test Cases"
      ]
    }
  ],
  "metadata": {
    "colab": {
      "provenance": []
    },
    "kernelspec": {
      "display_name": "Python 3",
      "name": "python3"
    },
    "language_info": {
      "codemirror_mode": {
        "name": "ipython",
        "version": 3
      },
      "file_extension": ".py",
      "mimetype": "text/x-python",
      "name": "python",
      "nbconvert_exporter": "python",
      "pygments_lexer": "ipython3",
      "version": "3.13.2"
    }
  },
  "nbformat": 4,
  "nbformat_minor": 0
}