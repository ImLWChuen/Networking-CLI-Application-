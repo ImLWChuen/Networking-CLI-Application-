{
  "nbformat": 4,
  "nbformat_minor": 0,
  "metadata": {
    "colab": {
      "provenance": []
    },
    "kernelspec": {
      "name": "python3",
      "display_name": "Python 3"
    },
    "language_info": {
      "name": "python"
    }
  },
  "cells": [
    {
      "cell_type": "markdown",
      "source": [
        "# Group 36\n",
        "\n",
        "# Members:\n",
        "> Lim Jie Shen (23303397) \\\\\n",
        "> Loh Wei Chuen (23303986) \\\\\n",
        "> Lum Yeen Thoong (23304739) \\\\\n",
        "---"
      ],
      "metadata": {
        "id": "r6_gUvL0qnUN"
      }
    },
    {
      "cell_type": "markdown",
      "source": [
        "#Project Title: Networking CLI app\n",
        "\n",
        "---"
      ],
      "metadata": {
        "id": "Qx5Ezx6SrqC6"
      }
    },
    {
      "cell_type": "markdown",
      "source": [
        "##Project Specification:\n",
        "---"
      ],
      "metadata": {
        "id": "AbBKfzs-qpZq"
      }
    },
    {
      "cell_type": "markdown",
      "source": [
        "###Inputs\n",
        "\n",
        "1.\n",
        "\n",
        "2.\n",
        "\n",
        "3.\n",
        "\n",
        "4.\n",
        "\n",
        "Preloaded data files:\n",
        "\n",
        "1.\n",
        "\n",
        "2.\n",
        "\n",
        "3.\n",
        "\n",
        "4.\n",
        "\n",
        "Menu selections for program operations:\n",
        "\n",
        "1. Main Menu:\n",
        "\n",
        "2.\n",
        "\n",
        "3.\n",
        "\n",
        "4.\n",
        "\n",
        "5."
      ],
      "metadata": {
        "id": "cRPh4nHlrnBl"
      }
    },
    {
      "cell_type": "markdown",
      "source": [
        "###Process\n",
        "User Management:\n",
        "1.\n"
      ],
      "metadata": {
        "id": "Nf-PvDFvsGdR"
      }
    },
    {
      "cell_type": "markdown",
      "source": [
        "### Outputs\n",
        "1.\n",
        "\n",
        "---"
      ],
      "metadata": {
        "id": "OFojOzzasM_g"
      }
    },
    {
      "cell_type": "markdown",
      "source": [
        "###Constraints\n",
        "1.\n",
        "---"
      ],
      "metadata": {
        "id": "Xl13njxQsdWB"
      }
    },
    {
      "cell_type": "markdown",
      "source": [
        "###Assumptions\n",
        "1.\n",
        "\n",
        "---"
      ],
      "metadata": {
        "id": "m_VXCQ6VsnuU"
      }
    },
    {
      "cell_type": "markdown",
      "source": [
        "### Deliverables\n",
        "1.\n",
        "\n",
        "Data files:\n",
        "1.\n",
        "\n",
        "---"
      ],
      "metadata": {
        "id": "UlQtrJ_OszDF"
      }
    },
    {
      "cell_type": "markdown",
      "source": [
        "##Problem Analysis"
      ],
      "metadata": {
        "id": "XEHULz4CtAHW"
      }
    },
    {
      "cell_type": "markdown",
      "source": [
        "---\n",
        "###Program Scenario"
      ],
      "metadata": {
        "id": "uBOF3_cBtBNy"
      }
    },
    {
      "cell_type": "markdown",
      "source": [
        "---\n",
        "### Program Requirements\n",
        "1.\n",
        "\n",
        "---"
      ],
      "metadata": {
        "id": "QZzSfqXFs6uW"
      }
    },
    {
      "cell_type": "markdown",
      "source": [
        "### Problem Statement\n",
        "\n",
        "\n",
        "---"
      ],
      "metadata": {
        "id": "MqsBRswPtKEx"
      }
    },
    {
      "cell_type": "markdown",
      "source": [
        "### Entities\n",
        "1.\n",
        "---"
      ],
      "metadata": {
        "id": "E9XeK868tObj"
      }
    },
    {
      "cell_type": "markdown",
      "source": [
        "### Relationships\n",
        "\n",
        "---"
      ],
      "metadata": {
        "id": "yQmuJdLgtSzg"
      }
    },
    {
      "cell_type": "markdown",
      "source": [
        "###How to Run the Program\n",
        "Prerequisites\n",
        "1. a\n",
        "\n",
        "Setup\n",
        "1. b\n",
        "\n",
        "Execution\n",
        "1. c\n",
        "---"
      ],
      "metadata": {
        "id": "9Eo7b1m5tXzs"
      }
    },
    {
      "cell_type": "markdown",
      "source": [
        "# Programming Design & Solution"
      ],
      "metadata": {
        "id": "3gPXie7std0a"
      }
    },
    {
      "cell_type": "markdown",
      "source": [
        "##UML Diagram and relationship"
      ],
      "metadata": {
        "id": "b1un7unbtmVu"
      }
    },
    {
      "cell_type": "markdown",
      "source": [
        "Please review the UML Diagram for ___ uploaded to [Google Drive](link).\n",
        "\n",
        "\n",
        "It is highly recommended to download the SVG file for clearer visibility of its contents. Download it [here](link)."
      ],
      "metadata": {
        "id": "oZCHfEATtsgp"
      }
    },
    {
      "cell_type": "markdown",
      "source": [
        "---\n",
        "# Input Files"
      ],
      "metadata": {
        "id": "vffOjmE5t71S"
      }
    },
    {
      "cell_type": "markdown",
      "source": [
        "credentials.txt is ordered as studentEmail << password"
      ],
      "metadata": {
        "id": "8_VeWgcCEIvS"
      }
    },
    {
      "cell_type": "code",
      "source": [
        "%%writefile credentials.txt\n",
        "alice@student.usm.my,Alice2025\n",
        "bob@student.usm.my,Bob2025\n",
        "charlie@student.usm.my,Charlie2025\n",
        "dana@student.usm.my,Dana2025\n",
        "ethan@student.usm.my,Ethan2025\n",
        "farah@student.usm.my,Farah2025\n",
        "grace@student.usm.my,Grace2025\n",
        "henry@student.usm.my,Henry2025\n",
        "ivy@student.usm.my,Ivy2025\n",
        "jack@student.usm.my,Jack2025"
      ],
      "metadata": {
        "id": "LfbaBg0aEQhl",
        "colab": {
          "base_uri": "https://localhost:8080/"
        },
        "outputId": "c959e39b-83bc-49d3-9690-cf3f6d47880e"
      },
      "execution_count": 115,
      "outputs": [
        {
          "output_type": "stream",
          "name": "stdout",
          "text": [
            "Overwriting credentials.txt\n"
          ]
        }
      ]
    },
    {
      "cell_type": "markdown",
      "source": [
        "profiles.txt is ordered as matricNo << fullName << studentEmail << courseName"
      ],
      "metadata": {
        "id": "M5R_PqUUXtEP"
      }
    },
    {
      "cell_type": "code",
      "execution_count": 116,
      "metadata": {
        "id": "O6eYyhzSlFTm",
        "colab": {
          "base_uri": "https://localhost:8080/"
        },
        "outputId": "565cf486-1253-4391-e6b4-bc88d15d4716"
      },
      "outputs": [
        {
          "output_type": "stream",
          "name": "stdout",
          "text": [
            "Overwriting profiles.txt\n"
          ]
        }
      ],
      "source": [
        "%%writefile profiles.txt\n",
        "23301001,Alice Johnson,alice@student.usm.my,Software Engineering\n",
        "23302002,Bob Smith,bob@student.usm.my,Intelligent Computing\n",
        "23303003,Charlie Lee,charlie@student.usm.my,Computing Infrastructure\n",
        "23304004,Dana White,dana@student.usm.my,Software Engineering\n",
        "23305005,Ethan Tan,ethan@student.usm.my,Intelligent Computing\n",
        "23306006,Farah Lim,farah@student.usm.my,Computing Infrastructure\n",
        "23307007,Grace Wong,grace@student.usm.my,Software Engineering\n",
        "23308008,Henry Goh,henry@student.usm.my,Intelligent Computing\n",
        "23309009,Ivy Ng,ivy@student.usm.my,Computing Infrastructure\n",
        "23310010,Jack Lee,jack@student.usm.my,Software Engineering"
      ]
    },
    {
      "cell_type": "markdown",
      "source": [
        "friends.txt is ordered as matricNo_1 << matricNo_2\n"
      ],
      "metadata": {
        "id": "X5lQEEujDuW-"
      }
    },
    {
      "cell_type": "code",
      "source": [
        "%%writefile friends.txt\n",
        "23301001, 23302002\n",
        "23301001, 23302003\n",
        "23303003, 23304004\n",
        "23305005, 23306006\n",
        "23307007, 23308008\n",
        "23309009, 23310010"
      ],
      "metadata": {
        "id": "-mAQeCmDEyLm",
        "colab": {
          "base_uri": "https://localhost:8080/"
        },
        "outputId": "86a82a55-feea-4e63-a2c7-dd841e6f914e"
      },
      "execution_count": 117,
      "outputs": [
        {
          "output_type": "stream",
          "name": "stdout",
          "text": [
            "Overwriting friends.txt\n"
          ]
        }
      ]
    },
    {
      "cell_type": "markdown",
      "source": [
        "messages_matricNo.txt is formatted as:\n",
        "\n",
        "From : MatricNo_1\n",
        "\n",
        "message"
      ],
      "metadata": {
        "id": "GwNdVG6HFq3h"
      }
    },
    {
      "cell_type": "code",
      "source": [
        "%%writefile messages_23301001.txt\n",
        "From: 23302002\n",
        "Hey! Are you joining the Software Eng. workshop?\n",
        "\n",
        "From: 23303003\n",
        "Let's go to the park"
      ],
      "metadata": {
        "id": "BVEQsXa7Gxqj",
        "colab": {
          "base_uri": "https://localhost:8080/"
        },
        "outputId": "83d0f06e-2750-4b22-9465-9c906dd6df3e"
      },
      "execution_count": 118,
      "outputs": [
        {
          "output_type": "stream",
          "name": "stdout",
          "text": [
            "Overwriting messages_23301001.txt\n"
          ]
        }
      ]
    },
    {
      "cell_type": "code",
      "source": [
        "%%writefile messages_23302002.txt\n",
        "From: 23301001\n",
        "Can you share the Intelligent Computing slides?"
      ],
      "metadata": {
        "id": "kXubsEwFG08k",
        "colab": {
          "base_uri": "https://localhost:8080/"
        },
        "outputId": "7c7466b8-673f-4237-bac6-6927550808f8"
      },
      "execution_count": 119,
      "outputs": [
        {
          "output_type": "stream",
          "name": "stdout",
          "text": [
            "Overwriting messages_23302002.txt\n"
          ]
        }
      ]
    },
    {
      "cell_type": "code",
      "source": [
        "%%writefile messages_23303003.txt\n",
        "From: 23304004\n",
        "Great job today in Infra Lab!\n",
        "\n",
        "From: 23301001\n",
        "Sure!"
      ],
      "metadata": {
        "id": "-mu90SeDG5TH",
        "colab": {
          "base_uri": "https://localhost:8080/"
        },
        "outputId": "6b446d2f-c074-4943-b25b-fd0df7a97503"
      },
      "execution_count": 120,
      "outputs": [
        {
          "output_type": "stream",
          "name": "stdout",
          "text": [
            "Overwriting messages_23303003.txt\n"
          ]
        }
      ]
    },
    {
      "cell_type": "code",
      "source": [
        "%%writefile messages_23304004.txt\n",
        "From: 23303003\n",
        "Nice presentation today!"
      ],
      "metadata": {
        "id": "3_1qoN6-G9ec",
        "colab": {
          "base_uri": "https://localhost:8080/"
        },
        "outputId": "b70392ff-96c9-4c2c-8f38-77695fa10c2a"
      },
      "execution_count": 121,
      "outputs": [
        {
          "output_type": "stream",
          "name": "stdout",
          "text": [
            "Overwriting messages_23304004.txt\n"
          ]
        }
      ]
    },
    {
      "cell_type": "code",
      "source": [
        "%%writefile messages_23305005.txt\n",
        "From: 23306006\n",
        "Sent the lab report draft."
      ],
      "metadata": {
        "id": "0fKSa7U9G-ri",
        "colab": {
          "base_uri": "https://localhost:8080/"
        },
        "outputId": "e77a63b2-b55d-4cf5-bc89-c566801ba4ca"
      },
      "execution_count": 122,
      "outputs": [
        {
          "output_type": "stream",
          "name": "stdout",
          "text": [
            "Overwriting messages_23305005.txt\n"
          ]
        }
      ]
    },
    {
      "cell_type": "code",
      "source": [
        "%%writefile messages_23306006.txt\n",
        "From: 23305005\n",
        "Team meeting at 5?"
      ],
      "metadata": {
        "id": "7ReCZrIhHDBv",
        "colab": {
          "base_uri": "https://localhost:8080/"
        },
        "outputId": "3a35543a-b0c3-437a-f074-a0735d0c9d0b"
      },
      "execution_count": 123,
      "outputs": [
        {
          "output_type": "stream",
          "name": "stdout",
          "text": [
            "Overwriting messages_23306006.txt\n"
          ]
        }
      ]
    },
    {
      "cell_type": "code",
      "source": [
        "%%writefile messages_23307007.txt\n",
        "From: 23308008\n",
        "Let's finish our Software Eng. task."
      ],
      "metadata": {
        "id": "mKhDnDuGHFTi",
        "colab": {
          "base_uri": "https://localhost:8080/"
        },
        "outputId": "e9bf0cd3-4e54-4674-d8df-1a6cfc1c45a2"
      },
      "execution_count": 124,
      "outputs": [
        {
          "output_type": "stream",
          "name": "stdout",
          "text": [
            "Overwriting messages_23307007.txt\n"
          ]
        }
      ]
    },
    {
      "cell_type": "code",
      "source": [
        "%%writefile messages_23308008.txt\n",
        "From: 23307007\n",
        "Good input in today's discussion!"
      ],
      "metadata": {
        "id": "HQQ9IOW3HIIe",
        "colab": {
          "base_uri": "https://localhost:8080/"
        },
        "outputId": "e49fcef3-6b58-402a-c60c-1b629181485b"
      },
      "execution_count": 125,
      "outputs": [
        {
          "output_type": "stream",
          "name": "stdout",
          "text": [
            "Overwriting messages_23308008.txt\n"
          ]
        }
      ]
    },
    {
      "cell_type": "code",
      "source": [
        "%%writefile messages_23309009.txt\n",
        "From: 23310010\n",
        "Review notes ready!"
      ],
      "metadata": {
        "id": "U02ibXtrHKWD",
        "colab": {
          "base_uri": "https://localhost:8080/"
        },
        "outputId": "61b84712-a93d-4bb8-ad60-96dcb2d9bcc8"
      },
      "execution_count": 126,
      "outputs": [
        {
          "output_type": "stream",
          "name": "stdout",
          "text": [
            "Overwriting messages_23309009.txt\n"
          ]
        }
      ]
    },
    {
      "cell_type": "code",
      "source": [
        "%%writefile messages_23310010.txt\n",
        "From: 23309009\n",
        "Mock test tonight?"
      ],
      "metadata": {
        "id": "GFPnBEscHMEj",
        "colab": {
          "base_uri": "https://localhost:8080/"
        },
        "outputId": "6aef5374-4819-477b-b852-2b4098b35d90"
      },
      "execution_count": 127,
      "outputs": [
        {
          "output_type": "stream",
          "name": "stdout",
          "text": [
            "Overwriting messages_23310010.txt\n"
          ]
        }
      ]
    },
    {
      "cell_type": "markdown",
      "source": [
        "groups.txt is formatted as matricNo << course\n"
      ],
      "metadata": {
        "id": "Jjdu2JapPiPF"
      }
    },
    {
      "cell_type": "code",
      "source": [
        "%%writefile group.txt\n",
        "23301001, SE\n",
        "23304004, SE\n",
        "23307007, SE\n",
        "23310010, SE\n",
        "23303003, CI\n",
        "23306006, CI\n",
        "23309009, CI\n",
        "23302002, IC\n",
        "23305005, IC\n",
        "23308008, IC"
      ],
      "metadata": {
        "id": "cCb4pU3CPp9S",
        "colab": {
          "base_uri": "https://localhost:8080/"
        },
        "outputId": "9b75f034-f025-4fe5-9b92-fcedfeb75212"
      },
      "execution_count": 128,
      "outputs": [
        {
          "output_type": "stream",
          "name": "stdout",
          "text": [
            "Overwriting group.txt\n"
          ]
        }
      ]
    },
    {
      "cell_type": "markdown",
      "source": [
        "group_chat_course.txt is formatted as:\n",
        "\n",
        "matricNo: message\n"
      ],
      "metadata": {
        "id": "05jMYBlONvy4"
      }
    },
    {
      "cell_type": "code",
      "source": [
        "%%writefile group_chat_SE.txt\n",
        "23301001: Anyone started the use-case diagram for our SE assignment?\n",
        "23304004: I'm working on it now. Will share a draft tonight.\n",
        "23307007: I've listed the system actors in a doc — check Teams.\n",
        "23310010: Thanks! I'll start writing the user stories next."
      ],
      "metadata": {
        "id": "owUbcTYDOjAF",
        "colab": {
          "base_uri": "https://localhost:8080/"
        },
        "outputId": "ddb257a9-137c-4a87-c98d-14c3ea9f7322"
      },
      "execution_count": 129,
      "outputs": [
        {
          "output_type": "stream",
          "name": "stdout",
          "text": [
            "Overwriting group_chat_SE.txt\n"
          ]
        }
      ]
    },
    {
      "cell_type": "code",
      "source": [
        "%%writefile group_chat_CI.txt\n",
        "23303003: Lab 3 setup isn't working on my VM. Anyone else?\n",
        "23306006: Same issue here, it's a permissions thing.\n",
        "23309009: Fixed mine by changing the script path. Want me to share?\n",
        "23303003: Yes please! Drop it here."
      ],
      "metadata": {
        "id": "RPPPdIaCOmNZ",
        "colab": {
          "base_uri": "https://localhost:8080/"
        },
        "outputId": "3d57c296-4e73-4b56-f0c5-7b8f2e28ef72"
      },
      "execution_count": 130,
      "outputs": [
        {
          "output_type": "stream",
          "name": "stdout",
          "text": [
            "Overwriting group_chat_CI.txt\n"
          ]
        }
      ]
    },
    {
      "cell_type": "code",
      "source": [
        "%%writefile group_chat_IC.txt\n",
        "23302002: Reminder: AI presentation is tomorrow!\n",
        "23305005: Let's meet at 2PM to rehearse.\n",
        "23308008: I've updated the slides with the latest confusion matrix.\n",
        "23302002: Nice! Let's aim for 10 minutes max per person."
      ],
      "metadata": {
        "id": "eG0GgxjLOriE",
        "colab": {
          "base_uri": "https://localhost:8080/"
        },
        "outputId": "e78e8dbf-1108-424b-d81f-a22a0e038da1"
      },
      "execution_count": 131,
      "outputs": [
        {
          "output_type": "stream",
          "name": "stdout",
          "text": [
            "Overwriting group_chat_IC.txt\n"
          ]
        }
      ]
    },
    {
      "cell_type": "markdown",
      "source": [
        "actions.txt is formatted as action_type : data"
      ],
      "metadata": {
        "id": "qojPcRurQNpJ"
      }
    },
    {
      "cell_type": "code",
      "source": [
        "%%writefile actions.txt\n",
        "CREATE_PROFILE:CS1001\n",
        "ADD_FRIEND:CS1001,CS1002\n",
        "SEND_MESSAGE:CS1001,CS1002,\"Hey, how’s the project?\"\n",
        "CREATE_PROFILE:CS1003\n",
        "ADD_FRIEND:CS1003,CS1002\n",
        "SEND_MESSAGE:CS1003,CS1002,\"Want to study together?\""
      ],
      "metadata": {
        "id": "95RJaHwnQWR2",
        "colab": {
          "base_uri": "https://localhost:8080/"
        },
        "outputId": "5c091749-daee-47f1-affa-d3db9cf6a509"
      },
      "execution_count": 132,
      "outputs": [
        {
          "output_type": "stream",
          "name": "stdout",
          "text": [
            "Overwriting actions.txt\n"
          ]
        }
      ]
    },
    {
      "cell_type": "markdown",
      "source": [
        "# C++ Code"
      ],
      "metadata": {
        "id": "vEbyaJbz3xtm"
      }
    },
    {
      "cell_type": "markdown",
      "source": [
        "# User - Base Class"
      ],
      "metadata": {
        "id": "dgThjbyN5o2r"
      }
    },
    {
      "cell_type": "code",
      "source": [
        "%%writefile User.h\n",
        "\n",
        "#ifndef USER_H\n",
        "#define USER_H\n",
        "\n",
        "#include <iostream>\n",
        "using namespace std;\n",
        "\n",
        "class User{\n",
        "  private:\n",
        "    string password_; // User account password\n",
        "\n",
        "  protected: // protected variable for Student child class to access directly\n",
        "    string email_;    // User account email\n",
        "\n",
        "  public:\n",
        "    //Constructor\n",
        "    User();\n",
        "    User(string email, string password);\n",
        "\n",
        "    //Accessor\n",
        "    string getEmail();\n",
        "    string getPassword();\n",
        "\n",
        "    //Mutator\n",
        "    void setEmail(string email);\n",
        "    void setPassword(string password);\n",
        "};\n",
        "\n",
        "#endif"
      ],
      "metadata": {
        "id": "OvAvynK85uvy",
        "colab": {
          "base_uri": "https://localhost:8080/"
        },
        "outputId": "fdd1cedf-7b07-447f-c39c-c71baf13fc08"
      },
      "execution_count": 133,
      "outputs": [
        {
          "output_type": "stream",
          "name": "stdout",
          "text": [
            "Overwriting User.h\n"
          ]
        }
      ]
    },
    {
      "cell_type": "code",
      "source": [
        "%%writefile User.cpp\n",
        "\n",
        "#include \"User.h\" // Include the User class header file\n",
        "\n",
        "User::User(){\n",
        "  email_ = \"\";\n",
        "  password_ = \"\";\n",
        "}\n",
        "User::User(string email, string password){\n",
        "  email_ = email;\n",
        "  password_ = password;\n",
        "}\n",
        "void User::setEmail(string email){email_ = email;}\n",
        "void User::setPassword(string password){password_ = password;}\n",
        "string User::getEmail(){return email_;}\n",
        "string User::getPassword(){return password_;}"
      ],
      "metadata": {
        "id": "Pux2lgWs3xo-",
        "colab": {
          "base_uri": "https://localhost:8080/"
        },
        "outputId": "52aed17d-78ac-47f6-ac03-6313b70180d7"
      },
      "execution_count": 134,
      "outputs": [
        {
          "output_type": "stream",
          "name": "stdout",
          "text": [
            "Overwriting User.cpp\n"
          ]
        }
      ]
    },
    {
      "cell_type": "markdown",
      "source": [
        "# Student class"
      ],
      "metadata": {
        "id": "fvjWvXsN5wkh"
      }
    },
    {
      "cell_type": "code",
      "source": [
        "%%writefile Student.h\n",
        "\n",
        "#ifndef STUDENT_H\n",
        "#define STUDENT_H\n",
        "\n",
        "#include \"User.h\" // Include the User class header file for inheritance\n",
        "\n",
        "class Student : public User{\n",
        "  private:\n",
        "    string matricNo_;      // Student Matric Number (e.g. 23300001)\n",
        "    string fullName_;   // Student Full Name (e.g. John Doe)\n",
        "    string courseName_; // Student Course Name (e.g. Software Engineering)\n",
        "\n",
        "  public:\n",
        "    //Constructor\n",
        "    Student();\n",
        "    Student(string, string, string, string);\n",
        "    Student(string, string, string, string, string);\n",
        "\n",
        "    //Accessor\n",
        "    string getMatricNo();\n",
        "    string getFullName();\n",
        "    string getCourseName();\n",
        "\n",
        "    //Mutator\n",
        "    void setMatricNo(string);\n",
        "    void setFullName(string);\n",
        "    void setCourseName(string);\n",
        "\n",
        "    void printInfo() const; // print student info\n",
        "};\n",
        "\n",
        "#endif"
      ],
      "metadata": {
        "id": "BUuXaBdd30Cn",
        "colab": {
          "base_uri": "https://localhost:8080/"
        },
        "outputId": "7728e8cf-15b2-471d-f748-65d11fdda998"
      },
      "execution_count": 160,
      "outputs": [
        {
          "output_type": "stream",
          "name": "stdout",
          "text": [
            "Overwriting Student.h\n"
          ]
        }
      ]
    },
    {
      "cell_type": "code",
      "source": [
        "%%writefile Student.cpp\n",
        "\n",
        "#include \"Student.h\"\n",
        "#include <iomanip>\n",
        "\n",
        "Student::Student(){\n",
        "  matricNo_ = \"\";\n",
        "  fullName_ = \"\";\n",
        "  courseName_ = \"\";\n",
        "}\n",
        "Student::Student(string matricNo, string fullName, string email, string courseName){\n",
        "  matricNo_ = matricNo;\n",
        "  fullName_ = fullName;\n",
        "  email_ = email;\n",
        "  courseName_ = courseName;\n",
        "}\n",
        "Student::Student(string matricNo, string fullName, string email, string pw, string courseName){\n",
        "  matricNo_ = matricNo;\n",
        "  fullName_ = fullName;\n",
        "  email_ = email;\n",
        "  this->setPassword(pw);\n",
        "  courseName_ = courseName;\n",
        "}\n",
        "void Student::setMatricNo(string matricNo){matricNo_ = matricNo;}\n",
        "void Student::setFullName(string fullName){fullName_ = fullName;}\n",
        "void Student::setCourseName(string courseName){courseName = courseName_;}\n",
        "string Student::getMatricNo(){return matricNo_;}\n",
        "string Student::getFullName(){return fullName_;}\n",
        "string Student::getCourseName(){return courseName_;}\n",
        "\n",
        "void Student::printInfo() const{\n",
        "  cout << \"| \" << setw(12) << matricNo_\n",
        "       << setw(20) << fullName_\n",
        "       << setw(24) << email_\n",
        "       << setw(25) << courseName_ << \"|\" << endl;\n",
        "}"
      ],
      "metadata": {
        "id": "Shy90Qw535Wl",
        "colab": {
          "base_uri": "https://localhost:8080/"
        },
        "outputId": "92d6ea3b-7d49-4a7d-e1de-a0dcbda58ff4"
      },
      "execution_count": 157,
      "outputs": [
        {
          "output_type": "stream",
          "name": "stdout",
          "text": [
            "Overwriting Student.cpp\n"
          ]
        }
      ]
    },
    {
      "cell_type": "markdown",
      "source": [
        "# Menu class - CLI Menu Handler"
      ],
      "metadata": {
        "id": "mgLeboZQ572E"
      }
    },
    {
      "cell_type": "code",
      "source": [
        "%%writefile Menu.h\n",
        "\n",
        "#include <iostream>\n",
        "using namespace std;\n",
        "\n",
        "class Menu{\n",
        "  public:\n",
        "    void displayLoginMenu();\n",
        "    void displayMainMenu();\n",
        "    void displayStudentMenu();\n",
        "    void displayFriendMenu();\n",
        "};"
      ],
      "metadata": {
        "id": "J2VNH5bt37ZP",
        "colab": {
          "base_uri": "https://localhost:8080/"
        },
        "outputId": "01e4d13c-5cc8-4b03-b05d-54554eb799a6"
      },
      "execution_count": 137,
      "outputs": [
        {
          "output_type": "stream",
          "name": "stdout",
          "text": [
            "Overwriting Menu.h\n"
          ]
        }
      ]
    },
    {
      "cell_type": "code",
      "source": [
        "%%writefile Menu.cpp\n",
        "\n",
        "#include \"Menu.h\"\n",
        "\n",
        "void Menu::displayLoginMenu(){\n",
        "  cout << \"+--------------------------------------------+\" << endl;\n",
        "  cout << \"|     Student Networking CLI Application     |\" << endl;\n",
        "  cout << \"+--------------------------------------------+\" << endl;\n",
        "  cout << \"| [1] Login                                  |\" << endl;\n",
        "  cout << \"| [2] Register                               |\" << endl;\n",
        "  cout << \"| [3] Exit                                   |\" << endl;\n",
        "  cout << \"+--------------------------------------------+\" << endl;\n",
        "}\n",
        "\n",
        "void Menu::displayMainMenu(){\n",
        "  cout << \"+---------------------------------------+\" << endl;\n",
        "  cout << \"|               Main Page               |\" << endl;\n",
        "  cout << \"+---------------------------------------+\" << endl;\n",
        "  cout << \"| [1] View Student Profiles             |\" << endl;\n",
        "  cout << \"| [2] View Friend List                  |\" << endl;\n",
        "  cout << \"| [3] Send Message                      |\" << endl; //can include into [2] and remove this option\n",
        "  cout << \"| [4] View Messages                     |\" << endl; //can include into [2] and remove this option\n",
        "  cout << \"| [5] Create Group                      |\" << endl;\n",
        "  cout << \"| [6] View Group Messages               |\" << endl;\n",
        "  cout << \"| [7] Logout                            |\" << endl;\n",
        "  cout << \"+---------------------------------------+\" << endl;\n",
        "}\n",
        "\n",
        "// This menu will be printed after printing the student list with ascending order of matric number\n",
        "void Menu::displayStudentMenu(){\n",
        "  cout << \"+---------------------------------------+\" << endl;\n",
        "  cout << \"|              Student Page             |\" << endl;\n",
        "  cout << \"+---------------------------------------+\" << endl;\n",
        "  cout << \"| [1] Sort by Matric Number             |\" << endl;\n",
        "  cout << \"| [2] Sort by Name                      |\" << endl;\n",
        "  cout << \"| [3] Sort by Course                    |\" << endl;\n",
        "  cout << \"| [4] Print Ascending                   |\" << endl;\n",
        "  cout << \"| [5] Print Descending                  |\" << endl;\n",
        "  cout << \"| [6] Back                              |\" << endl;\n",
        "  cout << \"+---------------------------------------+\" << endl;\n",
        "}\n",
        "\n",
        "// This menu will be printed after the friend list\n",
        "void Menu::displayFriendMenu(){\n",
        "  cout << \"+------------------------------------+\" << endl;\n",
        "  cout << \"|              Settings              |\" << endl;\n",
        "  cout << \"+------------------------------------+\" << endl;\n",
        "  cout << \"| [1] Add Friend                     |\" << endl;\n",
        "  cout << \"| [2] Remove Friend                  |\" << endl;\n",
        "  cout << \"| [3] Back                           |\" << endl;\n",
        "  cout << \"+------------------------------------+\" << endl;\n",
        "}"
      ],
      "metadata": {
        "id": "UAoXKe0s4ANO",
        "colab": {
          "base_uri": "https://localhost:8080/"
        },
        "outputId": "f1145dcf-d3bc-4910-ed54-cd1ac63045f8"
      },
      "execution_count": 138,
      "outputs": [
        {
          "output_type": "stream",
          "name": "stdout",
          "text": [
            "Overwriting Menu.cpp\n"
          ]
        }
      ]
    },
    {
      "cell_type": "markdown",
      "source": [
        "# File_Manager class - File I/O Helper"
      ],
      "metadata": {
        "id": "zaqh0eCl6L3v"
      }
    },
    {
      "cell_type": "code",
      "source": [
        "%%writefile File_manager.h\n",
        "\n",
        "#ifndef FILE_MANAGER_H\n",
        "#define FILE_MANAGER_H\n",
        "\n",
        "#include \"Student.h\"\n",
        "#include \"Student_manager.h\"\n",
        "\n",
        "#include <fstream>\n",
        "\n",
        "class File_manager{\n",
        "  public:\n",
        "    void readProfileAndCredentials(const string&, const string&, Student_manager&); // read student profile and credentials from multiple file\n",
        "    //void readGroups(const string&, Student_manager&);      // read groups from file\n",
        "};\n",
        "\n",
        "#endif"
      ],
      "metadata": {
        "id": "ehbPksDl4Cm3",
        "colab": {
          "base_uri": "https://localhost:8080/"
        },
        "outputId": "d5159e92-2b7a-44dc-f06d-02aaeca02eb3"
      },
      "execution_count": 139,
      "outputs": [
        {
          "output_type": "stream",
          "name": "stdout",
          "text": [
            "Overwriting File_manager.h\n"
          ]
        }
      ]
    },
    {
      "cell_type": "code",
      "source": [
        "%%writefile File_manager.cpp\n",
        "\n",
        "#include \"File_manager.h\"\n",
        "\n",
        "void File_manager::readProfileAndCredentials(const string& filename1, const string& filename2, Student_manager& sm){\n",
        "  try {\n",
        "    ifstream studfile(filename1);\n",
        "    if (!studfile.is_open()) {\n",
        "      string exceptionString = \"Failed to open profiles file.\";\n",
        "      throw exceptionString;\n",
        "    }\n",
        "    // variables for reading file data\n",
        "    string matricNo, name, email, course, password;\n",
        "\n",
        "    while (getline(studfile, matricNo, ',') && getline(studfile, name, ',') &&\n",
        "            getline(studfile, email, ',') && getline(studfile, course)) {\n",
        "\n",
        "      Student* newStudent = new Student(matricNo, name, email, course); // create new Student object\n",
        "      sm.sortedInsert(newStudent);  // store Student data into the linked-list\n",
        "    }\n",
        "    studfile.close(); //close file\n",
        "\n",
        "    ifstream credfile(filename2);\n",
        "    if (!credfile.is_open()) {\n",
        "      string exceptionString = \"Failed to open credentials file.\";\n",
        "      throw exceptionString;\n",
        "    }\n",
        "\n",
        "    while (getline(credfile, email, ',') && getline(credfile, password)) {\n",
        "      Node* stud = sm.searchData(EMAIL, email); // search for the Student in the student list with the email\n",
        "      if (stud != nullptr) { // if Student is found\n",
        "        stud->data->setPassword(password); // store password into the Student node\n",
        "      } else{\n",
        "        cout << \"Student not found for email: \" << email << endl;\n",
        "      }\n",
        "    }\n",
        "    credfile.close();\n",
        "  }\n",
        "  catch (string errMsg) {\n",
        "      cout << \"FileManager Error: \" << errMsg << endl;\n",
        "  }\n",
        "  catch (...) {\n",
        "      cout << \"FileManager Error: Unknown exception occurred during file loading.\" << endl;\n",
        "  }\n",
        "}"
      ],
      "metadata": {
        "id": "99E-9eLU41LS",
        "colab": {
          "base_uri": "https://localhost:8080/"
        },
        "outputId": "d912ec73-85ca-41d3-bc6c-05bbefbfe9b0"
      },
      "execution_count": 140,
      "outputs": [
        {
          "output_type": "stream",
          "name": "stdout",
          "text": [
            "Overwriting File_manager.cpp\n"
          ]
        }
      ]
    },
    {
      "cell_type": "markdown",
      "source": [
        "# Student_Manager class - Main Logic (doubly linked list)"
      ],
      "metadata": {
        "id": "xm1lhi0-6aEs"
      }
    },
    {
      "cell_type": "code",
      "source": [
        "%%writefile Student_manager.h\n",
        "\n",
        "#ifndef STUDENT_MANAGER_H\n",
        "#define STUDENT_MANAGER_H\n",
        "\n",
        "#include \"Student.h\"\n",
        "\n",
        "#include <iostream>\n",
        "using namespace std;\n",
        "\n",
        "enum Key { MATRIC, NAME, EMAIL, COURSE }; // enum for key, for system operations\n",
        "struct Node{\n",
        "  Student* data;\n",
        "  Node* next;\n",
        "  Node* prev;\n",
        "};\n",
        "\n",
        "class Student_manager{\n",
        "  private:\n",
        "    Node* head;\n",
        "\n",
        "  public:\n",
        "    Student_manager();        //Constructor\n",
        "    ~Student_manager();       //Destructor\n",
        "    Node* getHead();          //Accessor\n",
        "\n",
        "    Node* searchData(Key key, const string value); //search Student data according to key and the search value\n",
        "    void sortedInsert(Student*&);         //insert new node in list orderly by matric number\n",
        "    void sortList(Key);         //sort list according to key\n",
        "    void printAscList();            //print list\n",
        "    void printDescList();           //print list in reverse order\n",
        "    void printHeader();\n",
        "    void printLine();\n",
        "};\n",
        "\n",
        "#endif"
      ],
      "metadata": {
        "id": "fwMht2bg464y",
        "colab": {
          "base_uri": "https://localhost:8080/"
        },
        "outputId": "a7903927-b559-4761-c197-5d1f4802b8da"
      },
      "execution_count": 141,
      "outputs": [
        {
          "output_type": "stream",
          "name": "stdout",
          "text": [
            "Overwriting Student_manager.h\n"
          ]
        }
      ]
    },
    {
      "cell_type": "code",
      "source": [
        "%%writefile Student_manager.cpp\n",
        "\n",
        "#include \"Student_manager.h\"\n",
        "#include <iomanip>\n",
        "\n",
        "Student_manager::Student_manager(){head = nullptr;}\n",
        "Student_manager::~Student_manager(){\n",
        "  Node* current = head;\n",
        "  while (current != nullptr) {\n",
        "      Node* temp = current;\n",
        "      current = current->next;\n",
        "      delete temp;\n",
        "  }\n",
        "  head = nullptr;\n",
        "}\n",
        "\n",
        "Node* Student_manager::getHead(){return head;}\n",
        "\n",
        "// Search through the linked-list of Student data\n",
        "// @returns a Node* value (the whole node storing the found student data, else nullptr)\n",
        "// use of template class for code reusability so that can search in different datatypes\n",
        "// - key: a key passed by the system to indicate different operations\n",
        "//        (e.g. operation on NAME, will search through loop with name variable)\n",
        "// - value: the value to search\n",
        "Node* Student_manager::searchData(Key key, const string value) {\n",
        "  if (head == nullptr) return nullptr;\n",
        "\n",
        "  Node* current = head;\n",
        "  while (current != nullptr) {\n",
        "    switch (key) {\n",
        "      case NAME:\n",
        "        if (current->data->getFullName() == value)\n",
        "            return current;\n",
        "        break;\n",
        "      case EMAIL:\n",
        "        if (current->data->getEmail() == value)\n",
        "            return current;\n",
        "        break;\n",
        "      case MATRIC:\n",
        "        if (current->data->getMatricNo() == value)\n",
        "            return current;\n",
        "        break;\n",
        "      case COURSE:\n",
        "        cout << \"Course not supported for searching\" << endl;\n",
        "        return nullptr;\n",
        "      default:\n",
        "        cout << \"Invalid search key: \" << key << endl;\n",
        "        return nullptr;\n",
        "    }\n",
        "    current = current->next;\n",
        "  }\n",
        "  return nullptr;\n",
        "}\n",
        "\n",
        "// Insert a new node to the linked-list orderly by Student matric number\n",
        "// - stud: Student object variable passed\n",
        "void Student_manager::sortedInsert(Student*& stud) {\n",
        "  Node* newNode = new Node;\n",
        "  newNode->data = stud;\n",
        "  newNode->next = nullptr;\n",
        "  newNode->prev = nullptr;\n",
        "\n",
        "  // Case 1: Empty list\n",
        "  if (head == nullptr) {\n",
        "    head = newNode;\n",
        "    return;\n",
        "  }\n",
        "  // Case 2: Insert at head (if new value is smaller than current head)\n",
        "  if (stud->getMatricNo() < head->data->getMatricNo()) {\n",
        "    newNode->next = head;\n",
        "    head->prev = newNode;\n",
        "    head = newNode;\n",
        "    return;\n",
        "  }\n",
        "  // Case 3: Traverse to find correct position to insert\n",
        "  Node* current = head;\n",
        "  while (current->next != nullptr && current->next->data->getMatricNo() < stud->getMatricNo()) {\n",
        "    current = current->next;\n",
        "  }\n",
        "  // Insert after current\n",
        "  newNode->next = current->next;\n",
        "  newNode->prev = current;\n",
        "  if (current->next != nullptr) {\n",
        "    current->next->prev = newNode;\n",
        "  }\n",
        "  current->next = newNode;\n",
        "}\n",
        "\n",
        "// Sorts the list into ascending order of the user choice\n",
        "// User can choose to sort according name, matric number or course\n",
        "// - key: a key passed by the system to indicate different operations\n",
        "//        (e.g. operation on NAME, will sorts list according to name variable)\n",
        "void Student_manager::sortList(Key key) {\n",
        "  if (head == nullptr || head->next == nullptr) return; // if linked-list is empty, end the operation\n",
        "\n",
        "  bool swapped;\n",
        "\n",
        "  do {\n",
        "    swapped = false;\n",
        "    Node* current = head;\n",
        "\n",
        "    while (current->next != nullptr) {\n",
        "      bool shouldSwap = false;\n",
        "\n",
        "      // declares sort according which variable\n",
        "      switch(key) {\n",
        "        case MATRIC: // Sorting by Student matric number\n",
        "          shouldSwap = current->data->getMatricNo() > current->next->data->getMatricNo();\n",
        "          break;\n",
        "        case NAME:  // Sorting by Student fullname\n",
        "          shouldSwap = current->data->getFullName() > current->next->data->getFullName();\n",
        "          break;\n",
        "        case EMAIL: // Sorting by Student email\n",
        "          shouldSwap = current->data->getMatricNo() > current->next->data->getMatricNo();\n",
        "          break;\n",
        "        case COURSE: // Sorting by Student course\n",
        "          shouldSwap = current->data->getCourseName() > current->next->data->getCourseName();\n",
        "          break;\n",
        "        default:\n",
        "          cout << \"Invalid sort key: \" << key << endl;\n",
        "          return;\n",
        "      }\n",
        "\n",
        "      // perform swapping\n",
        "      if (shouldSwap) {\n",
        "        Student* temp = current->data;\n",
        "        current->data = current->next->data;\n",
        "        current->next->data = temp;\n",
        "        swapped = true;\n",
        "      }\n",
        "\n",
        "      current = current->next;\n",
        "    }\n",
        "  } while (swapped);\n",
        "}\n",
        "\n",
        "// Print the list from head to tail (ascending order)\n",
        "void Student_manager::printAscList() {\n",
        "  if (head == nullptr) {\n",
        "    cout << \"List is empty.\" << endl;\n",
        "    return;\n",
        "  }\n",
        "\n",
        "  Node* current = head;\n",
        "  // Print formated list\n",
        "  // Print Header\n",
        "  printHeader();\n",
        "  // Print List Data\n",
        "  while (current != nullptr) {\n",
        "    current->data->printInfo(); // Student class method\n",
        "    current = current->next;\n",
        "  }\n",
        "  // Print Footer\n",
        "  printLine();\n",
        "}\n",
        "\n",
        "// Print the list from tail to head (descending order)\n",
        "void Student_manager::printDescList() {\n",
        "  if (head == nullptr) {\n",
        "    cout << \"List is empty.\" << endl;\n",
        "    return;\n",
        "  }\n",
        "\n",
        "  // Go to the last node\n",
        "  Node* current = head;\n",
        "  while (current->next != nullptr) {\n",
        "    current = current->next;\n",
        "  }\n",
        "\n",
        "  // Print formated list\n",
        "  // Print Header\n",
        "  printHeader();\n",
        "  // Traverse backwards using prev\n",
        "  while (current != nullptr) {\n",
        "    current->data->printInfo(); // assuming Student class has this method\n",
        "    current = current->prev;\n",
        "  }\n",
        "  // Print Footer\n",
        "  printLine();\n",
        "}\n",
        "\n",
        "void Student_manager::printHeader(){\n",
        "  cout << left << fixed;\n",
        "  printLine();\n",
        "  cout << setw(35) << \"|\" << setw(48) << \"Student List\" << \"|\" << endl;\n",
        "  printLine();\n",
        "  // Print Column Names\n",
        "  cout << \"| \" << setw(12) << \"MATRIC\"\n",
        "        << setw(20) << \"FULL NAME\"\n",
        "        << setw(24) << \"EMAIL\"\n",
        "        << setw(25) << \"COURSE NAME\" << \"|\" << endl;\n",
        "}\n",
        "\n",
        "void Student_manager::printLine(){\n",
        "  cout << \"+\";\n",
        "  for (int i = 0; i < 82; i++) cout << \"-\";\n",
        "  cout << \"+\" << endl;\n",
        "}"
      ],
      "metadata": {
        "id": "Li339bNd4-Wp",
        "colab": {
          "base_uri": "https://localhost:8080/"
        },
        "outputId": "e987b03b-42aa-40a5-ee74-8a2d86f37ac5"
      },
      "execution_count": 163,
      "outputs": [
        {
          "output_type": "stream",
          "name": "stdout",
          "text": [
            "Overwriting Student_manager.cpp\n"
          ]
        }
      ]
    },
    {
      "cell_type": "markdown",
      "source": [
        "# Auth_manager class - Handles Login/SignUp"
      ],
      "metadata": {
        "id": "Dxlc_Fyg6-5a"
      }
    },
    {
      "cell_type": "code",
      "source": [
        "%%writefile Auth_manager.h\n",
        "\n",
        "#ifndef AUTH_MANAGER_H\n",
        "#define AUTH_MANAGER_H\n",
        "\n",
        "#include \"Student_manager.h\"\n",
        "\n",
        "#include <iostream>\n",
        "using namespace std;\n",
        "\n",
        "class Auth_manager{\n",
        "  public:\n",
        "    //Other Functions\n",
        "    bool login(Student_manager&);\n",
        "    void signup(Student_manager&);\n",
        "    bool isValidUSMEmail(const string&);     // Checks if the email domain is correct\n",
        "    bool isValidPassword(const string&);     // Checks if the password combination is in uppercase, lowercase and digit\n",
        "    bool isUpper(char);                      // Checks the character if it is uppercase\n",
        "    bool isLower(char);                      // Checks the character if it is lowercase\n",
        "    bool isDigit(char);                      // Checks the character if it is digit\n",
        "    void profileSetUp(Student_manager&, string, string);  // Sets up a new Student profile and store to the Student linked-list\n",
        "    string toTitleCase(const string&);                    // Changes words to title case\n",
        "};\n",
        "\n",
        "#endif"
      ],
      "metadata": {
        "id": "RTP2_n055BZy",
        "colab": {
          "base_uri": "https://localhost:8080/"
        },
        "outputId": "a47fbb35-fe26-4637-89f4-21efa0ce18b7"
      },
      "execution_count": 143,
      "outputs": [
        {
          "output_type": "stream",
          "name": "stdout",
          "text": [
            "Overwriting Auth_manager.h\n"
          ]
        }
      ]
    },
    {
      "cell_type": "code",
      "source": [
        "%%writefile Auth_manager.cpp\n",
        "\n",
        "#include \"Auth_manager.h\"\n",
        "#include \"Student.h\"\n",
        "\n",
        "// Login function\n",
        "// Prompts user for email and password then check if it match the system credentials\n",
        "// @returns true if login is successful, else false\n",
        "// - sm: the Student linked-List\n",
        "bool Auth_manager::login(Student_manager& sm){\n",
        "  string email, password;\n",
        "  cout << \"+-----------------------------------+\" << endl;\n",
        "  cout << \"|               Login               |\" << endl;\n",
        "  cout << \"+-----------------------------------+\" << endl;\n",
        "  cout << \"Email: \";\n",
        "  cin >> email;\n",
        "  cout << \"Password: \";\n",
        "  cin >> password;\n",
        "\n",
        "  // Check login credentials\n",
        "  Node* stud = sm.searchData(EMAIL, email); // search for the Student in the student list with the email\n",
        "  try{\n",
        "    if(stud == nullptr){ //if student not found\n",
        "      string exceptionString = \"Student not found for email: \" + email;\n",
        "      throw exceptionString;\n",
        "    }\n",
        "    else{ //if student found\n",
        "      if(stud->data->getPassword() == password){  // compare if the password entered is correct\n",
        "        cout << \"Login successful!\" << endl;\n",
        "        return true;\n",
        "      }\n",
        "      else{\n",
        "        string exceptionString = \"Incorrect password!\";\n",
        "        throw exceptionString;\n",
        "      }\n",
        "    }\n",
        "  }\n",
        "  catch (string errMsg) {\n",
        "    cout << \"< \" << errMsg << \" >\" << endl;\n",
        "    return false;\n",
        "  }\n",
        "  catch (...) {\n",
        "    cout << \"AuthManager Error: Unknown exception occurred during login.\" << endl;\n",
        "    return false;\n",
        "  }\n",
        "}\n",
        "\n",
        "// Sign up function that creates new Student profile and store in list\n",
        "// - sm: Student linked-list\n",
        "void Auth_manager::signup(Student_manager& sm){\n",
        "  string email, password;\n",
        "  bool valid = true;  // valid status of user input email and pw\n",
        "\n",
        "  cout << \"+-------------------------------------+\" << endl;\n",
        "  cout << \"|               Sign Up               |\" << endl;\n",
        "  cout << \"+-------------------------------------+\" << endl;\n",
        "  cout << \"Enter (-1) anytime to return to login page.\" << endl << endl;\n",
        "  do{\n",
        "    cout << \"Enter Email: \";\n",
        "    cin >> email;\n",
        "\n",
        "    if (email == \"-1\") { // Maybe not needed if the undo function includes here\n",
        "      cout << \"Returning to login page...\" << endl;\n",
        "      return;\n",
        "    }\n",
        "\n",
        "    try{ // email input validation\n",
        "      if(sm.searchData(EMAIL, email) != nullptr){ // check if email already exist\n",
        "        string exceptionString = \"< Email already exist! >\";\n",
        "        throw exceptionString;\n",
        "      }\n",
        "      else if(!isValidUSMEmail(email)){ // check if email is valid format\n",
        "        string exceptionString = \"< Invalid email domain! Please use a student email! >\";\n",
        "        throw exceptionString;\n",
        "      }\n",
        "      else if(email.length() > 30){ // email too long\n",
        "        string exceptionString = \"< Email too long! >\";\n",
        "        throw exceptionString;\n",
        "      }\n",
        "      else{\n",
        "        valid = true;\n",
        "      }\n",
        "    }\n",
        "    catch (string errMsg) {\n",
        "      cout << errMsg << endl;\n",
        "      valid = false;\n",
        "    }\n",
        "  }while(!valid);\n",
        "\n",
        "  do{\n",
        "    cout << \"** Password must contain uppercase, lowercase and digit\" << endl;\n",
        "    cout << \"Enter Password: \";\n",
        "    cin >> password;\n",
        "\n",
        "    if (password == \"-1\") { // Maybe not needed if the undo function includes here\n",
        "      cout << \"Returning to login page...\" << endl;\n",
        "      return;\n",
        "    }\n",
        "\n",
        "    try{ // password input validation\n",
        "      if(password.length() < 8){ // password too short\n",
        "        string exceptionString = \"< Password too short! >\";\n",
        "        throw exceptionString;\n",
        "      }\n",
        "      else if(password.length() > 20){ // password too long\n",
        "        string exceptionString = \"< Password too long! >\";\n",
        "        throw exceptionString;\n",
        "      }\n",
        "      else if(!isValidPassword(password)){ // check if password has upper, lower and digit\n",
        "        string exceptionString = \"< Password must contain uppercase, lowercase and digit! >\";\n",
        "        throw exceptionString;\n",
        "      }\n",
        "      else{\n",
        "        valid = true;\n",
        "      }\n",
        "    }\n",
        "    catch (string errMsg) {\n",
        "      cout << \"< Invalid password format! >\" << endl;\n",
        "      cout << errMsg << endl;\n",
        "      valid = false;\n",
        "    }\n",
        "  }while(!valid);\n",
        "\n",
        "  profileSetUp(sm, email, password); // create new profile\n",
        "  cout << \"Returning to login page...\" << endl;\n",
        "}\n",
        "\n",
        "// Checks if the email domain is correct\n",
        "bool Auth_manager::isValidUSMEmail(const string& email) {\n",
        "  string domain = \"@student.usm.my\";\n",
        "  string temp = \"\";\n",
        "  bool getDomain = false;\n",
        "\n",
        "  // Check length of email input\n",
        "  if (email.length() > domain.length() + 2) {\n",
        "    // Extract the domain of email input\n",
        "    for (char ch : email){\n",
        "      if (ch == '@') getDomain = true; //indicate @\n",
        "      if (getDomain) temp += ch;  //store starting from @\n",
        "    }\n",
        "    return (temp == domain);\n",
        "  }\n",
        "  return false;\n",
        "}\n",
        "\n",
        "// Checks if the password combination is in uppercase, lowercase and digit\n",
        "// - pw: password input from user\n",
        "bool Auth_manager::isValidPassword(const string& pw) {\n",
        "  bool hasUpper = false, hasLower = false, hasDigit = false;\n",
        "\n",
        "  for (char ch : pw) {\n",
        "    if (isUpper(ch)) hasUpper = true;\n",
        "    else if (isLower(ch)) hasLower = true;\n",
        "    else if (isDigit(ch)) hasDigit = true;\n",
        "  }\n",
        "  return hasUpper && hasLower && hasDigit;\n",
        "}\n",
        "\n",
        "// Checks the character if it is uppercase, lowercase or digit\n",
        "bool Auth_manager::isUpper(char ch) {return ch >= 'A' && ch <= 'Z';}\n",
        "bool Auth_manager::isLower(char ch) {return ch >= 'a' && ch <= 'z';}\n",
        "bool Auth_manager::isDigit(char ch) {return ch >= '0' && ch <= '9';}\n",
        "\n",
        "// Function that sets up a new Student profile and store to the Student linked-list\n",
        "void Auth_manager::profileSetUp(Student_manager& sm, string email, string password){\n",
        "  string matricNo, fullName, courseName;\n",
        "  bool valid = true;\n",
        "  cout << \"+---------------------------------------+\" << endl;\n",
        "  cout << \"|           New Profile Setup           |\" << endl;\n",
        "  cout << \"+---------------------------------------+\" << endl;\n",
        "\n",
        "  do{ // do-while for matric number input\n",
        "    cout << \"Enter Matric Number (8-digit): \";\n",
        "    cin >> matricNo;\n",
        "\n",
        "    try{ // matric number input validation\n",
        "      if(matricNo.length() != 8){ // check matric number length\n",
        "        string exceptionString = \"< Matric number must be 8 digits! >\";\n",
        "        throw exceptionString;\n",
        "      }\n",
        "      else if(sm.searchData(MATRIC, matricNo) != nullptr){ // check if matric number already exist\n",
        "        string exceptionString = \"< Matric number already exist! >\";\n",
        "        throw exceptionString;\n",
        "      }\n",
        "      else{\n",
        "        valid = true;\n",
        "      }\n",
        "    }\n",
        "    catch (string errMsg) {\n",
        "      cout << errMsg << endl;\n",
        "      valid = false;\n",
        "    }\n",
        "  }while(!valid);\n",
        "\n",
        "  do{ // do-while for full name input\n",
        "    cout << \"Enter Full Name: \";\n",
        "    cin.ignore();\n",
        "    getline(cin, fullName);\n",
        "\n",
        "    fullName = toTitleCase(fullName); // Convert to title case\n",
        "\n",
        "    try{\n",
        "      if(sm.searchData(NAME, fullName) != nullptr){ // check if name already exist\n",
        "        string exceptionString = \"< Name already exist! >\";\n",
        "        throw exceptionString;\n",
        "      }\n",
        "      else{\n",
        "        valid = true;\n",
        "      }\n",
        "    }\n",
        "    catch (string errMsg) {\n",
        "      cout << errMsg << endl;\n",
        "      valid = false;\n",
        "    }\n",
        "  }while(!valid);\n",
        "\n",
        "\n",
        "  int choice;\n",
        "  do{ // do-while for course input\n",
        "    cout << \"Select your course: \" << endl;\n",
        "    cout << \"[1] Computing Infrastructure\" << endl;\n",
        "    cout << \"[2] Intelligent Computing\" << endl;\n",
        "    cout << \"[3] Software Engineering\" << endl;\n",
        "    cout << \"Enter your choice: \";\n",
        "    cin >> choice;\n",
        "\n",
        "    switch(choice){\n",
        "      case 1: courseName = \"Computing Infrastructure\";\n",
        "        break;\n",
        "      case 2: courseName = \"Intelligent Computing\";\n",
        "        break;\n",
        "      case 3: courseName = \"Software Engineering\";\n",
        "        break;\n",
        "      default: cout << \"< Invalid choice. Please try again. >\" << endl;\n",
        "        break;\n",
        "    }\n",
        "  }while(choice < 1 && choice > 3);\n",
        "\n",
        "  // prompt user to confirm data\n",
        "  cout << \"Matric No: \" << matricNo << endl;\n",
        "  cout << \"Full Name: \" << fullName << endl;\n",
        "  cout << \"Course: \" << courseName << endl;\n",
        "  cout << \"Confirm data (Y/N): \";\n",
        "  char confirm;\n",
        "  cin >> confirm;\n",
        "\n",
        "  bool saveStudent = (confirm == 'y' || confirm == 'Y') ? true : false;\n",
        "  if(saveStudent){\n",
        "    Student* stud = new Student(matricNo, fullName, email, password, courseName);\n",
        "    sm.sortedInsert(stud);\n",
        "    cout << \"New profile sign up successfully!\" << endl;\n",
        "  }\n",
        "  else{\n",
        "    cout << \"New profile sign up cancelled.\" << endl;\n",
        "  }\n",
        "}\n",
        "\n",
        "// Changes words to title case (First character of every word is upper and others is lower)\n",
        "// - input: the words to be changed\n",
        "string Auth_manager::toTitleCase(const string& input) {\n",
        "  string result = input;\n",
        "  bool newWord = true;\n",
        "\n",
        "  for (int i = 0; i < result.length(); ++i) {\n",
        "    char& ch = result[i];\n",
        "\n",
        "    if (ch == ' ' || ch == '-') {\n",
        "      newWord = true; // The next character is the start of a new word\n",
        "    }\n",
        "    else { // Convert characters with ASCII value\n",
        "      if (newWord && ch >= 'a' && ch <= 'z') {ch -= 32;}        // convert uppercase\n",
        "      else if (!newWord && ch >= 'A' && ch <= 'Z') {ch += 32;}  // convert lowercase\n",
        "      newWord = false;\n",
        "    }\n",
        "  }\n",
        "  return result;\n",
        "}"
      ],
      "metadata": {
        "id": "VJFsXDGv5Eof",
        "colab": {
          "base_uri": "https://localhost:8080/"
        },
        "outputId": "219f384b-7359-4a14-88e7-66963d7a316f"
      },
      "execution_count": 171,
      "outputs": [
        {
          "output_type": "stream",
          "name": "stdout",
          "text": [
            "Overwriting Auth_manager.cpp\n"
          ]
        }
      ]
    },
    {
      "cell_type": "markdown",
      "source": [
        "# UndoStack class - (Stack)"
      ],
      "metadata": {
        "id": "WWUxnjDs7LNL"
      }
    },
    {
      "cell_type": "code",
      "source": [
        "%%writefile UndoStack.h"
      ],
      "metadata": {
        "id": "cLLaFjC35JJf",
        "colab": {
          "base_uri": "https://localhost:8080/"
        },
        "outputId": "944b2254-ba2b-40c1-e8fc-ee438fd79cb6"
      },
      "execution_count": 145,
      "outputs": [
        {
          "output_type": "stream",
          "name": "stdout",
          "text": [
            "Overwriting UndoStack.h\n"
          ]
        }
      ]
    },
    {
      "cell_type": "code",
      "source": [
        "%%writefile UndoStack.cpp"
      ],
      "metadata": {
        "id": "OKL0Rvfu5MsB",
        "colab": {
          "base_uri": "https://localhost:8080/"
        },
        "outputId": "61b0070c-f3b2-4629-d29b-45a2156fa08b"
      },
      "execution_count": 146,
      "outputs": [
        {
          "output_type": "stream",
          "name": "stdout",
          "text": [
            "Overwriting UndoStack.cpp\n"
          ]
        }
      ]
    },
    {
      "cell_type": "markdown",
      "source": [
        "# MessageQueue class - (Queue)"
      ],
      "metadata": {
        "id": "QYyo9pZz7Vy6"
      }
    },
    {
      "cell_type": "code",
      "source": [
        "%%writefile MessageQueue.h"
      ],
      "metadata": {
        "id": "oRaQvcOh5Wmg",
        "colab": {
          "base_uri": "https://localhost:8080/"
        },
        "outputId": "5475ec63-788f-4f0c-e10b-3f5d1d0e46f6"
      },
      "execution_count": 147,
      "outputs": [
        {
          "output_type": "stream",
          "name": "stdout",
          "text": [
            "Overwriting MessageQueue.h\n"
          ]
        }
      ]
    },
    {
      "cell_type": "code",
      "source": [
        "%%writefile MessageQueue.cpp"
      ],
      "metadata": {
        "id": "xQktPG005arf",
        "colab": {
          "base_uri": "https://localhost:8080/"
        },
        "outputId": "24674b3d-68c5-4169-c82c-717f8231a3b0"
      },
      "execution_count": 148,
      "outputs": [
        {
          "output_type": "stream",
          "name": "stdout",
          "text": [
            "Overwriting MessageQueue.cpp\n"
          ]
        }
      ]
    },
    {
      "cell_type": "markdown",
      "source": [
        "# GroupChatCLL class - (Circular Linked List)"
      ],
      "metadata": {
        "id": "NJN864_X7zB5"
      }
    },
    {
      "cell_type": "code",
      "source": [
        "%%writefile GroupChatCLL.h"
      ],
      "metadata": {
        "id": "lncZ4Riy5doq",
        "colab": {
          "base_uri": "https://localhost:8080/"
        },
        "outputId": "7459bcf7-4f82-497a-a9b0-11ff9a61bc59"
      },
      "execution_count": 149,
      "outputs": [
        {
          "output_type": "stream",
          "name": "stdout",
          "text": [
            "Overwriting GroupChatCLL.h\n"
          ]
        }
      ]
    },
    {
      "cell_type": "code",
      "source": [
        "%%writefile GroupChatCLL.cpp"
      ],
      "metadata": {
        "id": "MA8BKJyY5kvG",
        "colab": {
          "base_uri": "https://localhost:8080/"
        },
        "outputId": "8d73392e-aaa5-4b3e-c3ab-b865257aa3e4"
      },
      "execution_count": 150,
      "outputs": [
        {
          "output_type": "stream",
          "name": "stdout",
          "text": [
            "Overwriting GroupChatCLL.cpp\n"
          ]
        }
      ]
    },
    {
      "cell_type": "markdown",
      "source": [
        "# Main - Entry point"
      ],
      "metadata": {
        "id": "vaoVxiDt76iR"
      }
    },
    {
      "cell_type": "code",
      "source": [
        "%%writefile main.cpp\n",
        "\n",
        "#include \"User.h\"\n",
        "#include \"Student.h\"\n",
        "#include \"Student_manager.h\"\n",
        "#include \"Auth_manager.h\"\n",
        "#include \"File_manager.h\"\n",
        "#include \"Menu.h\"\n",
        "\n",
        "int main(){\n",
        "\n",
        "  Student_manager* sm = new Student_manager();\n",
        "  Auth_manager* am = new Auth_manager();\n",
        "  File_manager* fm = new File_manager();\n",
        "  Menu* menu = new Menu();\n",
        "\n",
        "  // Read files\n",
        "  fm->readProfileAndCredentials(\"profiles.txt\", \"credentials.txt\", *sm); // Read Student and Credential data\n",
        "\n",
        "  int loginOpt = 0, mainOpt = 0, studMenuOpt = 0;\n",
        "  bool loginSuccess = false;\n",
        "\n",
        "  do{\n",
        "    menu->displayLoginMenu(); // Print Login Page\n",
        "    cout << \"Enter your choice: \";\n",
        "    cin >> loginOpt;\n",
        "\n",
        "    switch(loginOpt){\n",
        "      case 1:\n",
        "        loginSuccess = am->login(*sm);\n",
        "\n",
        "        if(loginSuccess){ // if success to login\n",
        "          do{\n",
        "            menu->displayMainMenu(); // Print Main Menu\n",
        "            cout << \"Enter your choice: \";\n",
        "            cin >> mainOpt;\n",
        "\n",
        "            switch(mainOpt){\n",
        "              case 1: // View Student Profiles\n",
        "                sm->printAscList();\n",
        "                do{\n",
        "                  menu->displayStudentMenu(); // Print Student Menu\n",
        "                  cout << \"Enter your choice: \";\n",
        "                  cin >> studMenuOpt;\n",
        "\n",
        "                  switch(studMenuOpt){\n",
        "                    case 1: // Sort by Matric Number\n",
        "                      sm->sortList(MATRIC);\n",
        "                      sm->printAscList();\n",
        "                      break;\n",
        "                    case 2: // Sort by Name\n",
        "                      sm->sortList(NAME);\n",
        "                      sm->printAscList();\n",
        "                      break;\n",
        "                    case 3: // Sort by Course\n",
        "                      sm->sortList(COURSE);\n",
        "                      sm->printAscList();\n",
        "                      break;\n",
        "                    case 4: // Print Ascending\n",
        "                      sm->printAscList();\n",
        "                      break;\n",
        "                    case 5: // Print Descending\n",
        "                      sm->printDescList();\n",
        "                      break;\n",
        "                    case 6: // Back to Main Menu\n",
        "                      sm->sortList(MATRIC); // reset the list to sort by matric number\n",
        "                      cout << \"Returning to Main Menu...\" << endl;\n",
        "                      break;\n",
        "                    default:\n",
        "                      cout << \"Invalid choice. Please try again.\" << endl;\n",
        "                    }\n",
        "                  }while(studMenuOpt != 6);\n",
        "\n",
        "                break;\n",
        "              case 2: // View Friend List\n",
        "                break;\n",
        "              case 3: // Send Message\n",
        "                break;\n",
        "              case 4: // View Messages\n",
        "                break;\n",
        "              case 5: // Create Group\n",
        "                break;\n",
        "              case 6: // View Group Messages\n",
        "                break;\n",
        "              case 7: // Logout\n",
        "                loginSuccess = false;\n",
        "                cout << \"Logging out...\" << endl;\n",
        "                break;\n",
        "              default:\n",
        "                cout << \"Invalid choice. Please try again.\" << endl;\n",
        "            }\n",
        "          }while(mainOpt != 7);\n",
        "        }\n",
        "        break;\n",
        "      case 2: am->signup(*sm);\n",
        "        break;\n",
        "      case 3: cout << \"Exiting program...\" << endl;\n",
        "        // Save files\n",
        "        break;\n",
        "      default: cout << \"Invalid choice. Please try again.\" << endl;\n",
        "    }\n",
        "  } while (loginOpt != 3);\n",
        "\n",
        "  // Free up memory\n",
        "  delete sm;\n",
        "  delete am;\n",
        "  delete fm;\n",
        "  delete menu;\n",
        "\n",
        "  return 0;\n",
        "}"
      ],
      "metadata": {
        "id": "MGeNZIHV3zfY",
        "colab": {
          "base_uri": "https://localhost:8080/"
        },
        "outputId": "c06d7973-88b9-40a4-ac53-b31e5276f39d"
      },
      "execution_count": 151,
      "outputs": [
        {
          "output_type": "stream",
          "name": "stdout",
          "text": [
            "Overwriting main.cpp\n"
          ]
        }
      ]
    },
    {
      "cell_type": "code",
      "source": [
        "%%shell\n",
        "g++ User.h User.cpp Student.h Student.cpp Menu.h Menu.cpp Student_manager.h Student_manager.cpp Auth_manager.h Auth_manager.cpp File_manager.h File_manager.cpp main.cpp -o NetworkingCLI.elf\n",
        "./NetworkingCLI.elf"
      ],
      "metadata": {
        "id": "RRo_Jpje5w9m",
        "colab": {
          "base_uri": "https://localhost:8080/"
        },
        "outputId": "5ca9b0e7-8912-4a22-94c2-3f80335c5694"
      },
      "execution_count": 172,
      "outputs": [
        {
          "output_type": "stream",
          "name": "stdout",
          "text": [
            "+--------------------------------------------+\n",
            "|     Student Networking CLI Application     |\n",
            "+--------------------------------------------+\n",
            "| [1] Login                                  |\n",
            "| [2] Register                               |\n",
            "| [3] Exit                                   |\n",
            "+--------------------------------------------+\n",
            "Enter your choice: 2\n",
            "+-------------------------------------+\n",
            "|               Sign Up               |\n",
            "+-------------------------------------+\n",
            "Enter (-1) anytime to return to login page.\n",
            "\n",
            "Enter Email: kathy@gmai.com\n",
            "< Invalid email domain! Please use a student email! >\n",
            "Enter Email: kathy@student.usm.my\n",
            "** Password must contain uppercase, lowercase and digit\n",
            "Enter Password: abc123\n",
            "< Invalid password format! >\n",
            "< Password too short! >\n",
            "** Password must contain uppercase, lowercase and digit\n",
            "Enter Password: abcd1234\n",
            "< Invalid password format! >\n",
            "< Password must contain uppercase, lowercase and digit! >\n",
            "** Password must contain uppercase, lowercase and digit\n",
            "Enter Password: Abc123456\n",
            "+---------------------------------------+\n",
            "|           New Profile Setup           |\n",
            "+---------------------------------------+\n",
            "Enter Matric Number (8-digit): 2345\n",
            "< Matric number must be 8 digits! >\n",
            "Enter Matric Number (8-digit): 12456789\n",
            "Enter Full Name: kaThy lum\n",
            "Select your course: \n",
            "[1] Computing Infrastructure\n",
            "[2] Intelligent Computing\n",
            "[3] Software Engineering\n",
            "Enter your choice: 3\n",
            "Matric No: 12456789\n",
            "Full Name: Kathy Lum\n",
            "Course: Software Engineering\n",
            "Confirm data (Y/N): n\n",
            "New profile sign up cancelled.\n",
            "Returning to login page...\n",
            "+--------------------------------------------+\n",
            "|     Student Networking CLI Application     |\n",
            "+--------------------------------------------+\n",
            "| [1] Login                                  |\n",
            "| [2] Register                               |\n",
            "| [3] Exit                                   |\n",
            "+--------------------------------------------+\n",
            "Enter your choice: 1\n",
            "+-----------------------------------+\n",
            "|               Login               |\n",
            "+-----------------------------------+\n",
            "Email: kathy@student.usm.my\n",
            "Password: Abc123456\n",
            "< Student not found for email: kathy@student.usm.my >\n",
            "+--------------------------------------------+\n",
            "|     Student Networking CLI Application     |\n",
            "+--------------------------------------------+\n",
            "| [1] Login                                  |\n",
            "| [2] Register                               |\n",
            "| [3] Exit                                   |\n",
            "+--------------------------------------------+\n",
            "Enter your choice: 3\n",
            "Exiting program...\n"
          ]
        },
        {
          "output_type": "execute_result",
          "data": {
            "text/plain": []
          },
          "metadata": {},
          "execution_count": 172
        }
      ]
    },
    {
      "cell_type": "markdown",
      "source": [
        "# Example Test Cases"
      ],
      "metadata": {
        "id": "Yv2Oktdq5q6w"
      }
    },
    {
      "cell_type": "code",
      "source": [
        "%%shell"
      ],
      "metadata": {
        "id": "r4OORxDc8PRm"
      },
      "execution_count": null,
      "outputs": []
    }
  ]
}